{
 "cells": [
  {
   "cell_type": "markdown",
   "metadata": {},
   "source": [
    "# Predicting Iowa House Sales Price (Capstone - I)"
   ]
  },
  {
   "cell_type": "code",
   "execution_count": 23,
   "metadata": {},
   "outputs": [],
   "source": [
    "#importing the required libraries\n",
    "import pandas as pd\n",
    "import numpy as np\n",
    "import matplotlib.pyplot as plt\n",
    "import seaborn as sns\n",
    "\n",
    "%matplotlib inline\n",
    "sns.set(style = 'darkgrid')\n",
    "\n",
    "import warnings\n",
    "warnings.filterwarnings('ignore')\n",
    "pd.set_option('display.max_rows', None)\n",
    "pd.set_option('display.max_columns', None)"
   ]
  },
  {
   "cell_type": "code",
   "execution_count": null,
   "metadata": {},
   "outputs": [],
   "source": [
    "#import test train data\n",
    "train = pd.read_csv('train.csv')\n",
    "test = pd.read_csv('test.csv')\n",
    "\n",
    "\n",
    "#defining a columns test in test train to track which rows are test and train\n",
    "train['test'] = 0\n",
    "test['test'] = 1\n",
    "\n",
    "\n",
    "#creating a unified df for test train\n",
    "df = pd.concat([train, test], axis=0,ignore_index=True )\n",
    "\n",
    "#df.reset_index(drop=True)\n",
    "pd.set_option('display.max_columns', None)\n",
    "df.shape"
   ]
  },
  {
   "cell_type": "markdown",
   "metadata": {},
   "source": [
    "#### Replacing spaces from column names in df"
   ]
  },
  {
   "cell_type": "code",
   "execution_count": null,
   "metadata": {},
   "outputs": [],
   "source": [
    "df.columns = df.columns.str.replace(\" \",\"_\")"
   ]
  },
  {
   "cell_type": "markdown",
   "metadata": {},
   "source": [
    "# A. Imputing Missing Values "
   ]
  },
  {
   "cell_type": "code",
   "execution_count": null,
   "metadata": {},
   "outputs": [],
   "source": [
    "df.head()"
   ]
  },
  {
   "cell_type": "code",
   "execution_count": null,
   "metadata": {},
   "outputs": [],
   "source": [
    "#checking columns with null values\n",
    "df.isnull().sum()[df.isnull().sum()>0].sort_values(ascending=False)"
   ]
  },
  {
   "cell_type": "markdown",
   "metadata": {},
   "source": [
    "Missing values for 'FireplaceQu','PoolQC','Fence','MiscFeature' means these features are not present in the data. (Source: data description)"
   ]
  },
  {
   "cell_type": "markdown",
   "metadata": {},
   "source": [
    "#### PoolQC"
   ]
  },
  {
   "cell_type": "code",
   "execution_count": null,
   "metadata": {},
   "outputs": [],
   "source": [
    "df[(df['PoolArea'] > 0) & (df['PoolQC'].isnull())]"
   ]
  },
  {
   "cell_type": "code",
   "execution_count": null,
   "metadata": {},
   "outputs": [],
   "source": [
    "df['PoolQC'][(df['PoolArea'] > 0) & (df['PoolQC'].isnull())] = df['PoolQC'].mode()[0]"
   ]
  },
  {
   "cell_type": "code",
   "execution_count": null,
   "metadata": {},
   "outputs": [],
   "source": [
    "df['PoolQC'] = df['PoolQC'].fillna('None')"
   ]
  },
  {
   "cell_type": "markdown",
   "metadata": {},
   "source": [
    "#### MiscFeature     "
   ]
  },
  {
   "cell_type": "code",
   "execution_count": null,
   "metadata": {},
   "outputs": [],
   "source": [
    "df[(df['MiscVal'] > 0) & (df['MiscFeature'].isnull())]"
   ]
  },
  {
   "cell_type": "code",
   "execution_count": null,
   "metadata": {
    "scrolled": true
   },
   "outputs": [],
   "source": [
    "sns.distplot(df['MiscVal'][df['MiscVal']>0])"
   ]
  },
  {
   "cell_type": "code",
   "execution_count": null,
   "metadata": {},
   "outputs": [],
   "source": [
    "df['MiscFeature'][(df['MiscVal'] > 0) & (df['MiscFeature'].isnull())] = df['MiscFeature'].fillna(df['MiscFeature'].mode()[0])"
   ]
  },
  {
   "cell_type": "code",
   "execution_count": null,
   "metadata": {},
   "outputs": [],
   "source": [
    "df['MiscFeature'] = df['MiscFeature'].fillna('None')"
   ]
  },
  {
   "cell_type": "markdown",
   "metadata": {},
   "source": [
    "#### Alley, Fence"
   ]
  },
  {
   "cell_type": "code",
   "execution_count": null,
   "metadata": {},
   "outputs": [],
   "source": [
    "df[['Fence','Alley']] = df[['Fence','Alley']].fillna('None')"
   ]
  },
  {
   "cell_type": "markdown",
   "metadata": {},
   "source": [
    "#### FireplaceQu"
   ]
  },
  {
   "cell_type": "code",
   "execution_count": null,
   "metadata": {},
   "outputs": [],
   "source": [
    "df[(df['Fireplaces'] > 0) & (df['FireplaceQu'].isnull())]"
   ]
  },
  {
   "cell_type": "code",
   "execution_count": null,
   "metadata": {},
   "outputs": [],
   "source": [
    "df['FireplaceQu'] = df['FireplaceQu'].fillna('None')"
   ]
  },
  {
   "cell_type": "markdown",
   "metadata": {},
   "source": [
    "#### Garage variables"
   ]
  },
  {
   "cell_type": "code",
   "execution_count": null,
   "metadata": {},
   "outputs": [],
   "source": [
    "df[(df['GarageArea'] > 0) & (df['GarageYrBlt'].isnull())]"
   ]
  },
  {
   "cell_type": "code",
   "execution_count": null,
   "metadata": {},
   "outputs": [],
   "source": [
    "df['GarageYrBlt'][(df['GarageArea'] > 0) & (df['GarageYrBlt'].isnull())] = df['YearBuilt'][(df['GarageArea'] > 0) & (df['GarageYrBlt'].isnull())]"
   ]
  },
  {
   "cell_type": "code",
   "execution_count": null,
   "metadata": {},
   "outputs": [],
   "source": [
    "df[['GarageCars','GarageCond']][df['GarageYrBlt'].isnull()].sum()"
   ]
  },
  {
   "cell_type": "code",
   "execution_count": null,
   "metadata": {},
   "outputs": [],
   "source": [
    "df[['GarageCars','GarageCond']][df['GarageYrBlt'].isnull()].sum()"
   ]
  },
  {
   "cell_type": "code",
   "execution_count": null,
   "metadata": {},
   "outputs": [],
   "source": [
    "df[['GarageFinish','GarageQual','GarageType' ]][df['GarageYrBlt'].isnull()].sum()"
   ]
  },
  {
   "cell_type": "code",
   "execution_count": null,
   "metadata": {},
   "outputs": [],
   "source": [
    "df[(df['GarageType'].notnull()) & (df['GarageYrBlt'].isnull())]"
   ]
  },
  {
   "cell_type": "code",
   "execution_count": null,
   "metadata": {},
   "outputs": [],
   "source": [
    "df[(df['GarageType'].notnull()) & (df['GarageFinish'].isnull())]"
   ]
  },
  {
   "cell_type": "code",
   "execution_count": null,
   "metadata": {},
   "outputs": [],
   "source": [
    "df['GarageCond'][df['GarageYrBlt']<1960].mode()"
   ]
  },
  {
   "cell_type": "code",
   "execution_count": null,
   "metadata": {},
   "outputs": [],
   "source": [
    "df.loc[2126,'GarageCond'] = df['GarageCond'][df['GarageYrBlt']<1960].mode()[0]"
   ]
  },
  {
   "cell_type": "code",
   "execution_count": null,
   "metadata": {},
   "outputs": [],
   "source": [
    "df.loc[2126,'GarageFinish'] = df['GarageFinish'][df['GarageYrBlt']<1960].mode()[0]"
   ]
  },
  {
   "cell_type": "code",
   "execution_count": null,
   "metadata": {},
   "outputs": [],
   "source": [
    "df.loc[2126,'GarageQual'] = df['GarageQual'][df['GarageYrBlt']<1960].mode()[0]"
   ]
  },
  {
   "cell_type": "markdown",
   "metadata": {},
   "source": [
    "Checking for GarageType not null but GarageQual is null"
   ]
  },
  {
   "cell_type": "code",
   "execution_count": null,
   "metadata": {},
   "outputs": [],
   "source": [
    "df[df['GarageQual'].isnull() & df['GarageType'].notnull()]"
   ]
  },
  {
   "cell_type": "code",
   "execution_count": null,
   "metadata": {},
   "outputs": [],
   "source": [
    "df['GarageType'][df['GarageQual'].isnull() & df['GarageType'].notnull()] = np.nan"
   ]
  },
  {
   "cell_type": "code",
   "execution_count": null,
   "metadata": {},
   "outputs": [],
   "source": []
  },
  {
   "cell_type": "markdown",
   "metadata": {},
   "source": [
    "GarageArea not null but  GarageCond is null"
   ]
  },
  {
   "cell_type": "code",
   "execution_count": null,
   "metadata": {},
   "outputs": [],
   "source": [
    "df[df['GarageArea'].isnull()]"
   ]
  },
  {
   "cell_type": "code",
   "execution_count": null,
   "metadata": {},
   "outputs": [],
   "source": [
    "df[['GarageArea','GarageCars']][df['GarageQual'].isnull()].sum()"
   ]
  },
  {
   "cell_type": "markdown",
   "metadata": {},
   "source": [
    "#### Now we can replace all remaining missing garage variables with either 0 or None"
   ]
  },
  {
   "cell_type": "code",
   "execution_count": null,
   "metadata": {},
   "outputs": [],
   "source": [
    "df[(df['GarageCars'] ==0) & df['GarageYrBlt'].notnull()].head()"
   ]
  },
  {
   "cell_type": "code",
   "execution_count": null,
   "metadata": {},
   "outputs": [],
   "source": [
    "df.head()"
   ]
  },
  {
   "cell_type": "code",
   "execution_count": null,
   "metadata": {},
   "outputs": [],
   "source": [
    "df[['GarageArea','GarageCars']] = df[['GarageArea','GarageCars']].fillna(0)"
   ]
  },
  {
   "cell_type": "code",
   "execution_count": null,
   "metadata": {},
   "outputs": [],
   "source": [
    "df['GarageCond'] = df['GarageCond'].fillna(df['GarageCond'].mode()[0])\n",
    "df['GarageQual'] = df['GarageQual'].fillna(df['GarageQual'].mode()[0])\n",
    "df['GarageType'] = df['GarageType'].fillna(df['GarageType'].mode()[0])\n",
    "df['GarageFinish'] = df['GarageFinish'].fillna(df['GarageFinish'].mode()[0])"
   ]
  },
  {
   "cell_type": "code",
   "execution_count": null,
   "metadata": {},
   "outputs": [],
   "source": [
    "df[df['GarageYrBlt'] == df['GarageYrBlt'].max()]"
   ]
  },
  {
   "cell_type": "code",
   "execution_count": null,
   "metadata": {},
   "outputs": [],
   "source": [
    "df['GarageYrBlt'][df['GarageYrBlt'] == df['GarageYrBlt'].max()] = df['YearBuilt'][df['GarageYrBlt'] == df['GarageYrBlt'].max()]"
   ]
  },
  {
   "cell_type": "code",
   "execution_count": null,
   "metadata": {},
   "outputs": [],
   "source": [
    "df['GarageYrBlt'] = df['GarageYrBlt'].fillna(0)"
   ]
  },
  {
   "cell_type": "code",
   "execution_count": null,
   "metadata": {},
   "outputs": [],
   "source": [
    "df.isnull().sum()[df.isnull().sum()>0]"
   ]
  },
  {
   "cell_type": "markdown",
   "metadata": {},
   "source": [
    "#### LotFrontage\n",
    "\n",
    "Replacing LotFrontage with the mean of the neighbourhood, as each neighborhood is likely to have similar LotFrontage"
   ]
  },
  {
   "cell_type": "code",
   "execution_count": null,
   "metadata": {},
   "outputs": [],
   "source": [
    "df['LotFrontage'] = df.groupby('Neighborhood')['LotFrontage'].transform(lambda x: x.fillna(x.median()))"
   ]
  },
  {
   "cell_type": "markdown",
   "metadata": {},
   "source": [
    "##### MasVnrArea, MasVnrType\n",
    "\n",
    "MasVnrArea NaN means there is no masonry done and should be None\n",
    "If MasVnrArea = 0, then MasVnrType is None, so we will impute the missing values for these 2 variables as zero and None"
   ]
  },
  {
   "cell_type": "code",
   "execution_count": null,
   "metadata": {},
   "outputs": [],
   "source": [
    "#replacing NaN with None\n",
    "df['MasVnrArea'][df['MasVnrArea'].isnull()] = 0\n",
    "df['MasVnrType'][(df['MasVnrType'].isnull()) | (df['MasVnrType'] == None)] = 'None'"
   ]
  },
  {
   "cell_type": "code",
   "execution_count": null,
   "metadata": {},
   "outputs": [],
   "source": [
    "# df.isnull().sum()[df.isnull().sum()>0]"
   ]
  },
  {
   "cell_type": "markdown",
   "metadata": {},
   "source": [
    "##### Basement columns\n",
    "From documentation we know that NA for BsmtCond and BsmtExposure means 'No Basement'"
   ]
  },
  {
   "cell_type": "code",
   "execution_count": null,
   "metadata": {},
   "outputs": [],
   "source": [
    "basement_columns = ['BsmtQual', 'BsmtCond', 'BsmtExposure', 'BsmtFinType1',\n",
    "                   'BsmtFinType2', 'BsmtFinSF1', 'BsmtFinSF2', 'BsmtUnfSF',\n",
    "                   'TotalBsmtSF']"
   ]
  },
  {
   "cell_type": "code",
   "execution_count": null,
   "metadata": {},
   "outputs": [],
   "source": [
    "temp = df[basement_columns][df[basement_columns].isnull().any(axis=1)]"
   ]
  },
  {
   "cell_type": "code",
   "execution_count": null,
   "metadata": {},
   "outputs": [],
   "source": [
    "temp[temp.isnull().sum(axis=1) < 5]"
   ]
  },
  {
   "cell_type": "code",
   "execution_count": null,
   "metadata": {},
   "outputs": [],
   "source": [
    "df.loc[332, 'BsmtFinType2'] = 'ALQ' #since smaller than SF1\n",
    "df.loc[948, 'BsmtExposure'] = 'No' \n",
    "df.loc[1487, 'BsmtExposure'] = 'No'\n",
    "df.loc[2040, 'BsmtCond'] = 'TA'\n",
    "df.loc[2185, 'BsmtCond'] = 'TA'\n",
    "df.loc[2217, 'BsmtQual'] = 'Po' #v small basement so let's do Poor.\n",
    "df.loc[2218, 'BsmtQual'] = 'Fa' #similar but a bit bigger.\n",
    "df.loc[2348, 'BsmtExposure'] = 'No' #unfinished bsmt so prob not.\n",
    "df.loc[2524, 'BsmtCond'] = 'Gd' #cause ALQ for bsmtfintype1"
   ]
  },
  {
   "cell_type": "code",
   "execution_count": null,
   "metadata": {},
   "outputs": [],
   "source": [
    "df[['BsmtCond','BsmtExposure']] = df[['BsmtCond','BsmtExposure']].fillna('None')"
   ]
  },
  {
   "cell_type": "markdown",
   "metadata": {},
   "source": [
    "##### "
   ]
  },
  {
   "cell_type": "code",
   "execution_count": null,
   "metadata": {},
   "outputs": [],
   "source": [
    "df['MSZoning'].value_counts()"
   ]
  },
  {
   "cell_type": "code",
   "execution_count": null,
   "metadata": {},
   "outputs": [],
   "source": [
    "df[df['Utilities'].isnull()]"
   ]
  },
  {
   "cell_type": "markdown",
   "metadata": {},
   "source": [
    "##### BsmtFinSF1, BsmtFinSF2, BsmtFullBath, BsmtHalfBath, BsmtQual, BsmtUnfSF. TotalBsmtSF\n",
    "\n",
    "BsmtFinSF1 and BsmtFinSF2 are missing, mostly implying that there is no basement and hence 0. Same holds true for BsmtFinType1 BsmtFinType2. BsmtFullBath, BsmtHalfBath, BsmtQual, BsmtUnfSF, TotalBsmtSF"
   ]
  },
  {
   "cell_type": "code",
   "execution_count": null,
   "metadata": {},
   "outputs": [],
   "source": [
    "df[['BsmtFinSF1','BsmtFinSF2']] = df[['BsmtFinSF1','BsmtFinSF2']].fillna(0)"
   ]
  },
  {
   "cell_type": "code",
   "execution_count": null,
   "metadata": {},
   "outputs": [],
   "source": [
    "df[['BsmtFinType1','BsmtFinType2']] = df[['BsmtFinType1','BsmtFinType2']].fillna('None')"
   ]
  },
  {
   "cell_type": "code",
   "execution_count": null,
   "metadata": {},
   "outputs": [],
   "source": [
    "df[['BsmtFullBath','BsmtHalfBath']] = df[['BsmtFullBath','BsmtHalfBath']].fillna(0)"
   ]
  },
  {
   "cell_type": "code",
   "execution_count": null,
   "metadata": {},
   "outputs": [],
   "source": [
    "df[['BsmtQual']] = df[['BsmtQual']].fillna('None')"
   ]
  },
  {
   "cell_type": "code",
   "execution_count": null,
   "metadata": {},
   "outputs": [],
   "source": [
    "df[['BsmtUnfSF', 'TotalBsmtSF']] = df[['BsmtUnfSF', 'TotalBsmtSF']].fillna(0)"
   ]
  },
  {
   "cell_type": "markdown",
   "metadata": {},
   "source": [
    "##### Electrical\n",
    "Let's replace electrical with most frequent electrical value"
   ]
  },
  {
   "cell_type": "code",
   "execution_count": null,
   "metadata": {},
   "outputs": [],
   "source": [
    "df[['Electrical']] = df[['Electrical']].fillna(df['Electrical'].mode()[0])"
   ]
  },
  {
   "cell_type": "markdown",
   "metadata": {},
   "source": [
    "##### Exterior1st, Exterior2nd\n",
    "For Exterior1st and Exterior2nd, let's impute with mode as the house needs to have exterior covering"
   ]
  },
  {
   "cell_type": "code",
   "execution_count": null,
   "metadata": {},
   "outputs": [],
   "source": [
    "df[['Exterior1st']] = df[['Exterior1st']].fillna(df['Exterior1st'].mode()[0])\n",
    "df[['Exterior2nd']] = df[['Exterior2nd']].fillna(df['Exterior2nd'].mode()[0])"
   ]
  },
  {
   "cell_type": "markdown",
   "metadata": {},
   "source": [
    "##### Functional\n",
    "For Functional again let's take the mode which typical functionality"
   ]
  },
  {
   "cell_type": "code",
   "execution_count": null,
   "metadata": {},
   "outputs": [],
   "source": [
    "df[['Functional']] = df[['Functional']].fillna(df['Functional'].mode()[0])"
   ]
  },
  {
   "cell_type": "markdown",
   "metadata": {},
   "source": [
    "##### KitchenQual, MSZoning, SaleType\n",
    "\n",
    "For KitchenQual, SaleType, MSZoning let's take the mode"
   ]
  },
  {
   "cell_type": "code",
   "execution_count": null,
   "metadata": {},
   "outputs": [],
   "source": [
    "df[['KitchenQual']] = df[['KitchenQual']].fillna(df['KitchenQual'].mode()[0])\n",
    "df[['SaleType']] = df[['SaleType']].fillna(df['SaleType'].mode()[0])\n",
    "df[['MSZoning']] = df[['MSZoning']].fillna(df['MSZoning'].mode()[0])"
   ]
  },
  {
   "cell_type": "markdown",
   "metadata": {},
   "source": [
    "##### Utilities\n",
    "\n",
    "For Utilities, all but 1 house is AllPub, so we will alter the one which is not AllPub or the ones with missing data as AllPub"
   ]
  },
  {
   "cell_type": "code",
   "execution_count": null,
   "metadata": {},
   "outputs": [],
   "source": [
    "df['Utilities'][df['Utilities'].isnull() | (df['Utilities'] != df['Utilities'].mode()[0])] = df['Utilities'].mode()[0]"
   ]
  },
  {
   "cell_type": "markdown",
   "metadata": {},
   "source": [
    "##### Functional\n",
    "\n",
    "Replacing with mode"
   ]
  },
  {
   "cell_type": "code",
   "execution_count": null,
   "metadata": {},
   "outputs": [],
   "source": [
    "df[['Functional']] = df[['Functional']].fillna(df['Functional'].mode()[0])"
   ]
  },
  {
   "cell_type": "code",
   "execution_count": null,
   "metadata": {},
   "outputs": [],
   "source": [
    "df.isnull().sum()[df.isnull().sum() > 0]"
   ]
  },
  {
   "cell_type": "markdown",
   "metadata": {},
   "source": [
    "##### We should not have any missing values now except for SalePrice\n",
    "We will now break the df into train and test again"
   ]
  },
  {
   "cell_type": "code",
   "execution_count": null,
   "metadata": {},
   "outputs": [],
   "source": [
    "df.isnull().sum()[df.isnull().sum()>0]"
   ]
  },
  {
   "cell_type": "code",
   "execution_count": null,
   "metadata": {},
   "outputs": [],
   "source": [
    "train = df[df['test'] ==0]\n",
    "test = df[df['test'] ==1]"
   ]
  },
  {
   "cell_type": "code",
   "execution_count": null,
   "metadata": {},
   "outputs": [],
   "source": [
    "# test.shape, train.shape"
   ]
  },
  {
   "cell_type": "code",
   "execution_count": null,
   "metadata": {},
   "outputs": [],
   "source": [
    "test = test.drop(['SalePrice', 'test'], axis =1)\n",
    "train = train.drop(['test'], axis =1)"
   ]
  },
  {
   "cell_type": "markdown",
   "metadata": {},
   "source": [
    "### Exporting imputed test train data"
   ]
  },
  {
   "cell_type": "code",
   "execution_count": null,
   "metadata": {},
   "outputs": [],
   "source": [
    "test.to_csv('imputed_test.csv',index=False )\n",
    "train.to_csv('imputed_train.csv', index=False)"
   ]
  },
  {
   "cell_type": "markdown",
   "metadata": {},
   "source": [
    "# B. Seperating data into cat, num cols"
   ]
  },
  {
   "cell_type": "markdown",
   "metadata": {},
   "source": [
    "Reading imputed data"
   ]
  },
  {
   "cell_type": "code",
   "execution_count": null,
   "metadata": {},
   "outputs": [],
   "source": [
    "#Reading imputed dataset\n",
    "train = pd.read_csv('imputed_train.csv') \n",
    "test = pd.read_csv('imputed_test.csv')\n",
    "\n",
    "train['test'] = 0\n",
    "test['test'] = 1\n",
    "\n",
    "df = pd.concat([train, test], axis=0, ignore_index=True)"
   ]
  },
  {
   "cell_type": "code",
   "execution_count": null,
   "metadata": {
    "scrolled": true
   },
   "outputs": [],
   "source": [
    "# df.isnull().sum()"
   ]
  },
  {
   "cell_type": "markdown",
   "metadata": {},
   "source": [
    "### Seperating columns into num_cols, cat_cols, target"
   ]
  },
  {
   "cell_type": "code",
   "execution_count": null,
   "metadata": {
    "scrolled": true
   },
   "outputs": [],
   "source": [
    "# df.dtypes"
   ]
  },
  {
   "cell_type": "code",
   "execution_count": null,
   "metadata": {},
   "outputs": [],
   "source": [
    "#defining cat/num cols\n",
    "df['MSSubClass'] = df['MSSubClass'].astype('category')\n",
    "cat_cols  = list(df.dtypes[df.dtypes == 'object'].index) + list(df.dtypes[df.dtypes == 'category'].index)\n",
    "num_cols = list(set(df.columns)  - set(cat_cols))\n",
    "target = 'SalePrice'\n",
    "num_cols.remove('SalePrice')\n",
    "num_cols.remove('Id')\n",
    "num_cols.remove('test')\n",
    "#num_cols"
   ]
  },
  {
   "cell_type": "code",
   "execution_count": null,
   "metadata": {},
   "outputs": [],
   "source": [
    "df[cat_cols].head()"
   ]
  },
  {
   "cell_type": "markdown",
   "metadata": {},
   "source": [
    "**MSSubClass** is misclassified as numerical variable, we need to mention it as a categorical variable (did it in the above cell)"
   ]
  },
  {
   "cell_type": "markdown",
   "metadata": {},
   "source": [
    "# C. Feature Engineering"
   ]
  },
  {
   "cell_type": "markdown",
   "metadata": {},
   "source": [
    "There are some features that can be generated from the data"
   ]
  },
  {
   "cell_type": "markdown",
   "metadata": {},
   "source": [
    "Lets add new features based on kaggle discussion\n",
    "\n",
    "- **age_when_sold** : df['YrSold'] - df['YearBuilt']\n",
    "- **remodel_age** = YrSold - YearRemodAdd\n",
    "- **totalSF** : GrLivArea + TotalBsmtSF\n",
    "- **no_of_bath** =  BsmtFullBath + 0.5*(BsmtHalfBath) + FullBath + 0.5*(HalfBath)\n",
    "- **total_porch** = OpenPorchSF + EnclosedPorch + ScreenPorch + 3SsnPorch + WoodDeckSF\n",
    "- **overall_qual_cond** = OverallCond * OverallQual\n",
    "- **non_bedroom_rooms** = TotRmsAbvGrd - BedroomAbvGr #might suggest reading room, activities room, etc, boosting the price\n"
   ]
  },
  {
   "cell_type": "code",
   "execution_count": null,
   "metadata": {},
   "outputs": [],
   "source": [
    "df['age_when_sold'] = df['YrSold'] - df['YearBuilt']\n",
    "df['remodel_age'] = df['YrSold'] - df['YearRemodAdd']\n",
    "df['totalSF'] = df['BsmtFinSF1'] + df['BsmtFinSF2'] + df['1stFlrSF'] + df['2ndFlrSF']\n",
    "df['no_of_bath'] = df['BsmtFullBath'] + df['FullBath'] + 0.5*df['BsmtHalfBath'] + 0.5*df['HalfBath']\n",
    "df['total_porch'] = df['OpenPorchSF'] + df['EnclosedPorch'] + df['ScreenPorch'] + df['3SsnPorch'] + df['WoodDeckSF']\n",
    "\n",
    "df['overall_qual_cond'] = df['OverallCond'] *  df['OverallQual']\n",
    "\n",
    "df['non_bedroom_rooms'] = df['TotRmsAbvGrd'] - df['BedroomAbvGr']"
   ]
  },
  {
   "cell_type": "markdown",
   "metadata": {},
   "source": [
    "##### Exterior1st, Exterior2nd\n",
    "\n",
    "If there are 2 covering on the exterior, this may boost the price. A new feature can be created stating number of exterior coverings"
   ]
  },
  {
   "cell_type": "code",
   "execution_count": null,
   "metadata": {},
   "outputs": [],
   "source": [
    "def condition(df):\n",
    "    if df['Exterior1st'] != df['Exterior2nd']:\n",
    "        return(2)\n",
    "    else:\n",
    "        return(1)"
   ]
  },
  {
   "cell_type": "code",
   "execution_count": null,
   "metadata": {},
   "outputs": [],
   "source": [
    "df['num_ext_coverings'] = df.apply(condition, axis=1)"
   ]
  },
  {
   "cell_type": "code",
   "execution_count": null,
   "metadata": {},
   "outputs": [],
   "source": [
    "df.head()"
   ]
  },
  {
   "cell_type": "markdown",
   "metadata": {},
   "source": [
    "### BsmtQual BsmtCond\n",
    "\n",
    "These two variables are categorical currently, but can be made ordinal as they have oridinality One made numerical (ordinal), we can multiply them to create bsmt_qual_cond\n"
   ]
  },
  {
   "cell_type": "code",
   "execution_count": null,
   "metadata": {},
   "outputs": [],
   "source": [
    "temp = {'None':0,'NA':0, 'Po':1, 'Fa':2, 'TA':3, 'Gd':4, 'Ex':5}\n",
    "df['BsmtQual'] = df['BsmtQual'].map(temp)\n",
    "df['BsmtCond'] = df['BsmtCond'].map(temp)\n",
    "df['bsmt_qual_cond'] = df['BsmtQual'] * df['BsmtCond']"
   ]
  },
  {
   "cell_type": "markdown",
   "metadata": {},
   "source": [
    "##### ExterQual ExterCond\n",
    "\n",
    "Similarly, ExterQual ExterCond can be made ordinal, and from these bsmt_qual_cond can be derived"
   ]
  },
  {
   "cell_type": "code",
   "execution_count": null,
   "metadata": {},
   "outputs": [],
   "source": [
    "temp = {'None':0,'NA':0, 'Po':1, 'Fa':2, 'TA':3, 'Gd':4, 'Ex':5}\n",
    "df['ExterQual'] = df['ExterQual'].map(temp)\n",
    "df['ExterCond'] = df['ExterCond'].map(temp)\n",
    "df['extr_qual_cond'] = df['ExterQual'] * df['ExterCond']"
   ]
  },
  {
   "cell_type": "markdown",
   "metadata": {},
   "source": [
    "###  BsmtExposure\n",
    "\n",
    "This can also be made ordinal"
   ]
  },
  {
   "cell_type": "code",
   "execution_count": null,
   "metadata": {},
   "outputs": [],
   "source": [
    "temp = {'None':0,'NA':0, 'No':1, 'Mn':2, 'Av':3, 'Gd':4}\n",
    "df['BsmtExposure'] = df['BsmtExposure'].map(temp)"
   ]
  },
  {
   "cell_type": "markdown",
   "metadata": {},
   "source": [
    "### BsmtFinType1  BsmtFinType2\n",
    "\n",
    "These can be made ordinal as well"
   ]
  },
  {
   "cell_type": "code",
   "execution_count": null,
   "metadata": {},
   "outputs": [],
   "source": [
    "temp = {'None':0,'NA':0, 'Unf':1, 'LwQ':2, 'Rec':3, 'BLQ':4, 'ALQ':5, 'GLQ':6}\n",
    "df['BsmtFinType1'] = df['BsmtFinType1'].map(temp)\n",
    "df['BsmtFinType2'] = df['BsmtFinType2'].map(temp)"
   ]
  },
  {
   "cell_type": "markdown",
   "metadata": {},
   "source": [
    "### BsmtUnfSF TotalBsmtSF\n",
    "\n",
    "Ratio of the above variables can tell us how much % of the basement is finished. Houses with finished basement should command higher prices"
   ]
  },
  {
   "cell_type": "code",
   "execution_count": null,
   "metadata": {},
   "outputs": [],
   "source": [
    "def bsmt_percent_finished_condition(df):\n",
    "    if df['TotalBsmtSF']==0:\n",
    "        return 0\n",
    "    else:\n",
    "        return(100*(1 - df['BsmtUnfSF']/df['TotalBsmtSF']))"
   ]
  },
  {
   "cell_type": "code",
   "execution_count": null,
   "metadata": {},
   "outputs": [],
   "source": [
    "df['bsmt_percent_finished'] = df.apply(bsmt_percent_finished_condition, axis=1)"
   ]
  },
  {
   "cell_type": "code",
   "execution_count": null,
   "metadata": {},
   "outputs": [],
   "source": [
    "df[df['bsmt_percent_finished'].isnull()].head()"
   ]
  },
  {
   "cell_type": "markdown",
   "metadata": {},
   "source": [
    "### HeatingQC\n",
    "\n",
    "This can be made ordinal as well"
   ]
  },
  {
   "cell_type": "code",
   "execution_count": null,
   "metadata": {},
   "outputs": [],
   "source": [
    "temp = {'None':0,'NA':0, 'Po':1, 'Fa':2, 'TA':3, 'Gd':4, 'Ex':5}\n",
    "df['HeatingQC'] = df['HeatingQC'].map(temp)"
   ]
  },
  {
   "cell_type": "markdown",
   "metadata": {},
   "source": [
    "### CentralAir\n",
    "\n",
    "This is a Yes/No, and ce|ntral cooling can be an important factor given Iowa has summers. We should convert it from Yes/No to 1/0"
   ]
  },
  {
   "cell_type": "code",
   "execution_count": null,
   "metadata": {},
   "outputs": [],
   "source": [
    "temp = {'N':0, 'Y':1}\n",
    "df['CentralAir'] = df['CentralAir'].map(temp)"
   ]
  },
  {
   "cell_type": "markdown",
   "metadata": {},
   "source": [
    "### LowQualFinSF\n",
    "\n",
    "1 - (% of LowQualFinSF / totalSF) wil give us % of finishedSF that is NOT LowQual i.e. is high qual "
   ]
  },
  {
   "cell_type": "code",
   "execution_count": null,
   "metadata": {},
   "outputs": [],
   "source": [
    "#df[df['LowQualFinSF'] > 0].head()\n",
    "df['HighQualFinSF_percent'] = 100 * (1 - df['LowQualFinSF']/df['totalSF'])"
   ]
  },
  {
   "cell_type": "markdown",
   "metadata": {},
   "source": [
    "### BedroomAbvGr FullBath HalfBath\n",
    "\n",
    "The above three variables can be combined to to find the ration of bathrooms to bedroom. Having a bathroom for each bedtroom can be a really important consideration for many"
   ]
  },
  {
   "cell_type": "code",
   "execution_count": null,
   "metadata": {},
   "outputs": [],
   "source": [
    "def bath_bed_condition(df):\n",
    "    if df['BedroomAbvGr']!=0:\n",
    "        return((df['FullBath'] + 0.5*df['HalfBath'])/df['BedroomAbvGr'])\n",
    "    else:\n",
    "        return 0"
   ]
  },
  {
   "cell_type": "code",
   "execution_count": null,
   "metadata": {},
   "outputs": [],
   "source": [
    "df['bath_bed_ratio'] = df.apply(bath_bed_condition, axis=1)"
   ]
  },
  {
   "cell_type": "markdown",
   "metadata": {},
   "source": [
    "### KitchenQual \n",
    "\n",
    "This can be made ordinal again"
   ]
  },
  {
   "cell_type": "code",
   "execution_count": null,
   "metadata": {},
   "outputs": [],
   "source": [
    "temp = {'None':0,'NA':0, 'Po':1, 'Fa':2, 'TA':3, 'Gd':4, 'Ex':5}\n",
    "df['KitchenQual'] = df['KitchenQual'].map(temp)"
   ]
  },
  {
   "cell_type": "markdown",
   "metadata": {},
   "source": [
    "### FireplaceQu\n",
    "\n",
    "This can again be made ordinal"
   ]
  },
  {
   "cell_type": "code",
   "execution_count": null,
   "metadata": {},
   "outputs": [],
   "source": [
    "temp = {'None':0,'NA':0, 'Po':1, 'Fa':2, 'TA':3, 'Gd':4, 'Ex':5}\n",
    "df['FireplaceQu'] = df['FireplaceQu'].map(temp)"
   ]
  },
  {
   "cell_type": "markdown",
   "metadata": {},
   "source": [
    "### GarageFinish\n",
    "\n",
    "Can be made ordinal"
   ]
  },
  {
   "cell_type": "code",
   "execution_count": null,
   "metadata": {},
   "outputs": [],
   "source": [
    "temp = {'None':0,'NA':0, 'Unf':1, 'RFn':2, 'Fin':3}\n",
    "df['GarageFinish'] = df['GarageFinish'].map(temp)"
   ]
  },
  {
   "cell_type": "markdown",
   "metadata": {},
   "source": [
    "### GarageQual GarageCond\n",
    "\n",
    "Can be made ordinal and garage_qual_cond can be derived"
   ]
  },
  {
   "cell_type": "code",
   "execution_count": null,
   "metadata": {},
   "outputs": [],
   "source": [
    "temp = {'None':0,'NA':0, 'Po':1, 'Fa':2, 'TA':3, 'Gd':4, 'Ex':5}\n",
    "df['GarageQual'] = df['GarageQual'].map(temp)\n",
    "df['GarageCond'] = df['GarageCond'].map(temp)\n",
    "df['extr_qual_cond'] = df['GarageQual'] * df['GarageCond']"
   ]
  },
  {
   "cell_type": "markdown",
   "metadata": {},
   "source": [
    "### PoolQC\n",
    "\n",
    "can be made ordinal"
   ]
  },
  {
   "cell_type": "code",
   "execution_count": null,
   "metadata": {},
   "outputs": [],
   "source": [
    "temp = {'None':0,'NA':0, 'Fa':1, 'TA':2, 'Gd':3, 'Ex':4}\n",
    "df['PoolQC'] = df['PoolQC'].map(temp)"
   ]
  },
  {
   "cell_type": "code",
   "execution_count": null,
   "metadata": {},
   "outputs": [],
   "source": [
    "df.head()"
   ]
  },
  {
   "cell_type": "markdown",
   "metadata": {},
   "source": [
    "### Some more features beign derived"
   ]
  },
  {
   "cell_type": "code",
   "execution_count": null,
   "metadata": {},
   "outputs": [],
   "source": [
    "df['haspool'] = df['PoolArea'].apply(lambda x: 1 if x > 0 else 0)\n",
    "df['has2ndfloor'] = df['2ndFlrSF'].apply(lambda x: 1 if x > 0 else 0)\n",
    "df['hasgarage'] = df['GarageArea'].apply(lambda x: 1 if x > 0 else 0)\n",
    "df['hasbsmt'] = df['TotalBsmtSF'].apply(lambda x: 1 if x > 0 else 0)\n",
    "df['hasfireplace'] = df['Fireplaces'].apply(lambda x: 1 if x > 0 else 0)"
   ]
  },
  {
   "cell_type": "code",
   "execution_count": null,
   "metadata": {},
   "outputs": [],
   "source": []
  },
  {
   "cell_type": "code",
   "execution_count": null,
   "metadata": {},
   "outputs": [],
   "source": [
    "df[df['age_when_sold'] < 0]"
   ]
  },
  {
   "cell_type": "code",
   "execution_count": null,
   "metadata": {},
   "outputs": [],
   "source": [
    "df['YrSold'][df['age_when_sold'] < 0] = 2009\n",
    "df['age_when_sold'][df['age_when_sold'] < 0] = 1"
   ]
  },
  {
   "cell_type": "code",
   "execution_count": null,
   "metadata": {},
   "outputs": [],
   "source": []
  },
  {
   "cell_type": "code",
   "execution_count": null,
   "metadata": {},
   "outputs": [],
   "source": [
    "df[df['remodel_age'] < 0]"
   ]
  },
  {
   "cell_type": "code",
   "execution_count": null,
   "metadata": {},
   "outputs": [],
   "source": [
    "df.loc[2293,'YrSold'] = 2009"
   ]
  },
  {
   "cell_type": "code",
   "execution_count": null,
   "metadata": {},
   "outputs": [],
   "source": [
    "df['remodel_age'][df['remodel_age'] < 0] = 0"
   ]
  },
  {
   "cell_type": "markdown",
   "metadata": {},
   "source": [
    "#### let's drop year month columns"
   ]
  },
  {
   "cell_type": "code",
   "execution_count": null,
   "metadata": {},
   "outputs": [],
   "source": [
    "df = df.drop(['GarageYrBlt'], axis=1)"
   ]
  },
  {
   "cell_type": "code",
   "execution_count": null,
   "metadata": {},
   "outputs": [],
   "source": [
    "df = df.drop(['YearBuilt','YearRemodAdd','YrSold','MoSold', 'GarageYrBlt'], axis=1)"
   ]
  },
  {
   "cell_type": "code",
   "execution_count": null,
   "metadata": {},
   "outputs": [],
   "source": []
  },
  {
   "cell_type": "markdown",
   "metadata": {},
   "source": [
    "### Outlier removal"
   ]
  },
  {
   "cell_type": "code",
   "execution_count": null,
   "metadata": {},
   "outputs": [],
   "source": []
  },
  {
   "cell_type": "code",
   "execution_count": null,
   "metadata": {},
   "outputs": [],
   "source": [
    "df = df.drop(df[(df['totalSF'] > 5200)& (df['SalePrice'] < 300000)].index, axis=0)"
   ]
  },
  {
   "cell_type": "code",
   "execution_count": null,
   "metadata": {},
   "outputs": [],
   "source": [
    "df[(df['totalSF'] > 5200)& (df['SalePrice'] < 300000)]"
   ]
  },
  {
   "cell_type": "code",
   "execution_count": null,
   "metadata": {},
   "outputs": [],
   "source": [
    "train = df[df['test']==0]\n",
    "test = df[df['test']==1]"
   ]
  },
  {
   "cell_type": "code",
   "execution_count": null,
   "metadata": {},
   "outputs": [],
   "source": [
    "#exporting df\n",
    "df.to_csv('df_with_features.csv',index=False)"
   ]
  },
  {
   "cell_type": "markdown",
   "metadata": {},
   "source": [
    "# D. Univariate Analysis"
   ]
  },
  {
   "cell_type": "code",
   "execution_count": null,
   "metadata": {},
   "outputs": [],
   "source": [
    "df = pd.read_csv('df_with_features.csv')\n",
    "df.head()"
   ]
  },
  {
   "cell_type": "code",
   "execution_count": null,
   "metadata": {},
   "outputs": [],
   "source": [
    "df['MSSubClass'] = df['MSSubClass'].astype('category')\n",
    "cat_cols  = list(df.dtypes[df.dtypes == 'object'].index) + list(df.dtypes[df.dtypes == 'category'].index)\n",
    "num_cols = list(set(df.columns)  - set(cat_cols))\n",
    "\n",
    "target = 'SalePrice'\n",
    "num_cols.remove('SalePrice')\n",
    "num_cols.remove('Id')\n",
    "num_cols.remove('test')\n",
    "\n",
    "num_cols = sorted(num_cols)\n",
    "cat_cols = sorted(cat_cols)"
   ]
  },
  {
   "cell_type": "markdown",
   "metadata": {},
   "source": [
    "#within num cols, we will define cotinuos and discrete features\n",
    "dis_cols = \"\"\"BedroomAbvGr\n",
    "BsmtCond\n",
    "BsmtExposure\n",
    "BsmtFinType1\n",
    "BsmtFinType2\n",
    "BsmtFullBath\n",
    "BsmtHalfBath\n",
    "BsmtQual\n",
    "CentralAir\n",
    "ExterCond\n",
    "ExterQual\n",
    "FireplaceQu\n",
    "Fireplaces\n",
    "FullBath\n",
    "GarageCars\n",
    "GarageCond\n",
    "GarageFinish\n",
    "GarageQual\n",
    "GarageYrBlt\n",
    "HalfBath\n",
    "HeatingQC\n",
    "KitchenAbvGr\n",
    "KitchenQual\n",
    "MoSold\n",
    "OverallCond\n",
    "OverallQual\n",
    "PoolQC\n",
    "TotRmsAbvGrd\n",
    "YearBuilt\n",
    "YearRemodAdd\n",
    "YrSold\n",
    "bsmt_qual_cond\n",
    "age_when_sold\n",
    "extr_qual_cond\n",
    "no_of_bath\n",
    "non_bedroom_rooms\n",
    "num_ext_coverings\n",
    "overall_qual_cond\n",
    "remodel_age\n",
    "haspool\n",
    "has2ndfloor\n",
    "hasgarage\n",
    "hasbsmt\n",
    "hasfireplace\"\"\"\n",
    "\n",
    "dis_cols = dis_cols.split('\\n')"
   ]
  },
  {
   "cell_type": "code",
   "execution_count": null,
   "metadata": {},
   "outputs": [],
   "source": [
    "# cont_cols = list(set(num_cols) - set(dis_cols))"
   ]
  },
  {
   "cell_type": "code",
   "execution_count": null,
   "metadata": {},
   "outputs": [],
   "source": []
  },
  {
   "cell_type": "code",
   "execution_count": null,
   "metadata": {},
   "outputs": [],
   "source": [
    "df.isnull().sum()[df.isnull().sum()>0]"
   ]
  },
  {
   "cell_type": "code",
   "execution_count": null,
   "metadata": {},
   "outputs": [],
   "source": [
    "#selecting train and test\n",
    "train = df[df['test']==0]\n",
    "test = df[df['test']==1]"
   ]
  },
  {
   "cell_type": "code",
   "execution_count": null,
   "metadata": {
    "scrolled": false
   },
   "outputs": [],
   "source": [
    "for i in range(0,len(num_cols),5):\n",
    "    sns.pairplot(x_vars=num_cols[i:i+5], y_vars='SalePrice', data=train)"
   ]
  },
  {
   "cell_type": "markdown",
   "metadata": {},
   "source": [
    "##### SalePrice (target)"
   ]
  },
  {
   "cell_type": "code",
   "execution_count": null,
   "metadata": {},
   "outputs": [],
   "source": [
    "import matplotlib.gridspec as gridspec\n",
    "import matplotlib.style as style\n",
    "from scipy import stats\n",
    "style.use('default')"
   ]
  },
  {
   "cell_type": "code",
   "execution_count": null,
   "metadata": {},
   "outputs": [],
   "source": [
    "def chart(feature, df):\n",
    "    fig = plt.figure(figsize = (6,4), constrained_layout=True)\n",
    "    grid = gridspec.GridSpec(nrows=2, ncols=3, figure=fig)\n",
    "\n",
    " \n",
    "    \n",
    "    #Hist\n",
    "    ax1= fig.add_subplot(grid[0,:2])\n",
    "    #ax1.set_title(\"Histogram\")\n",
    "    sns.distplot(df[feature], ax=ax1,norm_hist=True)\n",
    "    \n",
    "    ax2=fig.add_subplot(grid[1,:2])\n",
    "    #ax2.set_title('QQ PLot')\n",
    "    stats.probplot(df[feature], plot = ax2)\n",
    "    \n",
    "    \n",
    "    ax3 = fig.add_subplot(grid[0:2:,2])\n",
    "    #ax3.set_title('Boxplot')\n",
    "    sns.boxplot(df[feature], ax=ax3, orient='v')\n",
    "    \n",
    "#     fig.spines['top'].set_visible(False)\n",
    "#     fig.spines['right'].set_visible(False)\n",
    "#     fig.spines['bottom'].set_visible(False)\n",
    "#     fig.spines['left'].set_visible(False)\n",
    "    \n",
    "    #plt.box(on=None)\n",
    "    \n",
    "    #sns.despine(left=True, bottom=True, right=True)\n",
    "    \n",
    "    fig.suptitle(feature)\n",
    "    \n",
    "    #plt.tight_layout()\n",
    "    \n",
    "    "
   ]
  },
  {
   "cell_type": "code",
   "execution_count": null,
   "metadata": {},
   "outputs": [],
   "source": [
    "chart('SalePrice', df=train)"
   ]
  },
  {
   "cell_type": "markdown",
   "metadata": {},
   "source": [
    "The target variable is a little right skewed. We will apply log transformation"
   ]
  },
  {
   "cell_type": "code",
   "execution_count": null,
   "metadata": {},
   "outputs": [],
   "source": [
    "train['LogSalePrice'] = np.log(1 + train['SalePrice'])"
   ]
  },
  {
   "cell_type": "code",
   "execution_count": null,
   "metadata": {},
   "outputs": [],
   "source": [
    "chart('LogSalePrice', df=train)"
   ]
  },
  {
   "cell_type": "markdown",
   "metadata": {},
   "source": [
    "target variable is more normal now"
   ]
  },
  {
   "cell_type": "markdown",
   "metadata": {},
   "source": [
    "### Removing skewness from continuous variables"
   ]
  },
  {
   "cell_type": "code",
   "execution_count": null,
   "metadata": {},
   "outputs": [],
   "source": [
    "(df[num_cols] >= 0).all(0)[(df[num_cols] >= 0).all(0) == False]"
   ]
  },
  {
   "cell_type": "code",
   "execution_count": null,
   "metadata": {},
   "outputs": [],
   "source": [
    "from scipy.stats import skew\n",
    "df[num_cols].apply(lambda x: abs(skew(x))).sort_values(ascending =False)"
   ]
  },
  {
   "cell_type": "markdown",
   "metadata": {},
   "source": [
    "skewnwss outside of [-1,1] is highly skewed. We will apply Boxcox transformation to remove the skewness"
   ]
  },
  {
   "cell_type": "markdown",
   "metadata": {},
   "source": [
    "plotting skewed features before transformation"
   ]
  },
  {
   "cell_type": "code",
   "execution_count": null,
   "metadata": {
    "scrolled": true
   },
   "outputs": [],
   "source": [
    "skewed_features = df[num_cols].apply(lambda x: abs(skew(x))).sort_values(ascending =False)[df[num_cols].apply(lambda x: abs(skew(x))).sort_values(ascending =False) >.5].index\n",
    "for i in skewed_features:\n",
    "    chart(i, df)\n",
    "\n",
    "plt.tight_layout()        "
   ]
  },
  {
   "cell_type": "markdown",
   "metadata": {},
   "source": [
    "##### Removing skewness by apply BOxcox transformation"
   ]
  },
  {
   "cell_type": "code",
   "execution_count": null,
   "metadata": {},
   "outputs": [],
   "source": [
    "from scipy import stats\n",
    "from scipy.special import boxcox1p"
   ]
  },
  {
   "cell_type": "code",
   "execution_count": null,
   "metadata": {},
   "outputs": [],
   "source": [
    "for i in skewed_features:\n",
    "    df[i] = boxcox1p(df[i], stats.boxcox_normmax(df[i] + 1))"
   ]
  },
  {
   "cell_type": "code",
   "execution_count": null,
   "metadata": {},
   "outputs": [],
   "source": [
    "#skewed_features = df[cont_cols].apply(lambda x: abs(skew(x))).sort_values(ascending =False)[df[cont_cols].apply(lambda x: abs(skew(x))).sort_values(ascending =False) >1].index\n",
    "for i in skewed_features:\n",
    "    chart(i, df)\n",
    "\n",
    "plt.tight_layout() "
   ]
  },
  {
   "cell_type": "code",
   "execution_count": null,
   "metadata": {},
   "outputs": [],
   "source": [
    "df.head()"
   ]
  },
  {
   "cell_type": "markdown",
   "metadata": {},
   "source": [
    "# C. Removing features that are not very important"
   ]
  },
  {
   "cell_type": "markdown",
   "metadata": {},
   "source": [
    "### Checking skewness of continuous variables "
   ]
  },
  {
   "cell_type": "code",
   "execution_count": null,
   "metadata": {
    "scrolled": true
   },
   "outputs": [],
   "source": [
    "df[num_cols].apply(lambda x: abs(skew(x))).sort_values(ascending =False)"
   ]
  },
  {
   "cell_type": "markdown",
   "metadata": {},
   "source": [
    "Still there are var having skewness >1, we will remove these variables"
   ]
  },
  {
   "cell_type": "code",
   "execution_count": null,
   "metadata": {},
   "outputs": [],
   "source": [
    "# var_to_remove = df[num_cols].apply(lambda x: abs(skew(x)))[df[num_cols].apply(lambda x: abs(skew(x))) > 1].index"
   ]
  },
  {
   "cell_type": "code",
   "execution_count": null,
   "metadata": {},
   "outputs": [],
   "source": [
    "# num_cols = list(set(num_cols) - set(var_to_remove))"
   ]
  },
  {
   "cell_type": "markdown",
   "metadata": {},
   "source": [
    "### Calculating VIF for num cols"
   ]
  },
  {
   "cell_type": "code",
   "execution_count": null,
   "metadata": {},
   "outputs": [],
   "source": [
    "from statsmodels.stats.outliers_influence import variance_inflation_factor"
   ]
  },
  {
   "cell_type": "code",
   "execution_count": null,
   "metadata": {},
   "outputs": [],
   "source": [
    "vif = pd.DataFrame()\n",
    "vif[\"features\"] = df[num_cols].columns\n",
    "vif[\"vif factor\"] = [variance_inflation_factor(df[num_cols].values, i) for i in range(df[num_cols].shape[1])]"
   ]
  },
  {
   "cell_type": "code",
   "execution_count": null,
   "metadata": {},
   "outputs": [],
   "source": [
    "vif =  vif.sort_values(by='vif factor', ascending=False)\n",
    "vif = vif[sorted(vif.columns)]"
   ]
  },
  {
   "cell_type": "code",
   "execution_count": null,
   "metadata": {},
   "outputs": [],
   "source": [
    "vif"
   ]
  },
  {
   "cell_type": "markdown",
   "metadata": {},
   "source": [
    "only colymn HighQualFinSF_percent has a vif > 4, we are already removing this column"
   ]
  },
  {
   "cell_type": "code",
   "execution_count": null,
   "metadata": {},
   "outputs": [],
   "source": [
    "num_cols.remove('HighQualFinSF_percent')"
   ]
  },
  {
   "cell_type": "code",
   "execution_count": null,
   "metadata": {},
   "outputs": [],
   "source": [
    "df = df.drop('HighQualFinSF_percent',axis =1)"
   ]
  },
  {
   "cell_type": "code",
   "execution_count": null,
   "metadata": {},
   "outputs": [],
   "source": [
    "len(cat_cols)"
   ]
  },
  {
   "cell_type": "code",
   "execution_count": null,
   "metadata": {},
   "outputs": [],
   "source": []
  },
  {
   "cell_type": "code",
   "execution_count": null,
   "metadata": {},
   "outputs": [],
   "source": [
    "fig, ax = plt.subplots(len(cat_cols)//3 + 1,3, figsize=(20,20))\n",
    "for i, ax in enumerate(fig.axes):\n",
    "    if i < len(cat_cols):\n",
    "        sns.countplot(df[cat_cols[i]], ax=ax)\n",
    "        ax.tick_params(labelrotation=45)\n",
    "plt.tight_layout()    "
   ]
  },
  {
   "cell_type": "markdown",
   "metadata": {},
   "source": [
    "**BldgType, HouseStyle, LotConfig, Neighborhood, GarageType, Fence, Exterior1st, MSSubClass** seem to be the most important variables\n",
    "We will start with these cat variables"
   ]
  },
  {
   "cell_type": "markdown",
   "metadata": {},
   "source": [
    "#### Neighborhood"
   ]
  },
  {
   "cell_type": "code",
   "execution_count": null,
   "metadata": {},
   "outputs": [],
   "source": [
    "#temp = df['Neighborhood'].value_counts().sort_values(ascending=False)\n",
    "temp = df.groupby('Neighborhood')['SalePrice'].mean().sort_values(ascending=False)\n",
    "temp"
   ]
  },
  {
   "cell_type": "code",
   "execution_count": null,
   "metadata": {},
   "outputs": [],
   "source": [
    "d = temp.to_dict()\n",
    "d"
   ]
  },
  {
   "cell_type": "code",
   "execution_count": null,
   "metadata": {},
   "outputs": [],
   "source": [
    "for k,v in d.items():\n",
    "    #print(k, v)\n",
    "    if (v>300000):\n",
    "        d[k] = 'A'\n",
    "    elif (v>200000):\n",
    "        d[k] = 'B'\n",
    "    elif (v>150000):\n",
    "        d[k] = 'C'\n",
    "    else:\n",
    "        d[k] = 'D'"
   ]
  },
  {
   "cell_type": "code",
   "execution_count": null,
   "metadata": {},
   "outputs": [],
   "source": [
    "d"
   ]
  },
  {
   "cell_type": "code",
   "execution_count": null,
   "metadata": {},
   "outputs": [],
   "source": [
    "df['Neighborhood_Category'] = df['Neighborhood'].map(d)"
   ]
  },
  {
   "cell_type": "code",
   "execution_count": null,
   "metadata": {},
   "outputs": [],
   "source": [
    "# train = df[df['test'] == 0]\n",
    "# test = df[df['test'] == 1]\n",
    "df.head()"
   ]
  },
  {
   "cell_type": "markdown",
   "metadata": {},
   "source": [
    "### HouseStyle"
   ]
  },
  {
   "cell_type": "code",
   "execution_count": null,
   "metadata": {},
   "outputs": [],
   "source": [
    "temp = df.groupby('HouseStyle')['SalePrice'].mean().sort_values(ascending=False)\n",
    "temp"
   ]
  },
  {
   "cell_type": "markdown",
   "metadata": {},
   "source": [
    "HouseStyle has relevant categor\n",
    "ies for 1Story    2Story      1.5Fin     and rest can be clubbed as others"
   ]
  },
  {
   "cell_type": "code",
   "execution_count": null,
   "metadata": {},
   "outputs": [],
   "source": [
    "d = temp.to_dict()"
   ]
  },
  {
   "cell_type": "code",
   "execution_count": null,
   "metadata": {},
   "outputs": [],
   "source": [
    "for k,v in d.items():\n",
    "    #print(k, v)\n",
    "    if (v>200000):\n",
    "        d[k] = 'A'\n",
    "    elif (v>150000):\n",
    "        d[k] = 'B'\n",
    "    else:\n",
    "        d[k] = 'C'"
   ]
  },
  {
   "cell_type": "code",
   "execution_count": null,
   "metadata": {},
   "outputs": [],
   "source": [
    "df['HouseStyle_Category'] = df['HouseStyle'].map(d)"
   ]
  },
  {
   "cell_type": "markdown",
   "metadata": {},
   "source": [
    "### GarageType"
   ]
  },
  {
   "cell_type": "code",
   "execution_count": null,
   "metadata": {},
   "outputs": [],
   "source": [
    "temp = df.groupby('GarageType')['SalePrice'].mean().sort_values(ascending=False)\n",
    "d = temp.to_dict()\n",
    "temp"
   ]
  },
  {
   "cell_type": "code",
   "execution_count": null,
   "metadata": {},
   "outputs": [],
   "source": [
    "for k,v in d.items():\n",
    "    #print(k, v)\n",
    "    if (v>200000):\n",
    "        d[k] = 'A'\n",
    "    elif (v>150000):\n",
    "        d[k] = 'B'\n",
    "    else:\n",
    "        d[k] = 'C'"
   ]
  },
  {
   "cell_type": "code",
   "execution_count": null,
   "metadata": {},
   "outputs": [],
   "source": [
    "df['GarageType_Category'] = df['GarageType'].map(d)"
   ]
  },
  {
   "cell_type": "markdown",
   "metadata": {},
   "source": [
    "GarageFinish has manageable numner of categories, we will leave it as it is"
   ]
  },
  {
   "cell_type": "markdown",
   "metadata": {},
   "source": [
    "## Exterior1st"
   ]
  },
  {
   "cell_type": "code",
   "execution_count": null,
   "metadata": {},
   "outputs": [],
   "source": [
    "temp = df.groupby('Exterior1st')['SalePrice'].mean().sort_values(ascending=False)\n",
    "d = temp.to_dict()\n",
    "temp"
   ]
  },
  {
   "cell_type": "code",
   "execution_count": null,
   "metadata": {},
   "outputs": [],
   "source": [
    "for k,v in d.items():\n",
    "    #print(k, v)\n",
    "    if (v>200000):\n",
    "        d[k] = 'A'\n",
    "    elif (v>150000):\n",
    "        d[k] = 'B'\n",
    "    elif (v>100000):\n",
    "        d[k] = 'C'\n",
    "    else:\n",
    "        d[k] = 'D'"
   ]
  },
  {
   "cell_type": "code",
   "execution_count": null,
   "metadata": {},
   "outputs": [],
   "source": [
    "df['Exterior1st_Category'] = df['Exterior1st'].map(d)"
   ]
  },
  {
   "cell_type": "markdown",
   "metadata": {},
   "source": [
    "### BldgType"
   ]
  },
  {
   "cell_type": "code",
   "execution_count": null,
   "metadata": {},
   "outputs": [],
   "source": [
    "temp = df.groupby('BldgType')['SalePrice'].median().sort_values(ascending=False)\n",
    "d = temp.to_dict()\n",
    "temp"
   ]
  },
  {
   "cell_type": "code",
   "execution_count": null,
   "metadata": {},
   "outputs": [],
   "source": [
    "for k,v in d.items():\n",
    "    #print(k, v)\n",
    "    if (v>180000):\n",
    "        d[k] = 'A'\n",
    "    elif (v>130000):\n",
    "        d[k] = 'B'\n",
    "    elif (v>180000):\n",
    "        d[k] = 'C'\n",
    "    else:\n",
    "        d[k] = 'D'"
   ]
  },
  {
   "cell_type": "code",
   "execution_count": null,
   "metadata": {},
   "outputs": [],
   "source": [
    "sns.catplot(x='BldgType', y='SalePrice', data=train, kind='boxen')"
   ]
  },
  {
   "cell_type": "code",
   "execution_count": null,
   "metadata": {},
   "outputs": [],
   "source": [
    "sns.catplot(x='HouseStyle', y='SalePrice', data=train, kind='boxen')"
   ]
  },
  {
   "cell_type": "markdown",
   "metadata": {},
   "source": [
    "### LotConfig"
   ]
  },
  {
   "cell_type": "code",
   "execution_count": null,
   "metadata": {},
   "outputs": [],
   "source": [
    "temp = df.groupby('LotConfig')['SalePrice'].mean().sort_values(ascending=False)\n",
    "d = temp.to_dict()\n",
    "temp"
   ]
  },
  {
   "cell_type": "code",
   "execution_count": null,
   "metadata": {},
   "outputs": [],
   "source": [
    "temp = df.groupby('LotConfig')['SalePrice'].median().sort_values(ascending=False)\n",
    "temp"
   ]
  },
  {
   "cell_type": "code",
   "execution_count": null,
   "metadata": {},
   "outputs": [],
   "source": [
    "for k,v in d.items():\n",
    "    #print(k, v)\n",
    "    if (v>210000):\n",
    "        d[k] = 'A'\n",
    "    elif (v>200000):\n",
    "        d[k] = 'B'\n",
    "    elif (v>180000):\n",
    "        d[k] = 'C'\n",
    "    else:\n",
    "        d[k] = 'D'"
   ]
  },
  {
   "cell_type": "code",
   "execution_count": null,
   "metadata": {},
   "outputs": [],
   "source": [
    "df['LotConfig_Category'] = df['LotConfig'].map(d)"
   ]
  },
  {
   "cell_type": "markdown",
   "metadata": {},
   "source": [
    "### MSSubClass"
   ]
  },
  {
   "cell_type": "code",
   "execution_count": null,
   "metadata": {},
   "outputs": [],
   "source": [
    "temp = df.groupby('MSSubClass')['SalePrice'].mean().sort_values(ascending=False)\n",
    "d = temp.to_dict()\n",
    "temp"
   ]
  },
  {
   "cell_type": "code",
   "execution_count": null,
   "metadata": {},
   "outputs": [],
   "source": [
    "for k,v in d.items():\n",
    "    #print(k, v)\n",
    "    if (v>200000):\n",
    "        d[k] = 'A'\n",
    "    elif (v>150000):\n",
    "        d[k] = 'B'\n",
    "    elif (v>100000):\n",
    "        d[k] = 'C'\n",
    "    else:\n",
    "        d[k] = 'D'"
   ]
  },
  {
   "cell_type": "code",
   "execution_count": null,
   "metadata": {},
   "outputs": [],
   "source": [
    "df['MSSubClass_Category'] = df['MSSubClass'].map(d)"
   ]
  },
  {
   "cell_type": "code",
   "execution_count": null,
   "metadata": {},
   "outputs": [],
   "source": [
    "df[cat_cols].head()"
   ]
  },
  {
   "cell_type": "markdown",
   "metadata": {},
   "source": [
    "### Condition1"
   ]
  },
  {
   "cell_type": "code",
   "execution_count": null,
   "metadata": {
    "scrolled": true
   },
   "outputs": [],
   "source": [
    "temp = df.groupby('Condition1')['SalePrice'].mean().sort_values(ascending=False)\n",
    "d = temp.to_dict()\n",
    "temp"
   ]
  },
  {
   "cell_type": "code",
   "execution_count": null,
   "metadata": {},
   "outputs": [],
   "source": [
    "for k,v in d.items():\n",
    "    #print(k, v)\n",
    "    if (v>200000):\n",
    "        d[k] = 'A'\n",
    "    elif (v>150000):\n",
    "        d[k] = 'B'\n",
    "    else:\n",
    "        d[k] = 'C'"
   ]
  },
  {
   "cell_type": "code",
   "execution_count": null,
   "metadata": {},
   "outputs": [],
   "source": [
    "df['Condition1_Category'] = df['Condition1'].map(d)"
   ]
  },
  {
   "cell_type": "markdown",
   "metadata": {},
   "source": [
    "### Electrical"
   ]
  },
  {
   "cell_type": "code",
   "execution_count": null,
   "metadata": {},
   "outputs": [],
   "source": [
    "temp = df.groupby('Electrical')['SalePrice'].mean().sort_values(ascending=False)\n",
    "d = temp.to_dict()\n",
    "temp"
   ]
  },
  {
   "cell_type": "code",
   "execution_count": null,
   "metadata": {},
   "outputs": [],
   "source": [
    "for k,v in d.items():\n",
    "    #print(k, v)\n",
    "    if (v>150000):\n",
    "        d[k] = 'A'\n",
    "    elif (v>100000):\n",
    "        d[k] = 'B'\n",
    "    else:\n",
    "        d[k] = 'C'"
   ]
  },
  {
   "cell_type": "code",
   "execution_count": null,
   "metadata": {},
   "outputs": [],
   "source": [
    "df['Electrical_Category'] = df['Electrical'].map(d)"
   ]
  },
  {
   "cell_type": "code",
   "execution_count": null,
   "metadata": {},
   "outputs": [],
   "source": []
  },
  {
   "cell_type": "markdown",
   "metadata": {},
   "source": [
    "## Exterior2nd"
   ]
  },
  {
   "cell_type": "code",
   "execution_count": null,
   "metadata": {},
   "outputs": [],
   "source": [
    "temp = df.groupby('Exterior2nd')['SalePrice'].mean().sort_values(ascending=False)\n",
    "d = temp.to_dict()\n",
    "temp"
   ]
  },
  {
   "cell_type": "code",
   "execution_count": null,
   "metadata": {},
   "outputs": [],
   "source": [
    "for k,v in d.items():\n",
    "    #print(k, v)\n",
    "    if (v>200000):\n",
    "        d[k] = 'A'\n",
    "    elif (v>150000):\n",
    "        d[k] = 'B'\n",
    "    elif (v>100000):\n",
    "        d[k] = 'C'\n",
    "    else:\n",
    "        d[k] = 'D'"
   ]
  },
  {
   "cell_type": "code",
   "execution_count": null,
   "metadata": {},
   "outputs": [],
   "source": [
    "df['Exterior2nd_Category'] = df['Exterior2nd'].map(d)"
   ]
  },
  {
   "cell_type": "markdown",
   "metadata": {},
   "source": [
    "### Fence"
   ]
  },
  {
   "cell_type": "code",
   "execution_count": null,
   "metadata": {},
   "outputs": [],
   "source": [
    "temp = df.groupby('Fence')['SalePrice'].mean().sort_values(ascending=False)\n",
    "d = temp.to_dict()\n",
    "temp"
   ]
  },
  {
   "cell_type": "code",
   "execution_count": null,
   "metadata": {},
   "outputs": [],
   "source": [
    "for k,v in d.items():\n",
    "    #print(k, v)\n",
    "    if (v>170000):\n",
    "        d[k] = 'A'\n",
    "    elif (v>140000):\n",
    "        d[k] = 'B'\n",
    "    elif (v>100000):\n",
    "        d[k] = 'C'\n",
    "    else:\n",
    "        d[k] = 'D'"
   ]
  },
  {
   "cell_type": "code",
   "execution_count": null,
   "metadata": {},
   "outputs": [],
   "source": [
    "df['Fence_Category'] = df['Fence'].map(d)"
   ]
  },
  {
   "cell_type": "markdown",
   "metadata": {},
   "source": [
    "### Foundation"
   ]
  },
  {
   "cell_type": "code",
   "execution_count": null,
   "metadata": {},
   "outputs": [],
   "source": [
    "temp = df.groupby('Foundation')['SalePrice'].mean().sort_values(ascending=False)\n",
    "d = temp.to_dict()\n",
    "temp"
   ]
  },
  {
   "cell_type": "code",
   "execution_count": null,
   "metadata": {},
   "outputs": [],
   "source": [
    "for k,v in d.items():\n",
    "    #print(k, v)\n",
    "    if (v>200000):\n",
    "        d[k] = 'A'\n",
    "    elif (v>150000):\n",
    "        d[k] = 'B'\n",
    "    elif (v>100000):\n",
    "        d[k] = 'C'\n",
    "    else:\n",
    "        d[k] = 'D'\n",
    "        \n",
    "df['Foundation_Category'] = df['Foundation'].map(d)"
   ]
  },
  {
   "cell_type": "markdown",
   "metadata": {},
   "source": [
    "### LandContour"
   ]
  },
  {
   "cell_type": "code",
   "execution_count": null,
   "metadata": {},
   "outputs": [],
   "source": [
    "temp = df.groupby('LandContour')['SalePrice'].mean().sort_values(ascending=False)\n",
    "d = temp.to_dict()\n",
    "temp"
   ]
  },
  {
   "cell_type": "code",
   "execution_count": null,
   "metadata": {},
   "outputs": [],
   "source": [
    "for k,v in d.items():\n",
    "    #print(k, v)\n",
    "    if (v>200000):\n",
    "        d[k] = 'A'\n",
    "    elif (v>150000):\n",
    "        d[k] = 'B'\n",
    "    elif (v>100000):\n",
    "        d[k] = 'C'\n",
    "    else:\n",
    "        d[k] = 'D'\n",
    "        \n",
    "df['LandContour_Category'] = df['LandContour'].map(d)"
   ]
  },
  {
   "cell_type": "code",
   "execution_count": null,
   "metadata": {},
   "outputs": [],
   "source": []
  },
  {
   "cell_type": "code",
   "execution_count": null,
   "metadata": {},
   "outputs": [],
   "source": [
    "temp = df.groupby('LandSlope')['SalePrice'].mean().sort_values(ascending=False)\n",
    "d = temp.to_dict()\n",
    "temp"
   ]
  },
  {
   "cell_type": "markdown",
   "metadata": {},
   "source": [
    "### PavedDrive"
   ]
  },
  {
   "cell_type": "code",
   "execution_count": null,
   "metadata": {},
   "outputs": [],
   "source": [
    "temp = df.groupby('PavedDrive')['SalePrice'].mean().sort_values(ascending=False)\n",
    "d = temp.to_dict()\n",
    "temp"
   ]
  },
  {
   "cell_type": "code",
   "execution_count": null,
   "metadata": {},
   "outputs": [],
   "source": [
    "for k,v in d.items():\n",
    "    #print(k, v)\n",
    "    if (v>180000):\n",
    "        d[k] = 'A'\n",
    "    elif (v>130000):\n",
    "        d[k] = 'B'\n",
    "    elif (v>100000):\n",
    "        d[k] = 'C'\n",
    "    else:\n",
    "        d[k] = 'D'\n",
    "        \n",
    "df['PavedDrive_Category'] = df['PavedDrive'].map(d)"
   ]
  },
  {
   "cell_type": "markdown",
   "metadata": {},
   "source": [
    "### RoofStyle"
   ]
  },
  {
   "cell_type": "code",
   "execution_count": null,
   "metadata": {},
   "outputs": [],
   "source": [
    "temp = df.groupby('RoofStyle')['SalePrice'].mean().sort_values(ascending=False)\n",
    "d = temp.to_dict()\n",
    "temp"
   ]
  },
  {
   "cell_type": "code",
   "execution_count": null,
   "metadata": {},
   "outputs": [],
   "source": [
    "for k,v in d.items():\n",
    "    #print(k, v)\n",
    "    if (v>200000):\n",
    "        d[k] = 'A'\n",
    "    elif (v>150000):\n",
    "        d[k] = 'B'\n",
    "    elif (v>100000):\n",
    "        d[k] = 'C'\n",
    "    else:\n",
    "        d[k] = 'D'\n",
    "        \n",
    "df['RoofStyle_Category'] = df['RoofStyle'].map(d)"
   ]
  },
  {
   "cell_type": "markdown",
   "metadata": {},
   "source": [
    "### SaleCondition"
   ]
  },
  {
   "cell_type": "code",
   "execution_count": null,
   "metadata": {},
   "outputs": [],
   "source": [
    "temp = df.groupby('SaleCondition')['SalePrice'].mean().sort_values(ascending=False)\n",
    "d = temp.to_dict()\n",
    "temp"
   ]
  },
  {
   "cell_type": "code",
   "execution_count": null,
   "metadata": {},
   "outputs": [],
   "source": [
    "for k,v in d.items():\n",
    "    #print(k, v)\n",
    "    if (v>200000):\n",
    "        d[k] = 'A'\n",
    "    elif (v>150000):\n",
    "        d[k] = 'B'\n",
    "    elif (v>100000):\n",
    "        d[k] = 'C'\n",
    "    else:\n",
    "        d[k] = 'D'\n",
    "        \n",
    "df['SaleCondition_Category'] = df['SaleCondition'].map(d)"
   ]
  },
  {
   "cell_type": "markdown",
   "metadata": {},
   "source": [
    "### SaleType"
   ]
  },
  {
   "cell_type": "code",
   "execution_count": null,
   "metadata": {},
   "outputs": [],
   "source": [
    "temp = df.groupby('SaleType')['SalePrice'].mean().sort_values(ascending=False)\n",
    "d = temp.to_dict()\n",
    "temp"
   ]
  },
  {
   "cell_type": "code",
   "execution_count": null,
   "metadata": {},
   "outputs": [],
   "source": [
    "for k,v in d.items():\n",
    "    #print(k, v)\n",
    "    if (v>200000):\n",
    "        d[k] = 'A'\n",
    "    elif (v>150000):\n",
    "        d[k] = 'B'\n",
    "    elif (v>100000):\n",
    "        d[k] = 'C'\n",
    "    else:\n",
    "        d[k] = 'D'\n",
    "        \n",
    "df['SaleType_Category'] = df['SaleType'].map(d)"
   ]
  },
  {
   "cell_type": "code",
   "execution_count": null,
   "metadata": {},
   "outputs": [],
   "source": []
  },
  {
   "cell_type": "code",
   "execution_count": null,
   "metadata": {},
   "outputs": [],
   "source": [
    "for i in df.columns:\n",
    "    print(i)"
   ]
  },
  {
   "cell_type": "code",
   "execution_count": null,
   "metadata": {},
   "outputs": [],
   "source": [
    "var = \"\"\"Neighborhood_Category\n",
    "HouseStyle_Category\n",
    "GarageType_Category\n",
    "Exterior1st_Category\n",
    "LotConfig_Category\n",
    "MSSubClass_Category\n",
    "Condition1_Category\n",
    "Electrical_Category\n",
    "Exterior2nd_Category\n",
    "Fence_Category\n",
    "Foundation_Category\n",
    "LandContour_Category\n",
    "PavedDrive_Category\n",
    "RoofStyle_Category\n",
    "SaleCondition_Category\n",
    "SaleType_Category\"\"\"\n",
    "\n",
    "var = var.split(\"\\n\")"
   ]
  },
  {
   "cell_type": "code",
   "execution_count": null,
   "metadata": {},
   "outputs": [],
   "source": [
    "df2 = df[num_cols + var + ['SalePrice', 'Id', 'test']]"
   ]
  },
  {
   "cell_type": "code",
   "execution_count": null,
   "metadata": {},
   "outputs": [],
   "source": [
    "df2.head()"
   ]
  },
  {
   "cell_type": "code",
   "execution_count": null,
   "metadata": {},
   "outputs": [],
   "source": []
  },
  {
   "cell_type": "code",
   "execution_count": null,
   "metadata": {},
   "outputs": [],
   "source": []
  },
  {
   "cell_type": "code",
   "execution_count": null,
   "metadata": {},
   "outputs": [],
   "source": []
  },
  {
   "cell_type": "code",
   "execution_count": null,
   "metadata": {},
   "outputs": [],
   "source": []
  },
  {
   "cell_type": "markdown",
   "metadata": {},
   "source": [
    "#### Dropping cat_cols with more than 65% data having only 1 category"
   ]
  },
  {
   "cell_type": "code",
   "execution_count": null,
   "metadata": {},
   "outputs": [],
   "source": [
    "# temp =[]\n",
    "# for i in cat_cols:\n",
    "#     if(df[i].value_counts(normalize=True)[0] > .65):\n",
    "#         temp.append(i)"
   ]
  },
  {
   "cell_type": "code",
   "execution_count": null,
   "metadata": {},
   "outputs": [],
   "source": [
    "# temp"
   ]
  },
  {
   "cell_type": "code",
   "execution_count": null,
   "metadata": {},
   "outputs": [],
   "source": [
    "# df = df.drop(temp, axis = 1)"
   ]
  },
  {
   "cell_type": "code",
   "execution_count": null,
   "metadata": {},
   "outputs": [],
   "source": []
  },
  {
   "cell_type": "markdown",
   "metadata": {},
   "source": [
    "###  dummy coding\n"
   ]
  },
  {
   "cell_type": "code",
   "execution_count": null,
   "metadata": {},
   "outputs": [],
   "source": [
    "# df_dummy = pd.get_dummies(df)"
   ]
  },
  {
   "cell_type": "code",
   "execution_count": null,
   "metadata": {},
   "outputs": [],
   "source": [
    "# df_dummy.head()"
   ]
  },
  {
   "cell_type": "code",
   "execution_count": null,
   "metadata": {},
   "outputs": [],
   "source": [
    "# df_dummy.shape"
   ]
  },
  {
   "cell_type": "code",
   "execution_count": null,
   "metadata": {},
   "outputs": [],
   "source": []
  },
  {
   "cell_type": "code",
   "execution_count": null,
   "metadata": {},
   "outputs": [],
   "source": []
  },
  {
   "cell_type": "code",
   "execution_count": null,
   "metadata": {},
   "outputs": [],
   "source": []
  },
  {
   "cell_type": "markdown",
   "metadata": {},
   "source": [
    "## Label Encoding"
   ]
  },
  {
   "cell_type": "code",
   "execution_count": null,
   "metadata": {},
   "outputs": [],
   "source": [
    "from sklearn.preprocessing import LabelEncoder as LE"
   ]
  },
  {
   "cell_type": "code",
   "execution_count": null,
   "metadata": {},
   "outputs": [],
   "source": [
    "df2[var] = df2[var].apply(LE().fit_transform)"
   ]
  },
  {
   "cell_type": "code",
   "execution_count": null,
   "metadata": {},
   "outputs": [],
   "source": [
    "df2.head()"
   ]
  },
  {
   "cell_type": "code",
   "execution_count": null,
   "metadata": {},
   "outputs": [],
   "source": [
    "train = df2[df2['test'] == 0]\n",
    "test = df2[df2['test'] == 1]"
   ]
  },
  {
   "cell_type": "code",
   "execution_count": null,
   "metadata": {},
   "outputs": [],
   "source": [
    "train.head()"
   ]
  },
  {
   "cell_type": "code",
   "execution_count": null,
   "metadata": {},
   "outputs": [],
   "source": [
    "test.head()"
   ]
  },
  {
   "cell_type": "code",
   "execution_count": null,
   "metadata": {},
   "outputs": [],
   "source": [
    "train.to_csv('train_with_features.csv', index=False)\n",
    "test.to_csv('test_with_features.csv', index=False)"
   ]
  },
  {
   "cell_type": "markdown",
   "metadata": {},
   "source": [
    "# E. Modelling"
   ]
  },
  {
   "cell_type": "code",
   "execution_count": 2,
   "metadata": {},
   "outputs": [],
   "source": [
    "train = pd.read_csv('train_with_features.csv')\n",
    "test = pd.read_csv('test_with_features.csv')"
   ]
  },
  {
   "cell_type": "code",
   "execution_count": 3,
   "metadata": {},
   "outputs": [],
   "source": [
    "features = list(set(train.columns) - set(['Id', 'test', 'SalePrice']))"
   ]
  },
  {
   "cell_type": "code",
   "execution_count": 4,
   "metadata": {},
   "outputs": [
    {
     "data": {
      "text/html": [
       "<div>\n",
       "<style scoped>\n",
       "    .dataframe tbody tr th:only-of-type {\n",
       "        vertical-align: middle;\n",
       "    }\n",
       "\n",
       "    .dataframe tbody tr th {\n",
       "        vertical-align: top;\n",
       "    }\n",
       "\n",
       "    .dataframe thead th {\n",
       "        text-align: right;\n",
       "    }\n",
       "</style>\n",
       "<table border=\"1\" class=\"dataframe\">\n",
       "  <thead>\n",
       "    <tr style=\"text-align: right;\">\n",
       "      <th></th>\n",
       "      <th>1stFlrSF</th>\n",
       "      <th>2ndFlrSF</th>\n",
       "      <th>3SsnPorch</th>\n",
       "      <th>BedroomAbvGr</th>\n",
       "      <th>BsmtCond</th>\n",
       "      <th>BsmtExposure</th>\n",
       "      <th>BsmtFinSF1</th>\n",
       "      <th>BsmtFinSF2</th>\n",
       "      <th>BsmtFinType1</th>\n",
       "      <th>BsmtFinType2</th>\n",
       "      <th>BsmtFullBath</th>\n",
       "      <th>BsmtHalfBath</th>\n",
       "      <th>BsmtQual</th>\n",
       "      <th>BsmtUnfSF</th>\n",
       "      <th>CentralAir</th>\n",
       "      <th>EnclosedPorch</th>\n",
       "      <th>ExterCond</th>\n",
       "      <th>ExterQual</th>\n",
       "      <th>FireplaceQu</th>\n",
       "      <th>Fireplaces</th>\n",
       "      <th>FullBath</th>\n",
       "      <th>GarageArea</th>\n",
       "      <th>GarageCars</th>\n",
       "      <th>GarageCond</th>\n",
       "      <th>GarageFinish</th>\n",
       "      <th>GarageQual</th>\n",
       "      <th>GrLivArea</th>\n",
       "      <th>HalfBath</th>\n",
       "      <th>HeatingQC</th>\n",
       "      <th>KitchenAbvGr</th>\n",
       "      <th>KitchenQual</th>\n",
       "      <th>LotArea</th>\n",
       "      <th>LotFrontage</th>\n",
       "      <th>LowQualFinSF</th>\n",
       "      <th>MasVnrArea</th>\n",
       "      <th>MiscVal</th>\n",
       "      <th>OpenPorchSF</th>\n",
       "      <th>OverallCond</th>\n",
       "      <th>OverallQual</th>\n",
       "      <th>PoolArea</th>\n",
       "      <th>PoolQC</th>\n",
       "      <th>ScreenPorch</th>\n",
       "      <th>TotRmsAbvGrd</th>\n",
       "      <th>TotalBsmtSF</th>\n",
       "      <th>WoodDeckSF</th>\n",
       "      <th>age_when_sold</th>\n",
       "      <th>bath_bed_ratio</th>\n",
       "      <th>bsmt_percent_finished</th>\n",
       "      <th>bsmt_qual_cond</th>\n",
       "      <th>extr_qual_cond</th>\n",
       "      <th>has2ndfloor</th>\n",
       "      <th>hasbsmt</th>\n",
       "      <th>hasfireplace</th>\n",
       "      <th>hasgarage</th>\n",
       "      <th>haspool</th>\n",
       "      <th>no_of_bath</th>\n",
       "      <th>non_bedroom_rooms</th>\n",
       "      <th>num_ext_coverings</th>\n",
       "      <th>overall_qual_cond</th>\n",
       "      <th>remodel_age</th>\n",
       "      <th>totalSF</th>\n",
       "      <th>total_porch</th>\n",
       "      <th>Neighborhood_Category</th>\n",
       "      <th>HouseStyle_Category</th>\n",
       "      <th>GarageType_Category</th>\n",
       "      <th>Exterior1st_Category</th>\n",
       "      <th>LotConfig_Category</th>\n",
       "      <th>MSSubClass_Category</th>\n",
       "      <th>Condition1_Category</th>\n",
       "      <th>Electrical_Category</th>\n",
       "      <th>Exterior2nd_Category</th>\n",
       "      <th>Fence_Category</th>\n",
       "      <th>Foundation_Category</th>\n",
       "      <th>LandContour_Category</th>\n",
       "      <th>PavedDrive_Category</th>\n",
       "      <th>RoofStyle_Category</th>\n",
       "      <th>SaleCondition_Category</th>\n",
       "      <th>SaleType_Category</th>\n",
       "      <th>SalePrice</th>\n",
       "      <th>Id</th>\n",
       "      <th>test</th>\n",
       "    </tr>\n",
       "  </thead>\n",
       "  <tbody>\n",
       "    <tr>\n",
       "      <th>0</th>\n",
       "      <td>5.974078</td>\n",
       "      <td>0.000000</td>\n",
       "      <td>0.0</td>\n",
       "      <td>2</td>\n",
       "      <td>17.042558</td>\n",
       "      <td>0.659491</td>\n",
       "      <td>107.505912</td>\n",
       "      <td>7.76072</td>\n",
       "      <td>3</td>\n",
       "      <td>0.866082</td>\n",
       "      <td>0.0</td>\n",
       "      <td>0.0</td>\n",
       "      <td>7.875071</td>\n",
       "      <td>42.813710</td>\n",
       "      <td>412.595236</td>\n",
       "      <td>0.0</td>\n",
       "      <td>2.127987</td>\n",
       "      <td>1.382614</td>\n",
       "      <td>0</td>\n",
       "      <td>0.000000</td>\n",
       "      <td>1</td>\n",
       "      <td>730.0</td>\n",
       "      <td>1.0</td>\n",
       "      <td>5.082177</td>\n",
       "      <td>1</td>\n",
       "      <td>3.774743</td>\n",
       "      <td>7.551840</td>\n",
       "      <td>0.000000</td>\n",
       "      <td>2.333641</td>\n",
       "      <td>0.750957</td>\n",
       "      <td>3</td>\n",
       "      <td>14.550688</td>\n",
       "      <td>20.683504</td>\n",
       "      <td>0.0</td>\n",
       "      <td>0.000000</td>\n",
       "      <td>0.000000</td>\n",
       "      <td>0.000000</td>\n",
       "      <td>4.679500</td>\n",
       "      <td>5</td>\n",
       "      <td>0.0</td>\n",
       "      <td>0.0</td>\n",
       "      <td>19.077821</td>\n",
       "      <td>1.834659</td>\n",
       "      <td>433.727146</td>\n",
       "      <td>34.371734</td>\n",
       "      <td>14.301615</td>\n",
       "      <td>0.345356</td>\n",
       "      <td>69.387755</td>\n",
       "      <td>19.720082</td>\n",
       "      <td>9</td>\n",
       "      <td>0</td>\n",
       "      <td>1.083227</td>\n",
       "      <td>0</td>\n",
       "      <td>44.435907</td>\n",
       "      <td>0.0</td>\n",
       "      <td>1.0</td>\n",
       "      <td>1.587292</td>\n",
       "      <td>1.500161</td>\n",
       "      <td>30</td>\n",
       "      <td>49</td>\n",
       "      <td>11.102634</td>\n",
       "      <td>47.390334</td>\n",
       "      <td>3</td>\n",
       "      <td>1</td>\n",
       "      <td>1</td>\n",
       "      <td>0</td>\n",
       "      <td>3</td>\n",
       "      <td>1</td>\n",
       "      <td>2</td>\n",
       "      <td>0</td>\n",
       "      <td>0</td>\n",
       "      <td>1</td>\n",
       "      <td>2</td>\n",
       "      <td>1</td>\n",
       "      <td>0</td>\n",
       "      <td>1</td>\n",
       "      <td>1</td>\n",
       "      <td>1</td>\n",
       "      <td>NaN</td>\n",
       "      <td>1461</td>\n",
       "      <td>1</td>\n",
       "    </tr>\n",
       "    <tr>\n",
       "      <th>1</th>\n",
       "      <td>6.274100</td>\n",
       "      <td>0.000000</td>\n",
       "      <td>0.0</td>\n",
       "      <td>3</td>\n",
       "      <td>17.042558</td>\n",
       "      <td>0.659491</td>\n",
       "      <td>174.393644</td>\n",
       "      <td>0.00000</td>\n",
       "      <td>5</td>\n",
       "      <td>0.595150</td>\n",
       "      <td>0.0</td>\n",
       "      <td>0.0</td>\n",
       "      <td>7.875071</td>\n",
       "      <td>54.675304</td>\n",
       "      <td>412.595236</td>\n",
       "      <td>0.0</td>\n",
       "      <td>2.127987</td>\n",
       "      <td>1.382614</td>\n",
       "      <td>0</td>\n",
       "      <td>0.000000</td>\n",
       "      <td>1</td>\n",
       "      <td>312.0</td>\n",
       "      <td>1.0</td>\n",
       "      <td>5.082177</td>\n",
       "      <td>1</td>\n",
       "      <td>3.774743</td>\n",
       "      <td>8.038951</td>\n",
       "      <td>1.068837</td>\n",
       "      <td>2.333641</td>\n",
       "      <td>0.750957</td>\n",
       "      <td>4</td>\n",
       "      <td>15.023150</td>\n",
       "      <td>20.844987</td>\n",
       "      <td>0.0</td>\n",
       "      <td>14.642918</td>\n",
       "      <td>10.245132</td>\n",
       "      <td>9.105438</td>\n",
       "      <td>4.679500</td>\n",
       "      <td>6</td>\n",
       "      <td>0.0</td>\n",
       "      <td>0.0</td>\n",
       "      <td>0.000000</td>\n",
       "      <td>1.996577</td>\n",
       "      <td>621.452746</td>\n",
       "      <td>67.165909</td>\n",
       "      <td>14.837984</td>\n",
       "      <td>0.345356</td>\n",
       "      <td>69.450715</td>\n",
       "      <td>19.720082</td>\n",
       "      <td>9</td>\n",
       "      <td>0</td>\n",
       "      <td>1.083227</td>\n",
       "      <td>0</td>\n",
       "      <td>44.435907</td>\n",
       "      <td>0.0</td>\n",
       "      <td>1.5</td>\n",
       "      <td>1.587292</td>\n",
       "      <td>1.500161</td>\n",
       "      <td>36</td>\n",
       "      <td>52</td>\n",
       "      <td>11.998319</td>\n",
       "      <td>64.876270</td>\n",
       "      <td>3</td>\n",
       "      <td>1</td>\n",
       "      <td>1</td>\n",
       "      <td>2</td>\n",
       "      <td>2</td>\n",
       "      <td>1</td>\n",
       "      <td>1</td>\n",
       "      <td>0</td>\n",
       "      <td>2</td>\n",
       "      <td>0</td>\n",
       "      <td>2</td>\n",
       "      <td>1</td>\n",
       "      <td>0</td>\n",
       "      <td>0</td>\n",
       "      <td>1</td>\n",
       "      <td>1</td>\n",
       "      <td>NaN</td>\n",
       "      <td>1462</td>\n",
       "      <td>1</td>\n",
       "    </tr>\n",
       "    <tr>\n",
       "      <th>2</th>\n",
       "      <td>6.000965</td>\n",
       "      <td>836.685294</td>\n",
       "      <td>0.0</td>\n",
       "      <td>3</td>\n",
       "      <td>17.042558</td>\n",
       "      <td>0.659491</td>\n",
       "      <td>156.263694</td>\n",
       "      <td>0.00000</td>\n",
       "      <td>6</td>\n",
       "      <td>0.595150</td>\n",
       "      <td>0.0</td>\n",
       "      <td>0.0</td>\n",
       "      <td>12.725003</td>\n",
       "      <td>28.375984</td>\n",
       "      <td>412.595236</td>\n",
       "      <td>0.0</td>\n",
       "      <td>2.127987</td>\n",
       "      <td>1.382614</td>\n",
       "      <td>3</td>\n",
       "      <td>0.903334</td>\n",
       "      <td>2</td>\n",
       "      <td>482.0</td>\n",
       "      <td>2.0</td>\n",
       "      <td>5.082177</td>\n",
       "      <td>3</td>\n",
       "      <td>3.774743</td>\n",
       "      <td>8.292788</td>\n",
       "      <td>1.068837</td>\n",
       "      <td>2.967037</td>\n",
       "      <td>0.750957</td>\n",
       "      <td>3</td>\n",
       "      <td>14.950919</td>\n",
       "      <td>19.696688</td>\n",
       "      <td>0.0</td>\n",
       "      <td>0.000000</td>\n",
       "      <td>0.000000</td>\n",
       "      <td>8.824656</td>\n",
       "      <td>3.991517</td>\n",
       "      <td>5</td>\n",
       "      <td>0.0</td>\n",
       "      <td>0.0</td>\n",
       "      <td>0.000000</td>\n",
       "      <td>1.996577</td>\n",
       "      <td>453.511529</td>\n",
       "      <td>45.058322</td>\n",
       "      <td>6.073960</td>\n",
       "      <td>0.478461</td>\n",
       "      <td>85.237069</td>\n",
       "      <td>29.395147</td>\n",
       "      <td>9</td>\n",
       "      <td>1</td>\n",
       "      <td>1.083227</td>\n",
       "      <td>1</td>\n",
       "      <td>44.435907</td>\n",
       "      <td>0.0</td>\n",
       "      <td>2.5</td>\n",
       "      <td>1.587292</td>\n",
       "      <td>1.500161</td>\n",
       "      <td>25</td>\n",
       "      <td>12</td>\n",
       "      <td>12.163132</td>\n",
       "      <td>45.766464</td>\n",
       "      <td>2</td>\n",
       "      <td>0</td>\n",
       "      <td>1</td>\n",
       "      <td>0</td>\n",
       "      <td>3</td>\n",
       "      <td>0</td>\n",
       "      <td>1</td>\n",
       "      <td>0</td>\n",
       "      <td>0</td>\n",
       "      <td>1</td>\n",
       "      <td>0</td>\n",
       "      <td>1</td>\n",
       "      <td>0</td>\n",
       "      <td>1</td>\n",
       "      <td>1</td>\n",
       "      <td>1</td>\n",
       "      <td>NaN</td>\n",
       "      <td>1463</td>\n",
       "      <td>1</td>\n",
       "    </tr>\n",
       "    <tr>\n",
       "      <th>3</th>\n",
       "      <td>5.999313</td>\n",
       "      <td>808.385060</td>\n",
       "      <td>0.0</td>\n",
       "      <td>3</td>\n",
       "      <td>17.042558</td>\n",
       "      <td>0.659491</td>\n",
       "      <td>128.653472</td>\n",
       "      <td>0.00000</td>\n",
       "      <td>6</td>\n",
       "      <td>0.595150</td>\n",
       "      <td>0.0</td>\n",
       "      <td>0.0</td>\n",
       "      <td>7.875071</td>\n",
       "      <td>47.769036</td>\n",
       "      <td>412.595236</td>\n",
       "      <td>0.0</td>\n",
       "      <td>2.127987</td>\n",
       "      <td>1.382614</td>\n",
       "      <td>4</td>\n",
       "      <td>0.903334</td>\n",
       "      <td>2</td>\n",
       "      <td>470.0</td>\n",
       "      <td>2.0</td>\n",
       "      <td>5.082177</td>\n",
       "      <td>3</td>\n",
       "      <td>3.774743</td>\n",
       "      <td>8.273444</td>\n",
       "      <td>1.068837</td>\n",
       "      <td>3.562767</td>\n",
       "      <td>0.750957</td>\n",
       "      <td>4</td>\n",
       "      <td>14.204772</td>\n",
       "      <td>20.358040</td>\n",
       "      <td>0.0</td>\n",
       "      <td>6.157403</td>\n",
       "      <td>0.000000</td>\n",
       "      <td>9.105438</td>\n",
       "      <td>4.679500</td>\n",
       "      <td>6</td>\n",
       "      <td>0.0</td>\n",
       "      <td>0.0</td>\n",
       "      <td>0.000000</td>\n",
       "      <td>2.137369</td>\n",
       "      <td>452.653904</td>\n",
       "      <td>63.475315</td>\n",
       "      <td>5.753077</td>\n",
       "      <td>0.478461</td>\n",
       "      <td>65.010799</td>\n",
       "      <td>19.720082</td>\n",
       "      <td>9</td>\n",
       "      <td>1</td>\n",
       "      <td>1.083227</td>\n",
       "      <td>1</td>\n",
       "      <td>44.435907</td>\n",
       "      <td>0.0</td>\n",
       "      <td>2.5</td>\n",
       "      <td>1.884419</td>\n",
       "      <td>1.500161</td>\n",
       "      <td>36</td>\n",
       "      <td>12</td>\n",
       "      <td>11.951278</td>\n",
       "      <td>61.709403</td>\n",
       "      <td>2</td>\n",
       "      <td>0</td>\n",
       "      <td>1</td>\n",
       "      <td>0</td>\n",
       "      <td>3</td>\n",
       "      <td>0</td>\n",
       "      <td>1</td>\n",
       "      <td>0</td>\n",
       "      <td>0</td>\n",
       "      <td>0</td>\n",
       "      <td>0</td>\n",
       "      <td>1</td>\n",
       "      <td>0</td>\n",
       "      <td>1</td>\n",
       "      <td>1</td>\n",
       "      <td>1</td>\n",
       "      <td>NaN</td>\n",
       "      <td>1464</td>\n",
       "      <td>1</td>\n",
       "    </tr>\n",
       "    <tr>\n",
       "      <th>4</th>\n",
       "      <td>6.245704</td>\n",
       "      <td>0.000000</td>\n",
       "      <td>0.0</td>\n",
       "      <td>2</td>\n",
       "      <td>17.042558</td>\n",
       "      <td>0.659491</td>\n",
       "      <td>71.179547</td>\n",
       "      <td>0.00000</td>\n",
       "      <td>5</td>\n",
       "      <td>0.595150</td>\n",
       "      <td>0.0</td>\n",
       "      <td>0.0</td>\n",
       "      <td>12.725003</td>\n",
       "      <td>94.312856</td>\n",
       "      <td>412.595236</td>\n",
       "      <td>0.0</td>\n",
       "      <td>2.127987</td>\n",
       "      <td>1.604478</td>\n",
       "      <td>0</td>\n",
       "      <td>0.000000</td>\n",
       "      <td>2</td>\n",
       "      <td>506.0</td>\n",
       "      <td>2.0</td>\n",
       "      <td>5.082177</td>\n",
       "      <td>2</td>\n",
       "      <td>3.774743</td>\n",
       "      <td>7.992276</td>\n",
       "      <td>0.000000</td>\n",
       "      <td>3.562767</td>\n",
       "      <td>0.750957</td>\n",
       "      <td>4</td>\n",
       "      <td>12.696875</td>\n",
       "      <td>13.954812</td>\n",
       "      <td>0.0</td>\n",
       "      <td>0.000000</td>\n",
       "      <td>0.000000</td>\n",
       "      <td>14.095082</td>\n",
       "      <td>3.991517</td>\n",
       "      <td>8</td>\n",
       "      <td>0.0</td>\n",
       "      <td>0.0</td>\n",
       "      <td>21.018868</td>\n",
       "      <td>1.834659</td>\n",
       "      <td>601.310943</td>\n",
       "      <td>0.000000</td>\n",
       "      <td>7.547086</td>\n",
       "      <td>0.529754</td>\n",
       "      <td>20.546875</td>\n",
       "      <td>29.395147</td>\n",
       "      <td>9</td>\n",
       "      <td>0</td>\n",
       "      <td>1.083227</td>\n",
       "      <td>0</td>\n",
       "      <td>44.435907</td>\n",
       "      <td>0.0</td>\n",
       "      <td>2.0</td>\n",
       "      <td>1.587292</td>\n",
       "      <td>1.500161</td>\n",
       "      <td>40</td>\n",
       "      <td>18</td>\n",
       "      <td>11.152844</td>\n",
       "      <td>43.383060</td>\n",
       "      <td>0</td>\n",
       "      <td>1</td>\n",
       "      <td>1</td>\n",
       "      <td>1</td>\n",
       "      <td>3</td>\n",
       "      <td>0</td>\n",
       "      <td>1</td>\n",
       "      <td>0</td>\n",
       "      <td>1</td>\n",
       "      <td>0</td>\n",
       "      <td>0</td>\n",
       "      <td>0</td>\n",
       "      <td>0</td>\n",
       "      <td>1</td>\n",
       "      <td>1</td>\n",
       "      <td>1</td>\n",
       "      <td>NaN</td>\n",
       "      <td>1465</td>\n",
       "      <td>1</td>\n",
       "    </tr>\n",
       "  </tbody>\n",
       "</table>\n",
       "</div>"
      ],
      "text/plain": [
       "   1stFlrSF    2ndFlrSF  3SsnPorch  BedroomAbvGr   BsmtCond  BsmtExposure  \\\n",
       "0  5.974078    0.000000        0.0             2  17.042558      0.659491   \n",
       "1  6.274100    0.000000        0.0             3  17.042558      0.659491   \n",
       "2  6.000965  836.685294        0.0             3  17.042558      0.659491   \n",
       "3  5.999313  808.385060        0.0             3  17.042558      0.659491   \n",
       "4  6.245704    0.000000        0.0             2  17.042558      0.659491   \n",
       "\n",
       "   BsmtFinSF1  BsmtFinSF2  BsmtFinType1  BsmtFinType2  BsmtFullBath  \\\n",
       "0  107.505912     7.76072             3      0.866082           0.0   \n",
       "1  174.393644     0.00000             5      0.595150           0.0   \n",
       "2  156.263694     0.00000             6      0.595150           0.0   \n",
       "3  128.653472     0.00000             6      0.595150           0.0   \n",
       "4   71.179547     0.00000             5      0.595150           0.0   \n",
       "\n",
       "   BsmtHalfBath   BsmtQual  BsmtUnfSF  CentralAir  EnclosedPorch  ExterCond  \\\n",
       "0           0.0   7.875071  42.813710  412.595236            0.0   2.127987   \n",
       "1           0.0   7.875071  54.675304  412.595236            0.0   2.127987   \n",
       "2           0.0  12.725003  28.375984  412.595236            0.0   2.127987   \n",
       "3           0.0   7.875071  47.769036  412.595236            0.0   2.127987   \n",
       "4           0.0  12.725003  94.312856  412.595236            0.0   2.127987   \n",
       "\n",
       "   ExterQual  FireplaceQu  Fireplaces  FullBath  GarageArea  GarageCars  \\\n",
       "0   1.382614            0    0.000000         1       730.0         1.0   \n",
       "1   1.382614            0    0.000000         1       312.0         1.0   \n",
       "2   1.382614            3    0.903334         2       482.0         2.0   \n",
       "3   1.382614            4    0.903334         2       470.0         2.0   \n",
       "4   1.604478            0    0.000000         2       506.0         2.0   \n",
       "\n",
       "   GarageCond  GarageFinish  GarageQual  GrLivArea  HalfBath  HeatingQC  \\\n",
       "0    5.082177             1    3.774743   7.551840  0.000000   2.333641   \n",
       "1    5.082177             1    3.774743   8.038951  1.068837   2.333641   \n",
       "2    5.082177             3    3.774743   8.292788  1.068837   2.967037   \n",
       "3    5.082177             3    3.774743   8.273444  1.068837   3.562767   \n",
       "4    5.082177             2    3.774743   7.992276  0.000000   3.562767   \n",
       "\n",
       "   KitchenAbvGr  KitchenQual    LotArea  LotFrontage  LowQualFinSF  \\\n",
       "0      0.750957            3  14.550688    20.683504           0.0   \n",
       "1      0.750957            4  15.023150    20.844987           0.0   \n",
       "2      0.750957            3  14.950919    19.696688           0.0   \n",
       "3      0.750957            4  14.204772    20.358040           0.0   \n",
       "4      0.750957            4  12.696875    13.954812           0.0   \n",
       "\n",
       "   MasVnrArea    MiscVal  OpenPorchSF  OverallCond  OverallQual  PoolArea  \\\n",
       "0    0.000000   0.000000     0.000000     4.679500            5       0.0   \n",
       "1   14.642918  10.245132     9.105438     4.679500            6       0.0   \n",
       "2    0.000000   0.000000     8.824656     3.991517            5       0.0   \n",
       "3    6.157403   0.000000     9.105438     4.679500            6       0.0   \n",
       "4    0.000000   0.000000    14.095082     3.991517            8       0.0   \n",
       "\n",
       "   PoolQC  ScreenPorch  TotRmsAbvGrd  TotalBsmtSF  WoodDeckSF  age_when_sold  \\\n",
       "0     0.0    19.077821      1.834659   433.727146   34.371734      14.301615   \n",
       "1     0.0     0.000000      1.996577   621.452746   67.165909      14.837984   \n",
       "2     0.0     0.000000      1.996577   453.511529   45.058322       6.073960   \n",
       "3     0.0     0.000000      2.137369   452.653904   63.475315       5.753077   \n",
       "4     0.0    21.018868      1.834659   601.310943    0.000000       7.547086   \n",
       "\n",
       "   bath_bed_ratio  bsmt_percent_finished  bsmt_qual_cond  extr_qual_cond  \\\n",
       "0        0.345356              69.387755       19.720082               9   \n",
       "1        0.345356              69.450715       19.720082               9   \n",
       "2        0.478461              85.237069       29.395147               9   \n",
       "3        0.478461              65.010799       19.720082               9   \n",
       "4        0.529754              20.546875       29.395147               9   \n",
       "\n",
       "   has2ndfloor   hasbsmt  hasfireplace  hasgarage  haspool  no_of_bath  \\\n",
       "0            0  1.083227             0  44.435907      0.0         1.0   \n",
       "1            0  1.083227             0  44.435907      0.0         1.5   \n",
       "2            1  1.083227             1  44.435907      0.0         2.5   \n",
       "3            1  1.083227             1  44.435907      0.0         2.5   \n",
       "4            0  1.083227             0  44.435907      0.0         2.0   \n",
       "\n",
       "   non_bedroom_rooms  num_ext_coverings  overall_qual_cond  remodel_age  \\\n",
       "0           1.587292           1.500161                 30           49   \n",
       "1           1.587292           1.500161                 36           52   \n",
       "2           1.587292           1.500161                 25           12   \n",
       "3           1.884419           1.500161                 36           12   \n",
       "4           1.587292           1.500161                 40           18   \n",
       "\n",
       "     totalSF  total_porch  Neighborhood_Category  HouseStyle_Category  \\\n",
       "0  11.102634    47.390334                      3                    1   \n",
       "1  11.998319    64.876270                      3                    1   \n",
       "2  12.163132    45.766464                      2                    0   \n",
       "3  11.951278    61.709403                      2                    0   \n",
       "4  11.152844    43.383060                      0                    1   \n",
       "\n",
       "   GarageType_Category  Exterior1st_Category  LotConfig_Category  \\\n",
       "0                    1                     0                   3   \n",
       "1                    1                     2                   2   \n",
       "2                    1                     0                   3   \n",
       "3                    1                     0                   3   \n",
       "4                    1                     1                   3   \n",
       "\n",
       "   MSSubClass_Category  Condition1_Category  Electrical_Category  \\\n",
       "0                    1                    2                    0   \n",
       "1                    1                    1                    0   \n",
       "2                    0                    1                    0   \n",
       "3                    0                    1                    0   \n",
       "4                    0                    1                    0   \n",
       "\n",
       "   Exterior2nd_Category  Fence_Category  Foundation_Category  \\\n",
       "0                     0               1                    2   \n",
       "1                     2               0                    2   \n",
       "2                     0               1                    0   \n",
       "3                     0               0                    0   \n",
       "4                     1               0                    0   \n",
       "\n",
       "   LandContour_Category  PavedDrive_Category  RoofStyle_Category  \\\n",
       "0                     1                    0                   1   \n",
       "1                     1                    0                   0   \n",
       "2                     1                    0                   1   \n",
       "3                     1                    0                   1   \n",
       "4                     0                    0                   1   \n",
       "\n",
       "   SaleCondition_Category  SaleType_Category  SalePrice    Id  test  \n",
       "0                       1                  1        NaN  1461     1  \n",
       "1                       1                  1        NaN  1462     1  \n",
       "2                       1                  1        NaN  1463     1  \n",
       "3                       1                  1        NaN  1464     1  \n",
       "4                       1                  1        NaN  1465     1  "
      ]
     },
     "execution_count": 4,
     "metadata": {},
     "output_type": "execute_result"
    }
   ],
   "source": [
    "test.head()"
   ]
  },
  {
   "cell_type": "code",
   "execution_count": 5,
   "metadata": {},
   "outputs": [
    {
     "data": {
      "text/html": [
       "<div>\n",
       "<style scoped>\n",
       "    .dataframe tbody tr th:only-of-type {\n",
       "        vertical-align: middle;\n",
       "    }\n",
       "\n",
       "    .dataframe tbody tr th {\n",
       "        vertical-align: top;\n",
       "    }\n",
       "\n",
       "    .dataframe thead th {\n",
       "        text-align: right;\n",
       "    }\n",
       "</style>\n",
       "<table border=\"1\" class=\"dataframe\">\n",
       "  <thead>\n",
       "    <tr style=\"text-align: right;\">\n",
       "      <th></th>\n",
       "      <th>1stFlrSF</th>\n",
       "      <th>2ndFlrSF</th>\n",
       "      <th>3SsnPorch</th>\n",
       "      <th>BedroomAbvGr</th>\n",
       "      <th>BsmtCond</th>\n",
       "      <th>BsmtExposure</th>\n",
       "      <th>BsmtFinSF1</th>\n",
       "      <th>BsmtFinSF2</th>\n",
       "      <th>BsmtFinType1</th>\n",
       "      <th>BsmtFinType2</th>\n",
       "      <th>BsmtFullBath</th>\n",
       "      <th>BsmtHalfBath</th>\n",
       "      <th>BsmtQual</th>\n",
       "      <th>BsmtUnfSF</th>\n",
       "      <th>CentralAir</th>\n",
       "      <th>EnclosedPorch</th>\n",
       "      <th>ExterCond</th>\n",
       "      <th>ExterQual</th>\n",
       "      <th>FireplaceQu</th>\n",
       "      <th>Fireplaces</th>\n",
       "      <th>FullBath</th>\n",
       "      <th>GarageArea</th>\n",
       "      <th>GarageCars</th>\n",
       "      <th>GarageCond</th>\n",
       "      <th>GarageFinish</th>\n",
       "      <th>GarageQual</th>\n",
       "      <th>GrLivArea</th>\n",
       "      <th>HalfBath</th>\n",
       "      <th>HeatingQC</th>\n",
       "      <th>KitchenAbvGr</th>\n",
       "      <th>KitchenQual</th>\n",
       "      <th>LotArea</th>\n",
       "      <th>LotFrontage</th>\n",
       "      <th>LowQualFinSF</th>\n",
       "      <th>MasVnrArea</th>\n",
       "      <th>MiscVal</th>\n",
       "      <th>OpenPorchSF</th>\n",
       "      <th>OverallCond</th>\n",
       "      <th>OverallQual</th>\n",
       "      <th>PoolArea</th>\n",
       "      <th>PoolQC</th>\n",
       "      <th>ScreenPorch</th>\n",
       "      <th>TotRmsAbvGrd</th>\n",
       "      <th>TotalBsmtSF</th>\n",
       "      <th>WoodDeckSF</th>\n",
       "      <th>age_when_sold</th>\n",
       "      <th>bath_bed_ratio</th>\n",
       "      <th>bsmt_percent_finished</th>\n",
       "      <th>bsmt_qual_cond</th>\n",
       "      <th>extr_qual_cond</th>\n",
       "      <th>has2ndfloor</th>\n",
       "      <th>hasbsmt</th>\n",
       "      <th>hasfireplace</th>\n",
       "      <th>hasgarage</th>\n",
       "      <th>haspool</th>\n",
       "      <th>no_of_bath</th>\n",
       "      <th>non_bedroom_rooms</th>\n",
       "      <th>num_ext_coverings</th>\n",
       "      <th>overall_qual_cond</th>\n",
       "      <th>remodel_age</th>\n",
       "      <th>totalSF</th>\n",
       "      <th>total_porch</th>\n",
       "      <th>Neighborhood_Category</th>\n",
       "      <th>HouseStyle_Category</th>\n",
       "      <th>GarageType_Category</th>\n",
       "      <th>Exterior1st_Category</th>\n",
       "      <th>LotConfig_Category</th>\n",
       "      <th>MSSubClass_Category</th>\n",
       "      <th>Condition1_Category</th>\n",
       "      <th>Electrical_Category</th>\n",
       "      <th>Exterior2nd_Category</th>\n",
       "      <th>Fence_Category</th>\n",
       "      <th>Foundation_Category</th>\n",
       "      <th>LandContour_Category</th>\n",
       "      <th>PavedDrive_Category</th>\n",
       "      <th>RoofStyle_Category</th>\n",
       "      <th>SaleCondition_Category</th>\n",
       "      <th>SaleType_Category</th>\n",
       "      <th>SalePrice</th>\n",
       "      <th>Id</th>\n",
       "      <th>test</th>\n",
       "    </tr>\n",
       "  </thead>\n",
       "  <tbody>\n",
       "    <tr>\n",
       "      <th>0</th>\n",
       "      <td>5.939033</td>\n",
       "      <td>1025.651978</td>\n",
       "      <td>0.0</td>\n",
       "      <td>3</td>\n",
       "      <td>17.042558</td>\n",
       "      <td>0.659491</td>\n",
       "      <td>144.117862</td>\n",
       "      <td>0.0</td>\n",
       "      <td>6</td>\n",
       "      <td>0.59515</td>\n",
       "      <td>0.99344</td>\n",
       "      <td>0.000000</td>\n",
       "      <td>12.725003</td>\n",
       "      <td>29.991052</td>\n",
       "      <td>412.595236</td>\n",
       "      <td>0.000000</td>\n",
       "      <td>2.127987</td>\n",
       "      <td>1.604478</td>\n",
       "      <td>0</td>\n",
       "      <td>0.000000</td>\n",
       "      <td>2</td>\n",
       "      <td>548.0</td>\n",
       "      <td>2.0</td>\n",
       "      <td>5.082177</td>\n",
       "      <td>2</td>\n",
       "      <td>3.774743</td>\n",
       "      <td>8.353544</td>\n",
       "      <td>1.068837</td>\n",
       "      <td>3.562767</td>\n",
       "      <td>0.750957</td>\n",
       "      <td>4</td>\n",
       "      <td>13.833055</td>\n",
       "      <td>18.152750</td>\n",
       "      <td>0.0</td>\n",
       "      <td>19.433174</td>\n",
       "      <td>0.0</td>\n",
       "      <td>12.080309</td>\n",
       "      <td>3.991517</td>\n",
       "      <td>7</td>\n",
       "      <td>0.0</td>\n",
       "      <td>0.0</td>\n",
       "      <td>0.0</td>\n",
       "      <td>2.261968</td>\n",
       "      <td>422.488452</td>\n",
       "      <td>0.000000</td>\n",
       "      <td>3.095181</td>\n",
       "      <td>0.478461</td>\n",
       "      <td>82.476636</td>\n",
       "      <td>29.395147</td>\n",
       "      <td>9</td>\n",
       "      <td>1</td>\n",
       "      <td>1.083227</td>\n",
       "      <td>0</td>\n",
       "      <td>44.435907</td>\n",
       "      <td>0.0</td>\n",
       "      <td>3.5</td>\n",
       "      <td>2.136773</td>\n",
       "      <td>1.500161</td>\n",
       "      <td>35</td>\n",
       "      <td>5</td>\n",
       "      <td>12.159329</td>\n",
       "      <td>18.736119</td>\n",
       "      <td>2</td>\n",
       "      <td>0</td>\n",
       "      <td>1</td>\n",
       "      <td>0</td>\n",
       "      <td>3</td>\n",
       "      <td>0</td>\n",
       "      <td>1</td>\n",
       "      <td>0</td>\n",
       "      <td>0</td>\n",
       "      <td>0</td>\n",
       "      <td>0</td>\n",
       "      <td>1</td>\n",
       "      <td>0</td>\n",
       "      <td>1</td>\n",
       "      <td>1</td>\n",
       "      <td>1</td>\n",
       "      <td>208500.0</td>\n",
       "      <td>1</td>\n",
       "      <td>0</td>\n",
       "    </tr>\n",
       "    <tr>\n",
       "      <th>1</th>\n",
       "      <td>6.234989</td>\n",
       "      <td>0.000000</td>\n",
       "      <td>0.0</td>\n",
       "      <td>3</td>\n",
       "      <td>17.042558</td>\n",
       "      <td>1.435627</td>\n",
       "      <td>181.719186</td>\n",
       "      <td>0.0</td>\n",
       "      <td>5</td>\n",
       "      <td>0.59515</td>\n",
       "      <td>0.00000</td>\n",
       "      <td>0.710895</td>\n",
       "      <td>12.725003</td>\n",
       "      <td>44.135410</td>\n",
       "      <td>412.595236</td>\n",
       "      <td>0.000000</td>\n",
       "      <td>2.127987</td>\n",
       "      <td>1.382614</td>\n",
       "      <td>3</td>\n",
       "      <td>0.903334</td>\n",
       "      <td>2</td>\n",
       "      <td>460.0</td>\n",
       "      <td>2.0</td>\n",
       "      <td>5.082177</td>\n",
       "      <td>2</td>\n",
       "      <td>3.774743</td>\n",
       "      <td>7.974694</td>\n",
       "      <td>0.000000</td>\n",
       "      <td>3.562767</td>\n",
       "      <td>0.750957</td>\n",
       "      <td>3</td>\n",
       "      <td>14.117918</td>\n",
       "      <td>20.683504</td>\n",
       "      <td>0.0</td>\n",
       "      <td>0.000000</td>\n",
       "      <td>0.0</td>\n",
       "      <td>0.000000</td>\n",
       "      <td>6.000033</td>\n",
       "      <td>6</td>\n",
       "      <td>0.0</td>\n",
       "      <td>0.0</td>\n",
       "      <td>0.0</td>\n",
       "      <td>1.996577</td>\n",
       "      <td>593.888092</td>\n",
       "      <td>56.184225</td>\n",
       "      <td>10.728415</td>\n",
       "      <td>0.417947</td>\n",
       "      <td>77.496038</td>\n",
       "      <td>29.395147</td>\n",
       "      <td>9</td>\n",
       "      <td>0</td>\n",
       "      <td>1.083227</td>\n",
       "      <td>1</td>\n",
       "      <td>44.435907</td>\n",
       "      <td>0.0</td>\n",
       "      <td>2.5</td>\n",
       "      <td>1.587292</td>\n",
       "      <td>1.500161</td>\n",
       "      <td>48</td>\n",
       "      <td>31</td>\n",
       "      <td>11.986131</td>\n",
       "      <td>51.635464</td>\n",
       "      <td>1</td>\n",
       "      <td>1</td>\n",
       "      <td>1</td>\n",
       "      <td>2</td>\n",
       "      <td>3</td>\n",
       "      <td>1</td>\n",
       "      <td>2</td>\n",
       "      <td>0</td>\n",
       "      <td>2</td>\n",
       "      <td>0</td>\n",
       "      <td>2</td>\n",
       "      <td>1</td>\n",
       "      <td>0</td>\n",
       "      <td>1</td>\n",
       "      <td>1</td>\n",
       "      <td>1</td>\n",
       "      <td>181500.0</td>\n",
       "      <td>2</td>\n",
       "      <td>0</td>\n",
       "    </tr>\n",
       "    <tr>\n",
       "      <th>2</th>\n",
       "      <td>5.994335</td>\n",
       "      <td>1040.521059</td>\n",
       "      <td>0.0</td>\n",
       "      <td>3</td>\n",
       "      <td>17.042558</td>\n",
       "      <td>1.015669</td>\n",
       "      <td>110.441033</td>\n",
       "      <td>0.0</td>\n",
       "      <td>6</td>\n",
       "      <td>0.59515</td>\n",
       "      <td>0.99344</td>\n",
       "      <td>0.000000</td>\n",
       "      <td>12.725003</td>\n",
       "      <td>56.896528</td>\n",
       "      <td>412.595236</td>\n",
       "      <td>0.000000</td>\n",
       "      <td>2.127987</td>\n",
       "      <td>1.604478</td>\n",
       "      <td>3</td>\n",
       "      <td>0.903334</td>\n",
       "      <td>2</td>\n",
       "      <td>608.0</td>\n",
       "      <td>2.0</td>\n",
       "      <td>5.082177</td>\n",
       "      <td>2</td>\n",
       "      <td>3.774743</td>\n",
       "      <td>8.408065</td>\n",
       "      <td>1.068837</td>\n",
       "      <td>3.562767</td>\n",
       "      <td>0.750957</td>\n",
       "      <td>4</td>\n",
       "      <td>14.476513</td>\n",
       "      <td>18.676569</td>\n",
       "      <td>0.0</td>\n",
       "      <td>17.768840</td>\n",
       "      <td>0.0</td>\n",
       "      <td>9.901081</td>\n",
       "      <td>3.991517</td>\n",
       "      <td>7</td>\n",
       "      <td>0.0</td>\n",
       "      <td>0.0</td>\n",
       "      <td>0.0</td>\n",
       "      <td>1.996577</td>\n",
       "      <td>450.079654</td>\n",
       "      <td>0.000000</td>\n",
       "      <td>3.951895</td>\n",
       "      <td>0.478461</td>\n",
       "      <td>52.826087</td>\n",
       "      <td>29.395147</td>\n",
       "      <td>9</td>\n",
       "      <td>1</td>\n",
       "      <td>1.083227</td>\n",
       "      <td>1</td>\n",
       "      <td>44.435907</td>\n",
       "      <td>0.0</td>\n",
       "      <td>3.5</td>\n",
       "      <td>1.587292</td>\n",
       "      <td>1.500161</td>\n",
       "      <td>35</td>\n",
       "      <td>6</td>\n",
       "      <td>12.018504</td>\n",
       "      <td>14.654641</td>\n",
       "      <td>2</td>\n",
       "      <td>0</td>\n",
       "      <td>1</td>\n",
       "      <td>0</td>\n",
       "      <td>3</td>\n",
       "      <td>0</td>\n",
       "      <td>1</td>\n",
       "      <td>0</td>\n",
       "      <td>0</td>\n",
       "      <td>0</td>\n",
       "      <td>0</td>\n",
       "      <td>1</td>\n",
       "      <td>0</td>\n",
       "      <td>1</td>\n",
       "      <td>1</td>\n",
       "      <td>1</td>\n",
       "      <td>223500.0</td>\n",
       "      <td>3</td>\n",
       "      <td>0</td>\n",
       "    </tr>\n",
       "    <tr>\n",
       "      <th>3</th>\n",
       "      <td>6.027703</td>\n",
       "      <td>904.477422</td>\n",
       "      <td>0.0</td>\n",
       "      <td>3</td>\n",
       "      <td>32.173996</td>\n",
       "      <td>0.659491</td>\n",
       "      <td>61.795315</td>\n",
       "      <td>0.0</td>\n",
       "      <td>5</td>\n",
       "      <td>0.59515</td>\n",
       "      <td>0.99344</td>\n",
       "      <td>0.000000</td>\n",
       "      <td>7.875071</td>\n",
       "      <td>64.808848</td>\n",
       "      <td>412.595236</td>\n",
       "      <td>16.020712</td>\n",
       "      <td>2.127987</td>\n",
       "      <td>1.382614</td>\n",
       "      <td>4</td>\n",
       "      <td>0.903334</td>\n",
       "      <td>1</td>\n",
       "      <td>642.0</td>\n",
       "      <td>3.0</td>\n",
       "      <td>5.082177</td>\n",
       "      <td>1</td>\n",
       "      <td>3.774743</td>\n",
       "      <td>8.358663</td>\n",
       "      <td>0.000000</td>\n",
       "      <td>2.967037</td>\n",
       "      <td>0.750957</td>\n",
       "      <td>4</td>\n",
       "      <td>14.106197</td>\n",
       "      <td>17.257246</td>\n",
       "      <td>0.0</td>\n",
       "      <td>0.000000</td>\n",
       "      <td>0.0</td>\n",
       "      <td>8.966116</td>\n",
       "      <td>3.991517</td>\n",
       "      <td>7</td>\n",
       "      <td>0.0</td>\n",
       "      <td>0.0</td>\n",
       "      <td>0.0</td>\n",
       "      <td>2.137369</td>\n",
       "      <td>378.854517</td>\n",
       "      <td>0.000000</td>\n",
       "      <td>20.889569</td>\n",
       "      <td>0.256486</td>\n",
       "      <td>28.571429</td>\n",
       "      <td>29.395147</td>\n",
       "      <td>9</td>\n",
       "      <td>1</td>\n",
       "      <td>1.083227</td>\n",
       "      <td>1</td>\n",
       "      <td>44.435907</td>\n",
       "      <td>0.0</td>\n",
       "      <td>2.0</td>\n",
       "      <td>1.884419</td>\n",
       "      <td>4.000746</td>\n",
       "      <td>35</td>\n",
       "      <td>36</td>\n",
       "      <td>11.652615</td>\n",
       "      <td>52.609468</td>\n",
       "      <td>1</td>\n",
       "      <td>0</td>\n",
       "      <td>2</td>\n",
       "      <td>2</td>\n",
       "      <td>2</td>\n",
       "      <td>1</td>\n",
       "      <td>1</td>\n",
       "      <td>0</td>\n",
       "      <td>1</td>\n",
       "      <td>0</td>\n",
       "      <td>2</td>\n",
       "      <td>1</td>\n",
       "      <td>0</td>\n",
       "      <td>1</td>\n",
       "      <td>2</td>\n",
       "      <td>1</td>\n",
       "      <td>140000.0</td>\n",
       "      <td>4</td>\n",
       "      <td>0</td>\n",
       "    </tr>\n",
       "    <tr>\n",
       "      <th>4</th>\n",
       "      <td>6.161220</td>\n",
       "      <td>1273.024862</td>\n",
       "      <td>0.0</td>\n",
       "      <td>4</td>\n",
       "      <td>17.042558</td>\n",
       "      <td>1.255992</td>\n",
       "      <td>136.624601</td>\n",
       "      <td>0.0</td>\n",
       "      <td>6</td>\n",
       "      <td>0.59515</td>\n",
       "      <td>0.99344</td>\n",
       "      <td>0.000000</td>\n",
       "      <td>12.725003</td>\n",
       "      <td>61.166371</td>\n",
       "      <td>412.595236</td>\n",
       "      <td>0.000000</td>\n",
       "      <td>2.127987</td>\n",
       "      <td>1.604478</td>\n",
       "      <td>3</td>\n",
       "      <td>0.903334</td>\n",
       "      <td>2</td>\n",
       "      <td>836.0</td>\n",
       "      <td>3.0</td>\n",
       "      <td>5.082177</td>\n",
       "      <td>2</td>\n",
       "      <td>3.774743</td>\n",
       "      <td>8.669322</td>\n",
       "      <td>1.068837</td>\n",
       "      <td>3.562767</td>\n",
       "      <td>0.750957</td>\n",
       "      <td>4</td>\n",
       "      <td>15.022009</td>\n",
       "      <td>21.324605</td>\n",
       "      <td>0.0</td>\n",
       "      <td>25.404163</td>\n",
       "      <td>0.0</td>\n",
       "      <td>14.271569</td>\n",
       "      <td>3.991517</td>\n",
       "      <td>8</td>\n",
       "      <td>0.0</td>\n",
       "      <td>0.0</td>\n",
       "      <td>0.0</td>\n",
       "      <td>2.373753</td>\n",
       "      <td>545.309849</td>\n",
       "      <td>42.245703</td>\n",
       "      <td>4.344719</td>\n",
       "      <td>0.401068</td>\n",
       "      <td>57.205240</td>\n",
       "      <td>29.395147</td>\n",
       "      <td>9</td>\n",
       "      <td>1</td>\n",
       "      <td>1.083227</td>\n",
       "      <td>1</td>\n",
       "      <td>44.435907</td>\n",
       "      <td>0.0</td>\n",
       "      <td>3.5</td>\n",
       "      <td>2.136773</td>\n",
       "      <td>1.500161</td>\n",
       "      <td>40</td>\n",
       "      <td>8</td>\n",
       "      <td>12.545009</td>\n",
       "      <td>49.205236</td>\n",
       "      <td>0</td>\n",
       "      <td>0</td>\n",
       "      <td>1</td>\n",
       "      <td>0</td>\n",
       "      <td>3</td>\n",
       "      <td>0</td>\n",
       "      <td>1</td>\n",
       "      <td>0</td>\n",
       "      <td>0</td>\n",
       "      <td>0</td>\n",
       "      <td>0</td>\n",
       "      <td>1</td>\n",
       "      <td>0</td>\n",
       "      <td>1</td>\n",
       "      <td>1</td>\n",
       "      <td>1</td>\n",
       "      <td>250000.0</td>\n",
       "      <td>5</td>\n",
       "      <td>0</td>\n",
       "    </tr>\n",
       "  </tbody>\n",
       "</table>\n",
       "</div>"
      ],
      "text/plain": [
       "   1stFlrSF     2ndFlrSF  3SsnPorch  BedroomAbvGr   BsmtCond  BsmtExposure  \\\n",
       "0  5.939033  1025.651978        0.0             3  17.042558      0.659491   \n",
       "1  6.234989     0.000000        0.0             3  17.042558      1.435627   \n",
       "2  5.994335  1040.521059        0.0             3  17.042558      1.015669   \n",
       "3  6.027703   904.477422        0.0             3  32.173996      0.659491   \n",
       "4  6.161220  1273.024862        0.0             4  17.042558      1.255992   \n",
       "\n",
       "   BsmtFinSF1  BsmtFinSF2  BsmtFinType1  BsmtFinType2  BsmtFullBath  \\\n",
       "0  144.117862         0.0             6       0.59515       0.99344   \n",
       "1  181.719186         0.0             5       0.59515       0.00000   \n",
       "2  110.441033         0.0             6       0.59515       0.99344   \n",
       "3   61.795315         0.0             5       0.59515       0.99344   \n",
       "4  136.624601         0.0             6       0.59515       0.99344   \n",
       "\n",
       "   BsmtHalfBath   BsmtQual  BsmtUnfSF  CentralAir  EnclosedPorch  ExterCond  \\\n",
       "0      0.000000  12.725003  29.991052  412.595236       0.000000   2.127987   \n",
       "1      0.710895  12.725003  44.135410  412.595236       0.000000   2.127987   \n",
       "2      0.000000  12.725003  56.896528  412.595236       0.000000   2.127987   \n",
       "3      0.000000   7.875071  64.808848  412.595236      16.020712   2.127987   \n",
       "4      0.000000  12.725003  61.166371  412.595236       0.000000   2.127987   \n",
       "\n",
       "   ExterQual  FireplaceQu  Fireplaces  FullBath  GarageArea  GarageCars  \\\n",
       "0   1.604478            0    0.000000         2       548.0         2.0   \n",
       "1   1.382614            3    0.903334         2       460.0         2.0   \n",
       "2   1.604478            3    0.903334         2       608.0         2.0   \n",
       "3   1.382614            4    0.903334         1       642.0         3.0   \n",
       "4   1.604478            3    0.903334         2       836.0         3.0   \n",
       "\n",
       "   GarageCond  GarageFinish  GarageQual  GrLivArea  HalfBath  HeatingQC  \\\n",
       "0    5.082177             2    3.774743   8.353544  1.068837   3.562767   \n",
       "1    5.082177             2    3.774743   7.974694  0.000000   3.562767   \n",
       "2    5.082177             2    3.774743   8.408065  1.068837   3.562767   \n",
       "3    5.082177             1    3.774743   8.358663  0.000000   2.967037   \n",
       "4    5.082177             2    3.774743   8.669322  1.068837   3.562767   \n",
       "\n",
       "   KitchenAbvGr  KitchenQual    LotArea  LotFrontage  LowQualFinSF  \\\n",
       "0      0.750957            4  13.833055    18.152750           0.0   \n",
       "1      0.750957            3  14.117918    20.683504           0.0   \n",
       "2      0.750957            4  14.476513    18.676569           0.0   \n",
       "3      0.750957            4  14.106197    17.257246           0.0   \n",
       "4      0.750957            4  15.022009    21.324605           0.0   \n",
       "\n",
       "   MasVnrArea  MiscVal  OpenPorchSF  OverallCond  OverallQual  PoolArea  \\\n",
       "0   19.433174      0.0    12.080309     3.991517            7       0.0   \n",
       "1    0.000000      0.0     0.000000     6.000033            6       0.0   \n",
       "2   17.768840      0.0     9.901081     3.991517            7       0.0   \n",
       "3    0.000000      0.0     8.966116     3.991517            7       0.0   \n",
       "4   25.404163      0.0    14.271569     3.991517            8       0.0   \n",
       "\n",
       "   PoolQC  ScreenPorch  TotRmsAbvGrd  TotalBsmtSF  WoodDeckSF  age_when_sold  \\\n",
       "0     0.0          0.0      2.261968   422.488452    0.000000       3.095181   \n",
       "1     0.0          0.0      1.996577   593.888092   56.184225      10.728415   \n",
       "2     0.0          0.0      1.996577   450.079654    0.000000       3.951895   \n",
       "3     0.0          0.0      2.137369   378.854517    0.000000      20.889569   \n",
       "4     0.0          0.0      2.373753   545.309849   42.245703       4.344719   \n",
       "\n",
       "   bath_bed_ratio  bsmt_percent_finished  bsmt_qual_cond  extr_qual_cond  \\\n",
       "0        0.478461              82.476636       29.395147               9   \n",
       "1        0.417947              77.496038       29.395147               9   \n",
       "2        0.478461              52.826087       29.395147               9   \n",
       "3        0.256486              28.571429       29.395147               9   \n",
       "4        0.401068              57.205240       29.395147               9   \n",
       "\n",
       "   has2ndfloor   hasbsmt  hasfireplace  hasgarage  haspool  no_of_bath  \\\n",
       "0            1  1.083227             0  44.435907      0.0         3.5   \n",
       "1            0  1.083227             1  44.435907      0.0         2.5   \n",
       "2            1  1.083227             1  44.435907      0.0         3.5   \n",
       "3            1  1.083227             1  44.435907      0.0         2.0   \n",
       "4            1  1.083227             1  44.435907      0.0         3.5   \n",
       "\n",
       "   non_bedroom_rooms  num_ext_coverings  overall_qual_cond  remodel_age  \\\n",
       "0           2.136773           1.500161                 35            5   \n",
       "1           1.587292           1.500161                 48           31   \n",
       "2           1.587292           1.500161                 35            6   \n",
       "3           1.884419           4.000746                 35           36   \n",
       "4           2.136773           1.500161                 40            8   \n",
       "\n",
       "     totalSF  total_porch  Neighborhood_Category  HouseStyle_Category  \\\n",
       "0  12.159329    18.736119                      2                    0   \n",
       "1  11.986131    51.635464                      1                    1   \n",
       "2  12.018504    14.654641                      2                    0   \n",
       "3  11.652615    52.609468                      1                    0   \n",
       "4  12.545009    49.205236                      0                    0   \n",
       "\n",
       "   GarageType_Category  Exterior1st_Category  LotConfig_Category  \\\n",
       "0                    1                     0                   3   \n",
       "1                    1                     2                   3   \n",
       "2                    1                     0                   3   \n",
       "3                    2                     2                   2   \n",
       "4                    1                     0                   3   \n",
       "\n",
       "   MSSubClass_Category  Condition1_Category  Electrical_Category  \\\n",
       "0                    0                    1                    0   \n",
       "1                    1                    2                    0   \n",
       "2                    0                    1                    0   \n",
       "3                    1                    1                    0   \n",
       "4                    0                    1                    0   \n",
       "\n",
       "   Exterior2nd_Category  Fence_Category  Foundation_Category  \\\n",
       "0                     0               0                    0   \n",
       "1                     2               0                    2   \n",
       "2                     0               0                    0   \n",
       "3                     1               0                    2   \n",
       "4                     0               0                    0   \n",
       "\n",
       "   LandContour_Category  PavedDrive_Category  RoofStyle_Category  \\\n",
       "0                     1                    0                   1   \n",
       "1                     1                    0                   1   \n",
       "2                     1                    0                   1   \n",
       "3                     1                    0                   1   \n",
       "4                     1                    0                   1   \n",
       "\n",
       "   SaleCondition_Category  SaleType_Category  SalePrice  Id  test  \n",
       "0                       1                  1   208500.0   1     0  \n",
       "1                       1                  1   181500.0   2     0  \n",
       "2                       1                  1   223500.0   3     0  \n",
       "3                       2                  1   140000.0   4     0  \n",
       "4                       1                  1   250000.0   5     0  "
      ]
     },
     "execution_count": 5,
     "metadata": {},
     "output_type": "execute_result"
    }
   ],
   "source": [
    "train.head()"
   ]
  },
  {
   "cell_type": "code",
   "execution_count": null,
   "metadata": {},
   "outputs": [],
   "source": [
    "test[features].head()"
   ]
  },
  {
   "cell_type": "markdown",
   "metadata": {},
   "source": [
    "### define test train"
   ]
  },
  {
   "cell_type": "code",
   "execution_count": 50,
   "metadata": {},
   "outputs": [],
   "source": [
    "from mlxtend.regressor import StackingCVRegressor\n",
    "\n",
    "from sklearn.model_selection import cross_val_score\n",
    "\n",
    "from sklearn.preprocessing import RobustScaler\n",
    "from sklearn.pipeline import make_pipeline\n",
    "\n",
    "#Ridge\n",
    "from sklearn.linear_model import RidgeCV\n",
    "\n",
    "#Lasso\n",
    "from sklearn.linear_model import LassoCV\n",
    "\n",
    "#ElasticNet\n",
    "from sklearn.linear_model import ElasticNetCV\n",
    "\n",
    "#Kernel Ridge\n",
    "from sklearn.kernel_ridge import KernelRidge\n",
    "\n",
    "#GBM\n",
    "from sklearn.ensemble import GradientBoostingRegressor as GBM\n",
    "\n",
    "#XGBoost\n",
    "import xgboost as XGB\n",
    "\n",
    "#lightgbm\n",
    "import lightgbm as lgb"
   ]
  },
  {
   "cell_type": "code",
   "execution_count": 7,
   "metadata": {},
   "outputs": [],
   "source": [
    "X_train = train[features]\n",
    "y_train = np.log(1+ train['SalePrice'])\n",
    "X_test = test[features]"
   ]
  },
  {
   "cell_type": "code",
   "execution_count": 8,
   "metadata": {},
   "outputs": [],
   "source": [
    "transformer = RobustScaler().fit(X_train)"
   ]
  },
  {
   "cell_type": "code",
   "execution_count": 9,
   "metadata": {},
   "outputs": [],
   "source": [
    "X_r = transformer.transform(X_train)\n",
    "X_s = transformer.transform(X_test)"
   ]
  },
  {
   "cell_type": "code",
   "execution_count": 10,
   "metadata": {},
   "outputs": [],
   "source": [
    "X_train = pd.DataFrame(X_r, columns = X_train.columns)\n",
    "X_test = pd.DataFrame(X_s, columns = X_test.columns)"
   ]
  },
  {
   "cell_type": "markdown",
   "metadata": {},
   "source": [
    "# Modelling"
   ]
  },
  {
   "cell_type": "markdown",
   "metadata": {},
   "source": [
    "### Cross Validation Score Function"
   ]
  },
  {
   "cell_type": "code",
   "execution_count": 11,
   "metadata": {},
   "outputs": [],
   "source": [
    "kfolds = 5\n",
    "\n",
    "def cv_rmse(model):\n",
    "    rmse = np.sqrt(-cross_val_score(model, X_train, y_train, \n",
    "                                   scoring=\"neg_mean_squared_error\", \n",
    "                                   cv = kfolds))\n",
    "    \n",
    "    return(rmse)\n",
    "    \n",
    "    \n",
    "# def cv_rmsle(model):\n",
    "#     rmsle = np.sqrt(np.log(-cross_val_score(model, X_train, y_train,\n",
    "#                                            scoring = 'neg_mean_squared_error',\n",
    "#                                            cv=kfolds)))    "
   ]
  },
  {
   "cell_type": "code",
   "execution_count": 14,
   "metadata": {},
   "outputs": [
    {
     "name": "stdout",
     "output_type": "stream",
     "text": [
      "Collecting bayesian-optimization\n",
      "  Downloading https://files.pythonhosted.org/packages/72/0c/173ac467d0a53e33e41b521e4ceba74a8ac7c7873d7b857a8fbdca88302d/bayesian-optimization-1.0.1.tar.gz\n",
      "Requirement already satisfied: numpy>=1.9.0 in c:\\users\\volted user\\anaconda3\\lib\\site-packages (from bayesian-optimization) (1.16.2)\n",
      "Requirement already satisfied: scipy>=0.14.0 in c:\\users\\volted user\\anaconda3\\lib\\site-packages (from bayesian-optimization) (1.2.1)\n",
      "Requirement already satisfied: scikit-learn>=0.18.0 in c:\\users\\volted user\\anaconda3\\lib\\site-packages (from bayesian-optimization) (0.20.3)\n",
      "Building wheels for collected packages: bayesian-optimization\n",
      "  Building wheel for bayesian-optimization (setup.py): started\n",
      "  Building wheel for bayesian-optimization (setup.py): finished with status 'done'\n",
      "  Stored in directory: C:\\Users\\Volted User\\AppData\\Local\\pip\\Cache\\wheels\\1d\\0d\\3b\\6b9d4477a34b3905f246ff4e7acf6aafd4cc9b77d473629b77\n",
      "Successfully built bayesian-optimization\n",
      "Installing collected packages: bayesian-optimization\n",
      "Successfully installed bayesian-optimization-1.0.1\n"
     ]
    }
   ],
   "source": [
    "# !pip install bayesian-optimization"
   ]
  },
  {
   "cell_type": "markdown",
   "metadata": {},
   "source": [
    "### XGB parameter optimization"
   ]
  },
  {
   "cell_type": "code",
   "execution_count": 41,
   "metadata": {},
   "outputs": [],
   "source": [
    "from bayes_opt import BayesianOptimization as BO"
   ]
  },
  {
   "cell_type": "code",
   "execution_count": 99,
   "metadata": {},
   "outputs": [],
   "source": [
    "def tune_xgb(max_depth, reg_alpha, reg_lambda, n_estimators, learning_rate):\n",
    "    \n",
    "    dtrain = XGB.DMatrix(X_train, label=y_train)\n",
    "    \n",
    "    \n",
    "    paras  = {'max_depth':int(max_depth),\n",
    "              'reg_alpha':reg_alpha,\n",
    "              'reg_lambda':reg_lambda,\n",
    "              'n_estimators':int(n_estimators),\n",
    "              'learning_rate':learning_rate,\n",
    "              'subsample': 0.8,\n",
    "              'eta':0.1,\n",
    "              'eval_metric':'rmse'\n",
    "             }\n",
    "    cv_result = XGB.cv(paras,dtrain,num_boost_round=70, nfold=5)\n",
    "    return -1.0 * cv_result['test-rmse-mean'].iloc[-1]\n",
    "    "
   ]
  },
  {
   "cell_type": "code",
   "execution_count": 100,
   "metadata": {},
   "outputs": [],
   "source": [
    "#Invoking the Bayesian Optimizer with the specified parameters to tune\n",
    "xgb_bo = BO(tune_xgb, {'max_depth': (3, 10),\n",
    "                       'reg_alpha':(0,1),\n",
    "                       'reg_lambda': (0, 1),\n",
    "                       'learning_rate':(0,1),\n",
    "                       'n_estimators':(100,120)})"
   ]
  },
  {
   "cell_type": "code",
   "execution_count": 101,
   "metadata": {},
   "outputs": [
    {
     "name": "stdout",
     "output_type": "stream",
     "text": [
      "|   iter    |  target   | learni... | max_depth | n_esti... | reg_alpha | reg_la... |\n",
      "-------------------------------------------------------------------------------------\n",
      "| \u001b[0m 1       \u001b[0m | \u001b[0m-0.1373  \u001b[0m | \u001b[0m 0.3468  \u001b[0m | \u001b[0m 6.004   \u001b[0m | \u001b[0m 118.8   \u001b[0m | \u001b[0m 0.2413  \u001b[0m | \u001b[0m 0.08055 \u001b[0m |\n",
      "| \u001b[0m 2       \u001b[0m | \u001b[0m-0.1492  \u001b[0m | \u001b[0m 0.5241  \u001b[0m | \u001b[0m 8.975   \u001b[0m | \u001b[0m 102.6   \u001b[0m | \u001b[0m 0.9415  \u001b[0m | \u001b[0m 0.06623 \u001b[0m |\n",
      "| \u001b[95m 3       \u001b[0m | \u001b[95m-0.136   \u001b[0m | \u001b[95m 0.4931  \u001b[0m | \u001b[95m 3.558   \u001b[0m | \u001b[95m 107.5   \u001b[0m | \u001b[95m 0.3067  \u001b[0m | \u001b[95m 0.01448 \u001b[0m |\n",
      "| \u001b[0m 4       \u001b[0m | \u001b[0m-0.1655  \u001b[0m | \u001b[0m 0.8462  \u001b[0m | \u001b[0m 3.749   \u001b[0m | \u001b[0m 116.5   \u001b[0m | \u001b[0m 0.04498 \u001b[0m | \u001b[0m 0.3361  \u001b[0m |\n",
      "| \u001b[95m 5       \u001b[0m | \u001b[95m-0.1256  \u001b[0m | \u001b[95m 0.1481  \u001b[0m | \u001b[95m 6.34    \u001b[0m | \u001b[95m 107.2   \u001b[0m | \u001b[95m 0.8089  \u001b[0m | \u001b[95m 0.1873  \u001b[0m |\n",
      "| \u001b[0m 6       \u001b[0m | \u001b[0m-0.152   \u001b[0m | \u001b[0m 0.8425  \u001b[0m | \u001b[0m 4.905   \u001b[0m | \u001b[0m 114.1   \u001b[0m | \u001b[0m 0.8602  \u001b[0m | \u001b[0m 0.6686  \u001b[0m |\n",
      "| \u001b[0m 7       \u001b[0m | \u001b[0m-0.1724  \u001b[0m | \u001b[0m 0.7605  \u001b[0m | \u001b[0m 6.823   \u001b[0m | \u001b[0m 100.1   \u001b[0m | \u001b[0m 0.0993  \u001b[0m | \u001b[0m 0.9921  \u001b[0m |\n",
      "| \u001b[0m 8       \u001b[0m | \u001b[0m-0.1537  \u001b[0m | \u001b[0m 0.6966  \u001b[0m | \u001b[0m 4.449   \u001b[0m | \u001b[0m 116.7   \u001b[0m | \u001b[0m 0.2673  \u001b[0m | \u001b[0m 0.3421  \u001b[0m |\n",
      "| \u001b[0m 9       \u001b[0m | \u001b[0m-0.1538  \u001b[0m | \u001b[0m 0.4872  \u001b[0m | \u001b[0m 9.198   \u001b[0m | \u001b[0m 109.3   \u001b[0m | \u001b[0m 0.5475  \u001b[0m | \u001b[0m 0.2802  \u001b[0m |\n",
      "| \u001b[0m 10      \u001b[0m | \u001b[0m-0.1281  \u001b[0m | \u001b[0m 0.2213  \u001b[0m | \u001b[0m 3.45    \u001b[0m | \u001b[0m 116.1   \u001b[0m | \u001b[0m 0.9948  \u001b[0m | \u001b[0m 0.2537  \u001b[0m |\n",
      "| \u001b[0m 11      \u001b[0m | \u001b[0m-0.1297  \u001b[0m | \u001b[0m 0.2116  \u001b[0m | \u001b[0m 8.558   \u001b[0m | \u001b[0m 102.2   \u001b[0m | \u001b[0m 0.2701  \u001b[0m | \u001b[0m 0.03464 \u001b[0m |\n",
      "| \u001b[0m 12      \u001b[0m | \u001b[0m-0.1572  \u001b[0m | \u001b[0m 0.6302  \u001b[0m | \u001b[0m 8.712   \u001b[0m | \u001b[0m 114.9   \u001b[0m | \u001b[0m 0.69    \u001b[0m | \u001b[0m 0.3748  \u001b[0m |\n",
      "| \u001b[0m 13      \u001b[0m | \u001b[0m-0.7493  \u001b[0m | \u001b[0m 0.03861 \u001b[0m | \u001b[0m 7.667   \u001b[0m | \u001b[0m 114.6   \u001b[0m | \u001b[0m 0.4031  \u001b[0m | \u001b[0m 0.03706 \u001b[0m |\n",
      "| \u001b[0m 14      \u001b[0m | \u001b[0m-0.1586  \u001b[0m | \u001b[0m 0.5562  \u001b[0m | \u001b[0m 8.2     \u001b[0m | \u001b[0m 116.7   \u001b[0m | \u001b[0m 0.09624 \u001b[0m | \u001b[0m 0.3859  \u001b[0m |\n",
      "| \u001b[0m 15      \u001b[0m | \u001b[0m-0.165   \u001b[0m | \u001b[0m 0.6872  \u001b[0m | \u001b[0m 9.553   \u001b[0m | \u001b[0m 101.7   \u001b[0m | \u001b[0m 0.6832  \u001b[0m | \u001b[0m 0.4905  \u001b[0m |\n",
      "| \u001b[0m 16      \u001b[0m | \u001b[0m-0.1391  \u001b[0m | \u001b[0m 0.08006 \u001b[0m | \u001b[0m 8.799   \u001b[0m | \u001b[0m 115.6   \u001b[0m | \u001b[0m 0.7007  \u001b[0m | \u001b[0m 0.2853  \u001b[0m |\n",
      "| \u001b[0m 17      \u001b[0m | \u001b[0m-0.1918  \u001b[0m | \u001b[0m 1.0     \u001b[0m | \u001b[0m 10.0    \u001b[0m | \u001b[0m 117.5   \u001b[0m | \u001b[0m 1.0     \u001b[0m | \u001b[0m 1.0     \u001b[0m |\n",
      "| \u001b[0m 18      \u001b[0m | \u001b[0m-0.1918  \u001b[0m | \u001b[0m 1.0     \u001b[0m | \u001b[0m 10.0    \u001b[0m | \u001b[0m 114.8   \u001b[0m | \u001b[0m 1.0     \u001b[0m | \u001b[0m 1.0     \u001b[0m |\n",
      "| \u001b[0m 19      \u001b[0m | \u001b[0m-0.1603  \u001b[0m | \u001b[0m 1.0     \u001b[0m | \u001b[0m 3.0     \u001b[0m | \u001b[0m 120.0   \u001b[0m | \u001b[0m 1.0     \u001b[0m | \u001b[0m 1.0     \u001b[0m |\n",
      "| \u001b[0m 20      \u001b[0m | \u001b[0m-0.1603  \u001b[0m | \u001b[0m 1.0     \u001b[0m | \u001b[0m 3.0     \u001b[0m | \u001b[0m 111.8   \u001b[0m | \u001b[0m 1.0     \u001b[0m | \u001b[0m 1.0     \u001b[0m |\n",
      "| \u001b[0m 21      \u001b[0m | \u001b[0m-0.1603  \u001b[0m | \u001b[0m 1.0     \u001b[0m | \u001b[0m 3.0     \u001b[0m | \u001b[0m 103.0   \u001b[0m | \u001b[0m 1.0     \u001b[0m | \u001b[0m 1.0     \u001b[0m |\n",
      "| \u001b[0m 22      \u001b[0m | \u001b[0m-0.2044  \u001b[0m | \u001b[0m 1.0     \u001b[0m | \u001b[0m 10.0    \u001b[0m | \u001b[0m 106.3   \u001b[0m | \u001b[0m 0.0     \u001b[0m | \u001b[0m 1.0     \u001b[0m |\n",
      "| \u001b[0m 23      \u001b[0m | \u001b[0m-0.1835  \u001b[0m | \u001b[0m 1.0     \u001b[0m | \u001b[0m 6.332   \u001b[0m | \u001b[0m 117.4   \u001b[0m | \u001b[0m 1.0     \u001b[0m | \u001b[0m 1.0     \u001b[0m |\n",
      "| \u001b[0m 24      \u001b[0m | \u001b[0m-0.2006  \u001b[0m | \u001b[0m 1.0     \u001b[0m | \u001b[0m 9.193   \u001b[0m | \u001b[0m 116.1   \u001b[0m | \u001b[0m 1.0     \u001b[0m | \u001b[0m 0.0     \u001b[0m |\n",
      "| \u001b[0m 25      \u001b[0m | \u001b[0m-11.53   \u001b[0m | \u001b[0m 0.0     \u001b[0m | \u001b[0m 10.0    \u001b[0m | \u001b[0m 120.0   \u001b[0m | \u001b[0m 0.0     \u001b[0m | \u001b[0m 1.0     \u001b[0m |\n",
      "| \u001b[0m 26      \u001b[0m | \u001b[0m-0.1934  \u001b[0m | \u001b[0m 1.0     \u001b[0m | \u001b[0m 9.874   \u001b[0m | \u001b[0m 116.5   \u001b[0m | \u001b[0m 1.0     \u001b[0m | \u001b[0m 1.0     \u001b[0m |\n",
      "| \u001b[0m 27      \u001b[0m | \u001b[0m-0.1459  \u001b[0m | \u001b[0m 0.6812  \u001b[0m | \u001b[0m 4.603   \u001b[0m | \u001b[0m 118.5   \u001b[0m | \u001b[0m 0.7439  \u001b[0m | \u001b[0m 0.4952  \u001b[0m |\n",
      "| \u001b[0m 28      \u001b[0m | \u001b[0m-11.53   \u001b[0m | \u001b[0m 0.0     \u001b[0m | \u001b[0m 5.631   \u001b[0m | \u001b[0m 117.6   \u001b[0m | \u001b[0m 0.8586  \u001b[0m | \u001b[0m 0.0     \u001b[0m |\n",
      "| \u001b[0m 29      \u001b[0m | \u001b[0m-0.1422  \u001b[0m | \u001b[0m 0.3847  \u001b[0m | \u001b[0m 8.817   \u001b[0m | \u001b[0m 102.3   \u001b[0m | \u001b[0m 0.5952  \u001b[0m | \u001b[0m 0.08342 \u001b[0m |\n",
      "| \u001b[0m 30      \u001b[0m | \u001b[0m-0.1491  \u001b[0m | \u001b[0m 0.4947  \u001b[0m | \u001b[0m 8.831   \u001b[0m | \u001b[0m 115.4   \u001b[0m | \u001b[0m 0.7329  \u001b[0m | \u001b[0m 0.3056  \u001b[0m |\n",
      "| \u001b[0m 31      \u001b[0m | \u001b[0m-0.139   \u001b[0m | \u001b[0m 0.6218  \u001b[0m | \u001b[0m 4.005   \u001b[0m | \u001b[0m 116.4   \u001b[0m | \u001b[0m 0.4046  \u001b[0m | \u001b[0m 0.3316  \u001b[0m |\n",
      "| \u001b[0m 32      \u001b[0m | \u001b[0m-0.1555  \u001b[0m | \u001b[0m 0.5574  \u001b[0m | \u001b[0m 8.853   \u001b[0m | \u001b[0m 116.0   \u001b[0m | \u001b[0m 0.6791  \u001b[0m | \u001b[0m 0.2633  \u001b[0m |\n",
      "| \u001b[0m 33      \u001b[0m | \u001b[0m-0.1483  \u001b[0m | \u001b[0m 0.4591  \u001b[0m | \u001b[0m 6.065   \u001b[0m | \u001b[0m 119.1   \u001b[0m | \u001b[0m 0.08874 \u001b[0m | \u001b[0m 0.1222  \u001b[0m |\n",
      "| \u001b[0m 34      \u001b[0m | \u001b[0m-0.1734  \u001b[0m | \u001b[0m 0.7331  \u001b[0m | \u001b[0m 9.375   \u001b[0m | \u001b[0m 115.9   \u001b[0m | \u001b[0m 0.9014  \u001b[0m | \u001b[0m 0.5289  \u001b[0m |\n",
      "| \u001b[0m 35      \u001b[0m | \u001b[0m-0.1909  \u001b[0m | \u001b[0m 0.8524  \u001b[0m | \u001b[0m 9.343   \u001b[0m | \u001b[0m 116.5   \u001b[0m | \u001b[0m 0.8375  \u001b[0m | \u001b[0m 0.5403  \u001b[0m |\n",
      "| \u001b[0m 36      \u001b[0m | \u001b[0m-0.1677  \u001b[0m | \u001b[0m 0.8675  \u001b[0m | \u001b[0m 4.353   \u001b[0m | \u001b[0m 118.8   \u001b[0m | \u001b[0m 0.6808  \u001b[0m | \u001b[0m 0.6281  \u001b[0m |\n",
      "| \u001b[0m 37      \u001b[0m | \u001b[0m-0.1689  \u001b[0m | \u001b[0m 0.7511  \u001b[0m | \u001b[0m 9.369   \u001b[0m | \u001b[0m 115.0   \u001b[0m | \u001b[0m 0.8374  \u001b[0m | \u001b[0m 0.6754  \u001b[0m |\n",
      "| \u001b[0m 38      \u001b[0m | \u001b[0m-0.1996  \u001b[0m | \u001b[0m 0.99    \u001b[0m | \u001b[0m 4.28    \u001b[0m | \u001b[0m 116.4   \u001b[0m | \u001b[0m 0.1094  \u001b[0m | \u001b[0m 0.5427  \u001b[0m |\n",
      "| \u001b[0m 39      \u001b[0m | \u001b[0m-0.1676  \u001b[0m | \u001b[0m 0.7067  \u001b[0m | \u001b[0m 9.102   \u001b[0m | \u001b[0m 102.0   \u001b[0m | \u001b[0m 0.9258  \u001b[0m | \u001b[0m 0.3576  \u001b[0m |\n",
      "| \u001b[0m 40      \u001b[0m | \u001b[0m-0.1444  \u001b[0m | \u001b[0m 0.3713  \u001b[0m | \u001b[0m 9.108   \u001b[0m | \u001b[0m 101.8   \u001b[0m | \u001b[0m 0.289   \u001b[0m | \u001b[0m 0.2683  \u001b[0m |\n",
      "| \u001b[0m 41      \u001b[0m | \u001b[0m-0.1506  \u001b[0m | \u001b[0m 0.4462  \u001b[0m | \u001b[0m 9.538   \u001b[0m | \u001b[0m 102.3   \u001b[0m | \u001b[0m 0.6286  \u001b[0m | \u001b[0m 0.1565  \u001b[0m |\n",
      "=====================================================================================\n"
     ]
    }
   ],
   "source": [
    "xgb_bo.maximize(n_iter=25, init_points=16, acq='ei')"
   ]
  },
  {
   "cell_type": "code",
   "execution_count": 102,
   "metadata": {},
   "outputs": [],
   "source": [
    "#Extracting the best parameters\n",
    "best_paras = xgb_bo.max['params']"
   ]
  },
  {
   "cell_type": "code",
   "execution_count": 103,
   "metadata": {},
   "outputs": [
    {
     "data": {
      "text/plain": [
       "{'learning_rate': 0.14809869844008028,\n",
       " 'max_depth': 6.340188075321308,\n",
       " 'n_estimators': 107.18749505943173,\n",
       " 'reg_alpha': 0.8089140685029867,\n",
       " 'reg_lambda': 0.18725823677183073}"
      ]
     },
     "execution_count": 103,
     "metadata": {},
     "output_type": "execute_result"
    }
   ],
   "source": [
    "best_paras"
   ]
  },
  {
   "cell_type": "code",
   "execution_count": 104,
   "metadata": {},
   "outputs": [],
   "source": [
    "best_paras['max_depth'] = int(best_paras['max_depth'])\n",
    "best_paras['n_estimators'] = int(best_paras['n_estimators'])"
   ]
  },
  {
   "cell_type": "code",
   "execution_count": 70,
   "metadata": {},
   "outputs": [],
   "source": [
    "best_paras = {'alpha': 0.001,\n",
    "              'gamma': 0.50575346447615,\n",
    "              'learning_rate': 0.18493749055590392,\n",
    "              'max_depth': 6,\n",
    "              'n_estimators': 200}"
   ]
  },
  {
   "cell_type": "code",
   "execution_count": 105,
   "metadata": {},
   "outputs": [
    {
     "name": "stdout",
     "output_type": "stream",
     "text": [
      "[12:24:26] WARNING: C:/Jenkins/workspace/xgboost-win64_release_0.90/src/objective/regression_obj.cu:152: reg:linear is now deprecated in favor of reg:squarederror.\n",
      "--- 0.21741819381713867 seconds ---\n"
     ]
    }
   ],
   "source": [
    "start_time = time.time()\n",
    "model_xgb = XGB.XGBRegressor(n_jobs=-1, **best_paras)\n",
    "# model_xgb = XGB.XGBRegressor(n_jobs=-1, n_estimators=2000,reg_alpha=0.0001,reg_lambda=0.3,subsample=0.7,colsample_bytree=0.7)\n",
    "model_xgb.fit(X_train, y_train)\n",
    "\n",
    "print(\"--- %s seconds ---\" % (time.time() - start_time))"
   ]
  },
  {
   "cell_type": "code",
   "execution_count": null,
   "metadata": {},
   "outputs": [],
   "source": []
  },
  {
   "cell_type": "code",
   "execution_count": 106,
   "metadata": {},
   "outputs": [],
   "source": [
    "xgb_pred = np.expm1(model_xgb.predict(X_test))"
   ]
  },
  {
   "cell_type": "code",
   "execution_count": 107,
   "metadata": {},
   "outputs": [],
   "source": [
    "results = pd.DataFrame({'Id':test['Id'], 'SalePrice':xgb_pred})"
   ]
  },
  {
   "cell_type": "code",
   "execution_count": 108,
   "metadata": {},
   "outputs": [
    {
     "data": {
      "text/html": [
       "<div>\n",
       "<style scoped>\n",
       "    .dataframe tbody tr th:only-of-type {\n",
       "        vertical-align: middle;\n",
       "    }\n",
       "\n",
       "    .dataframe tbody tr th {\n",
       "        vertical-align: top;\n",
       "    }\n",
       "\n",
       "    .dataframe thead th {\n",
       "        text-align: right;\n",
       "    }\n",
       "</style>\n",
       "<table border=\"1\" class=\"dataframe\">\n",
       "  <thead>\n",
       "    <tr style=\"text-align: right;\">\n",
       "      <th></th>\n",
       "      <th>Id</th>\n",
       "      <th>SalePrice</th>\n",
       "    </tr>\n",
       "  </thead>\n",
       "  <tbody>\n",
       "    <tr>\n",
       "      <th>0</th>\n",
       "      <td>1461</td>\n",
       "      <td>125108.328125</td>\n",
       "    </tr>\n",
       "    <tr>\n",
       "      <th>1</th>\n",
       "      <td>1462</td>\n",
       "      <td>165478.484375</td>\n",
       "    </tr>\n",
       "    <tr>\n",
       "      <th>2</th>\n",
       "      <td>1463</td>\n",
       "      <td>176861.515625</td>\n",
       "    </tr>\n",
       "    <tr>\n",
       "      <th>3</th>\n",
       "      <td>1464</td>\n",
       "      <td>192523.781250</td>\n",
       "    </tr>\n",
       "    <tr>\n",
       "      <th>4</th>\n",
       "      <td>1465</td>\n",
       "      <td>179656.812500</td>\n",
       "    </tr>\n",
       "  </tbody>\n",
       "</table>\n",
       "</div>"
      ],
      "text/plain": [
       "     Id      SalePrice\n",
       "0  1461  125108.328125\n",
       "1  1462  165478.484375\n",
       "2  1463  176861.515625\n",
       "3  1464  192523.781250\n",
       "4  1465  179656.812500"
      ]
     },
     "execution_count": 108,
     "metadata": {},
     "output_type": "execute_result"
    }
   ],
   "source": [
    "results.head()"
   ]
  },
  {
   "cell_type": "code",
   "execution_count": 109,
   "metadata": {},
   "outputs": [],
   "source": [
    "results.to_csv('20191112_xgb_baysian_v8.csv', index=False)"
   ]
  },
  {
   "cell_type": "code",
   "execution_count": null,
   "metadata": {},
   "outputs": [],
   "source": []
  },
  {
   "cell_type": "code",
   "execution_count": 111,
   "metadata": {},
   "outputs": [],
   "source": [
    "def opt_xgb(model):\n",
    "    train = XGB.DMatrix(X_train, label = y_train)\n",
    "    paras = model.get_xgb_params()\n",
    "    \n",
    "    cvresult = XGB.cv(params=paras, n_jobs=-1, nthread=-1,show_progress=True,nfold=5, metrics = 'rmse',early_stopping_rounds=50)"
   ]
  },
  {
   "cell_type": "code",
   "execution_count": null,
   "metadata": {},
   "outputs": [],
   "source": []
  },
  {
   "cell_type": "code",
   "execution_count": null,
   "metadata": {},
   "outputs": [],
   "source": []
  },
  {
   "cell_type": "code",
   "execution_count": null,
   "metadata": {},
   "outputs": [],
   "source": []
  },
  {
   "cell_type": "code",
   "execution_count": null,
   "metadata": {},
   "outputs": [],
   "source": []
  },
  {
   "cell_type": "code",
   "execution_count": null,
   "metadata": {},
   "outputs": [],
   "source": []
  },
  {
   "cell_type": "code",
   "execution_count": null,
   "metadata": {},
   "outputs": [],
   "source": []
  },
  {
   "cell_type": "code",
   "execution_count": null,
   "metadata": {},
   "outputs": [],
   "source": []
  },
  {
   "cell_type": "code",
   "execution_count": null,
   "metadata": {},
   "outputs": [],
   "source": []
  },
  {
   "cell_type": "markdown",
   "metadata": {},
   "source": [
    "### Lasso CV"
   ]
  },
  {
   "cell_type": "code",
   "execution_count": 83,
   "metadata": {},
   "outputs": [
    {
     "data": {
      "text/plain": [
       "0.0001"
      ]
     },
     "execution_count": 83,
     "metadata": {},
     "output_type": "execute_result"
    }
   ],
   "source": [
    "#alphas_alt = np.arange(1e-15, 11000010, 100)\n",
    "alphas_alt = [1e-15, 1e-13,1e-10, 1e-7, 1e-4,.001, .005, .01, .05, .1, .2, 1, 2, 5, 8, 10, 15, 20, 25, 30, 35, 40, 50, 80, 100, 200, 250, 300, 350, 400, 500, 600, 700, 1000, 5000, 7000, 9000, 11000]\n",
    "\n",
    "model_lasso = LassoCV(alphas = alphas_alt, fit_intercept = True,max_iter=1000000, n_jobs=-1,cv=10).fit(X_train, y_train)\n",
    "model_lasso.alpha_"
   ]
  },
  {
   "cell_type": "code",
   "execution_count": 84,
   "metadata": {},
   "outputs": [],
   "source": [
    "temp = pd.DataFrame(model_lasso.mse_path_, index=alphas_alt)\n",
    "# temp.head()\n",
    "# temp.shape"
   ]
  },
  {
   "cell_type": "code",
   "execution_count": 85,
   "metadata": {},
   "outputs": [
    {
     "data": {
      "text/plain": [
       "<matplotlib.axes._subplots.AxesSubplot at 0x1fc51a7d358>"
      ]
     },
     "execution_count": 85,
     "metadata": {},
     "output_type": "execute_result"
    },
    {
     "data": {
      "image/png": "[encoded data removed]",
      "text/plain": [
       "<Figure size 432x288 with 1 Axes>"
      ]
     },
     "metadata": {},
     "output_type": "display_data"
    }
   ],
   "source": [
    "rmse_lasso = temp.apply(lambda x:np.sqrt(sum(x)),axis=1 )\n",
    "rmse_lasso\n",
    "sns.lineplot(x=rmse_lasso.index, y=rmse_lasso.values)\n",
    "#plt.xlim(300,520)"
   ]
  },
  {
   "cell_type": "code",
   "execution_count": null,
   "metadata": {},
   "outputs": [],
   "source": []
  },
  {
   "cell_type": "code",
   "execution_count": 86,
   "metadata": {},
   "outputs": [],
   "source": [
    "lasso_pred = np.expm1(model_lasso.predict(X_test))"
   ]
  },
  {
   "cell_type": "markdown",
   "metadata": {},
   "source": [
    "### Ridge CV"
   ]
  },
  {
   "cell_type": "code",
   "execution_count": 87,
   "metadata": {},
   "outputs": [
    {
     "data": {
      "text/plain": [
       "8.1"
      ]
     },
     "execution_count": 87,
     "metadata": {},
     "output_type": "execute_result"
    }
   ],
   "source": [
    "alphas_alt = [7, 7.1, 7.2, 7,3, 7.5, 7.7,7.8, 7.9, 8, 8.1, 8.2, 8.3, 8.4, 8.5,9,10]\n",
    "#alphas_alt = [.001, .005, .01, .05, .1, .2, 1, 2, 5, 8, 10, 15, 20, 25, 30, 35, 40, 50, 80, 100, 200]\n",
    "\n",
    "model_ridge = RidgeCV(alphas = alphas_alt, cv=None,store_cv_values=True ).fit(X_train, y_train)\n",
    "model_ridge.alpha_"
   ]
  },
  {
   "cell_type": "code",
   "execution_count": 88,
   "metadata": {},
   "outputs": [
    {
     "data": {
      "text/plain": [
       "<matplotlib.axes._subplots.AxesSubplot at 0x1fc51af55f8>"
      ]
     },
     "execution_count": 88,
     "metadata": {},
     "output_type": "execute_result"
    },
    {
     "data": {
      "image/png": "[encoded data removed]",
      "text/plain": [
       "<Figure size 432x288 with 1 Axes>"
      ]
     },
     "metadata": {},
     "output_type": "display_data"
    }
   ],
   "source": [
    "temp = pd.DataFrame(model_ridge.cv_values_, columns = alphas_alt)\n",
    "rmse_ridge = temp.apply(lambda x:np.sqrt(sum(x)),axis=0 )\n",
    "sns.lineplot(x=rmse_ridge.index, y=rmse_ridge.values)\n",
    "# plt.xlim(7.7,8.5)"
   ]
  },
  {
   "cell_type": "code",
   "execution_count": 89,
   "metadata": {},
   "outputs": [],
   "source": [
    "model_ridge = RidgeCV(alphas = [500], cv=None,store_cv_values=True ).fit(X_train, y_train)"
   ]
  },
  {
   "cell_type": "code",
   "execution_count": 90,
   "metadata": {},
   "outputs": [],
   "source": [
    "\n",
    "ridge_pred = np.expm1(model_ridge.predict(X_test))"
   ]
  },
  {
   "cell_type": "code",
   "execution_count": 91,
   "metadata": {},
   "outputs": [],
   "source": [
    "# pred = lasso_pred*.4 + ridge_pred*.6\n",
    "pred = lasso_pred*.7 + ridge_pred*.3"
   ]
  },
  {
   "cell_type": "code",
   "execution_count": 92,
   "metadata": {},
   "outputs": [],
   "source": [
    "results = pd.DataFrame({'Id':test['Id'], 'SalePrice':pred})"
   ]
  },
  {
   "cell_type": "code",
   "execution_count": 93,
   "metadata": {},
   "outputs": [],
   "source": [
    "results.to_csv('20191112_ridge_lasso_v7.csv', index=False)"
   ]
  },
  {
   "cell_type": "code",
   "execution_count": 94,
   "metadata": {},
   "outputs": [
    {
     "data": {
      "text/html": [
       "<div>\n",
       "<style scoped>\n",
       "    .dataframe tbody tr th:only-of-type {\n",
       "        vertical-align: middle;\n",
       "    }\n",
       "\n",
       "    .dataframe tbody tr th {\n",
       "        vertical-align: top;\n",
       "    }\n",
       "\n",
       "    .dataframe thead th {\n",
       "        text-align: right;\n",
       "    }\n",
       "</style>\n",
       "<table border=\"1\" class=\"dataframe\">\n",
       "  <thead>\n",
       "    <tr style=\"text-align: right;\">\n",
       "      <th></th>\n",
       "      <th>Id</th>\n",
       "      <th>SalePrice</th>\n",
       "    </tr>\n",
       "  </thead>\n",
       "  <tbody>\n",
       "    <tr>\n",
       "      <th>0</th>\n",
       "      <td>1461</td>\n",
       "      <td>116325.265180</td>\n",
       "    </tr>\n",
       "    <tr>\n",
       "      <th>1</th>\n",
       "      <td>1462</td>\n",
       "      <td>156516.528633</td>\n",
       "    </tr>\n",
       "    <tr>\n",
       "      <th>2</th>\n",
       "      <td>1463</td>\n",
       "      <td>180254.610922</td>\n",
       "    </tr>\n",
       "    <tr>\n",
       "      <th>3</th>\n",
       "      <td>1464</td>\n",
       "      <td>198258.399629</td>\n",
       "    </tr>\n",
       "    <tr>\n",
       "      <th>4</th>\n",
       "      <td>1465</td>\n",
       "      <td>196675.038445</td>\n",
       "    </tr>\n",
       "  </tbody>\n",
       "</table>\n",
       "</div>"
      ],
      "text/plain": [
       "     Id      SalePrice\n",
       "0  1461  116325.265180\n",
       "1  1462  156516.528633\n",
       "2  1463  180254.610922\n",
       "3  1464  198258.399629\n",
       "4  1465  196675.038445"
      ]
     },
     "execution_count": 94,
     "metadata": {},
     "output_type": "execute_result"
    }
   ],
   "source": [
    "x = pd.read_csv('20191112_ridge_lasso_v7.csv')\n",
    "x.head()"
   ]
  },
  {
   "cell_type": "code",
   "execution_count": null,
   "metadata": {},
   "outputs": [],
   "source": []
  },
  {
   "cell_type": "markdown",
   "metadata": {},
   "source": [
    "### XGB"
   ]
  },
  {
   "cell_type": "code",
   "execution_count": 16,
   "metadata": {},
   "outputs": [],
   "source": [
    "import time"
   ]
  },
  {
   "cell_type": "code",
   "execution_count": 79,
   "metadata": {},
   "outputs": [],
   "source": [
    "reg_lambda = [0.0001,0.0005, 0.01, 0.05, 0.1, 0.5, 1, 5, 10]\n",
    "reg_alpha = [0.0001,0.0005, 0.01, 0.05, 0.1, 0.5, 1, 5, 10]"
   ]
  },
  {
   "cell_type": "code",
   "execution_count": 17,
   "metadata": {},
   "outputs": [
    {
     "name": "stderr",
     "output_type": "stream",
     "text": [
      "C:\\Users\\Volted User\\Anaconda3\\lib\\site-packages\\xgboost\\core.py:587: FutureWarning: Series.base is deprecated and will be removed in a future version\n",
      "  if getattr(data, 'base', None) is not None and \\\n"
     ]
    },
    {
     "name": "stdout",
     "output_type": "stream",
     "text": [
      "[10:58:49] WARNING: C:/Jenkins/workspace/xgboost-win64_release_0.90/src/objective/regression_obj.cu:152: reg:linear is now deprecated in favor of reg:squarederror.\n"
     ]
    },
    {
     "name": "stderr",
     "output_type": "stream",
     "text": [
      "C:\\Users\\Volted User\\Anaconda3\\lib\\site-packages\\xgboost\\core.py:587: FutureWarning: Series.base is deprecated and will be removed in a future version\n",
      "  if getattr(data, 'base', None) is not None and \\\n",
      "C:\\Users\\Volted User\\Anaconda3\\lib\\site-packages\\xgboost\\core.py:587: FutureWarning: Series.base is deprecated and will be removed in a future version\n",
      "  if getattr(data, 'base', None) is not None and \\\n"
     ]
    },
    {
     "name": "stdout",
     "output_type": "stream",
     "text": [
      "[10:58:50] WARNING: C:/Jenkins/workspace/xgboost-win64_release_0.90/src/objective/regression_obj.cu:152: reg:linear is now deprecated in favor of reg:squarederror.\n",
      "[10:58:50] WARNING: C:/Jenkins/workspace/xgboost-win64_release_0.90/src/objective/regression_obj.cu:152: reg:linear is now deprecated in favor of reg:squarederror.\n"
     ]
    },
    {
     "name": "stderr",
     "output_type": "stream",
     "text": [
      "C:\\Users\\Volted User\\Anaconda3\\lib\\site-packages\\xgboost\\core.py:587: FutureWarning: Series.base is deprecated and will be removed in a future version\n",
      "  if getattr(data, 'base', None) is not None and \\\n",
      "C:\\Users\\Volted User\\Anaconda3\\lib\\site-packages\\xgboost\\core.py:587: FutureWarning: Series.base is deprecated and will be removed in a future version\n",
      "  if getattr(data, 'base', None) is not None and \\\n"
     ]
    },
    {
     "name": "stdout",
     "output_type": "stream",
     "text": [
      "[10:58:50] WARNING: C:/Jenkins/workspace/xgboost-win64_release_0.90/src/objective/regression_obj.cu:152: reg:linear is now deprecated in favor of reg:squarederror.\n",
      "[10:58:50] WARNING: C:/Jenkins/workspace/xgboost-win64_release_0.90/src/objective/regression_obj.cu:152: reg:linear is now deprecated in favor of reg:squarederror.\n",
      "--- 1.4283185005187988 seconds ---\n"
     ]
    }
   ],
   "source": [
    "start_time = time.time()\n",
    "\n",
    "model_xgb = XGB(n_jobs=-1)\n",
    "rmse = cv_rmse(model_xgb)\n",
    "\n",
    "print(\"--- %s seconds ---\" % (time.time() - start_time))"
   ]
  },
  {
   "cell_type": "code",
   "execution_count": 100,
   "metadata": {},
   "outputs": [
    {
     "data": {
      "text/plain": [
       "0.21441346940892672"
      ]
     },
     "execution_count": 100,
     "metadata": {},
     "output_type": "execute_result"
    }
   ],
   "source": [
    "rmse.mean()"
   ]
  },
  {
   "cell_type": "code",
   "execution_count": 18,
   "metadata": {},
   "outputs": [
    {
     "name": "stdout",
     "output_type": "stream",
     "text": [
      "[10:59:03] WARNING: C:/Jenkins/workspace/xgboost-win64_release_0.90/src/objective/regression_obj.cu:152: reg:linear is now deprecated in favor of reg:squarederror.\n"
     ]
    },
    {
     "name": "stderr",
     "output_type": "stream",
     "text": [
      "C:\\Users\\Volted User\\Anaconda3\\lib\\site-packages\\xgboost\\core.py:587: FutureWarning: Series.base is deprecated and will be removed in a future version\n",
      "  if getattr(data, 'base', None) is not None and \\\n"
     ]
    },
    {
     "data": {
      "text/plain": [
       "XGBRegressor(base_score=0.5, booster='gbtree', colsample_bylevel=1,\n",
       "       colsample_bynode=1, colsample_bytree=1, gamma=0,\n",
       "       importance_type='gain', learning_rate=0.1, max_delta_step=0,\n",
       "       max_depth=3, min_child_weight=1, missing=None, n_estimators=100,\n",
       "       n_jobs=-1, nthread=None, objective='reg:linear', random_state=0,\n",
       "       reg_alpha=0, reg_lambda=1, scale_pos_weight=1, seed=None,\n",
       "       silent=None, subsample=1, verbosity=1)"
      ]
     },
     "execution_count": 18,
     "metadata": {},
     "output_type": "execute_result"
    }
   ],
   "source": [
    "model_xgb.fit(X_train, y_train)"
   ]
  },
  {
   "cell_type": "code",
   "execution_count": 19,
   "metadata": {},
   "outputs": [],
   "source": [
    "xgb_pred = np.expm1(model_xgb.predict(X_test))"
   ]
  },
  {
   "cell_type": "code",
   "execution_count": 20,
   "metadata": {},
   "outputs": [],
   "source": [
    "results = pd.DataFrame({'Id':test['Id'], 'SalePrice':xgb_pred})"
   ]
  },
  {
   "cell_type": "code",
   "execution_count": 21,
   "metadata": {},
   "outputs": [
    {
     "data": {
      "text/html": [
       "<div>\n",
       "<style scoped>\n",
       "    .dataframe tbody tr th:only-of-type {\n",
       "        vertical-align: middle;\n",
       "    }\n",
       "\n",
       "    .dataframe tbody tr th {\n",
       "        vertical-align: top;\n",
       "    }\n",
       "\n",
       "    .dataframe thead th {\n",
       "        text-align: right;\n",
       "    }\n",
       "</style>\n",
       "<table border=\"1\" class=\"dataframe\">\n",
       "  <thead>\n",
       "    <tr style=\"text-align: right;\">\n",
       "      <th></th>\n",
       "      <th>Id</th>\n",
       "      <th>SalePrice</th>\n",
       "    </tr>\n",
       "  </thead>\n",
       "  <tbody>\n",
       "    <tr>\n",
       "      <th>0</th>\n",
       "      <td>1461</td>\n",
       "      <td>125653.703125</td>\n",
       "    </tr>\n",
       "    <tr>\n",
       "      <th>1</th>\n",
       "      <td>1462</td>\n",
       "      <td>160502.281250</td>\n",
       "    </tr>\n",
       "    <tr>\n",
       "      <th>2</th>\n",
       "      <td>1463</td>\n",
       "      <td>176739.109375</td>\n",
       "    </tr>\n",
       "    <tr>\n",
       "      <th>3</th>\n",
       "      <td>1464</td>\n",
       "      <td>188878.718750</td>\n",
       "    </tr>\n",
       "    <tr>\n",
       "      <th>4</th>\n",
       "      <td>1465</td>\n",
       "      <td>197526.875000</td>\n",
       "    </tr>\n",
       "  </tbody>\n",
       "</table>\n",
       "</div>"
      ],
      "text/plain": [
       "     Id      SalePrice\n",
       "0  1461  125653.703125\n",
       "1  1462  160502.281250\n",
       "2  1463  176739.109375\n",
       "3  1464  188878.718750\n",
       "4  1465  197526.875000"
      ]
     },
     "execution_count": 21,
     "metadata": {},
     "output_type": "execute_result"
    }
   ],
   "source": [
    "results.head()"
   ]
  },
  {
   "cell_type": "code",
   "execution_count": 22,
   "metadata": {},
   "outputs": [],
   "source": [
    "results.to_csv('20191112_xgb_v1.csv', index=False)"
   ]
  },
  {
   "cell_type": "code",
   "execution_count": null,
   "metadata": {},
   "outputs": [],
   "source": []
  },
  {
   "cell_type": "code",
   "execution_count": 33,
   "metadata": {},
   "outputs": [],
   "source": [
    "stack_gen = StackingCVRegressor(regressors=(model_ridge, model_lasso,model_xgb), \n",
    "                               meta_regressor=model_lasso,\n",
    "                               use_features_in_secondary=True)"
   ]
  },
  {
   "cell_type": "code",
   "execution_count": 34,
   "metadata": {},
   "outputs": [
    {
     "name": "stdout",
     "output_type": "stream",
     "text": [
      "[11:10:35] WARNING: C:/Jenkins/workspace/xgboost-win64_release_0.90/src/objective/regression_obj.cu:152: reg:linear is now deprecated in favor of reg:squarederror.\n",
      "[11:10:35] WARNING: C:/Jenkins/workspace/xgboost-win64_release_0.90/src/objective/regression_obj.cu:152: reg:linear is now deprecated in favor of reg:squarederror.\n",
      "[11:10:36] WARNING: C:/Jenkins/workspace/xgboost-win64_release_0.90/src/objective/regression_obj.cu:152: reg:linear is now deprecated in favor of reg:squarederror.\n",
      "[11:10:36] WARNING: C:/Jenkins/workspace/xgboost-win64_release_0.90/src/objective/regression_obj.cu:152: reg:linear is now deprecated in favor of reg:squarederror.\n",
      "[11:10:36] WARNING: C:/Jenkins/workspace/xgboost-win64_release_0.90/src/objective/regression_obj.cu:152: reg:linear is now deprecated in favor of reg:squarederror.\n",
      "[11:11:46] WARNING: C:/Jenkins/workspace/xgboost-win64_release_0.90/src/objective/regression_obj.cu:152: reg:linear is now deprecated in favor of reg:squarederror.\n"
     ]
    },
    {
     "data": {
      "text/plain": [
       "StackingCVRegressor(cv=5,\n",
       "          meta_regressor=LassoCV(alphas=[1e-15, 1e-13, 1e-10, 1e-07, 0.0001, 0.001, 0.005, 0.01, 0.05, 0.1, 0.2, 1, 2, 5, 8, 10, 15, 20, 25, 30, 35, 40, 50, 80, 100, 200, 250, 300, 350, 400, 500, 600, 700, 1000, 5000, 7000, 9000, 11000],\n",
       "    copy_X=True, cv=10, eps=0.001, fit_intercept=True, max_iter=1000000,\n",
       "    n_alphas=100, n_jobs=-1, normalize=False, positive=False,\n",
       "    precompute='auto', random_state=None, selection='cyclic', tol=0.0001,\n",
       "    verbose=False),\n",
       "          n_jobs=None, pre_dispatch='2*n_jobs', random_state=None,\n",
       "          refit=True,\n",
       "          regressors=(RidgeCV(alphas=array([ 7. ,  7.1,  7.2,  7. ,  3. ,  7.5,  7.7,  7.8,  7.9,  8. ,  8.1,\n",
       "        8.2,  8.3,  8.4,  8.5,  9. , 10. ]),\n",
       "    cv=None, fit_intercept=True, gcv_mode=None, normalize=False,\n",
       "    scoring=None, store_cv_values=True), LassoCV(alphas=[1e-15, 1e-13, 1e-10, 1e-07, 0.000...alpha=0, reg_lambda=1, scale_pos_weight=1, seed=None,\n",
       "       silent=None, subsample=1, verbosity=1)),\n",
       "          shuffle=True, store_train_meta_features=False,\n",
       "          use_features_in_secondary=True, verbose=0)"
      ]
     },
     "execution_count": 34,
     "metadata": {},
     "output_type": "execute_result"
    }
   ],
   "source": [
    "stack_gen.fit(X_train, y_train)"
   ]
  },
  {
   "cell_type": "code",
   "execution_count": 37,
   "metadata": {},
   "outputs": [],
   "source": [
    "stacked_pred = np.expm1(stack_gen.predict(X_test.values))"
   ]
  },
  {
   "cell_type": "code",
   "execution_count": 38,
   "metadata": {},
   "outputs": [],
   "source": [
    "results = pd.DataFrame({'Id':test['Id'], 'SalePrice':stacked_pred})"
   ]
  },
  {
   "cell_type": "code",
   "execution_count": 39,
   "metadata": {},
   "outputs": [
    {
     "data": {
      "text/html": [
       "<div>\n",
       "<style scoped>\n",
       "    .dataframe tbody tr th:only-of-type {\n",
       "        vertical-align: middle;\n",
       "    }\n",
       "\n",
       "    .dataframe tbody tr th {\n",
       "        vertical-align: top;\n",
       "    }\n",
       "\n",
       "    .dataframe thead th {\n",
       "        text-align: right;\n",
       "    }\n",
       "</style>\n",
       "<table border=\"1\" class=\"dataframe\">\n",
       "  <thead>\n",
       "    <tr style=\"text-align: right;\">\n",
       "      <th></th>\n",
       "      <th>Id</th>\n",
       "      <th>SalePrice</th>\n",
       "    </tr>\n",
       "  </thead>\n",
       "  <tbody>\n",
       "    <tr>\n",
       "      <th>0</th>\n",
       "      <td>1461</td>\n",
       "      <td>115337.185417</td>\n",
       "    </tr>\n",
       "    <tr>\n",
       "      <th>1</th>\n",
       "      <td>1462</td>\n",
       "      <td>165841.494678</td>\n",
       "    </tr>\n",
       "    <tr>\n",
       "      <th>2</th>\n",
       "      <td>1463</td>\n",
       "      <td>180112.615290</td>\n",
       "    </tr>\n",
       "    <tr>\n",
       "      <th>3</th>\n",
       "      <td>1464</td>\n",
       "      <td>197746.482694</td>\n",
       "    </tr>\n",
       "    <tr>\n",
       "      <th>4</th>\n",
       "      <td>1465</td>\n",
       "      <td>198648.467458</td>\n",
       "    </tr>\n",
       "  </tbody>\n",
       "</table>\n",
       "</div>"
      ],
      "text/plain": [
       "     Id      SalePrice\n",
       "0  1461  115337.185417\n",
       "1  1462  165841.494678\n",
       "2  1463  180112.615290\n",
       "3  1464  197746.482694\n",
       "4  1465  198648.467458"
      ]
     },
     "execution_count": 39,
     "metadata": {},
     "output_type": "execute_result"
    }
   ],
   "source": [
    "results.head()"
   ]
  },
  {
   "cell_type": "code",
   "execution_count": 40,
   "metadata": {},
   "outputs": [],
   "source": [
    "results.to_csv('20191112_stacked_v3.csv', index=False)"
   ]
  },
  {
   "cell_type": "code",
   "execution_count": null,
   "metadata": {},
   "outputs": [],
   "source": []
  },
  {
   "cell_type": "code",
   "execution_count": null,
   "metadata": {},
   "outputs": [],
   "source": []
  },
  {
   "cell_type": "code",
   "execution_count": null,
   "metadata": {},
   "outputs": [],
   "source": []
  },
  {
   "cell_type": "code",
   "execution_count": 92,
   "metadata": {},
   "outputs": [],
   "source": [
    "# scores = []\n",
    "# for alpha in reg_alpha:\n",
    "#     for lamb in reg_lambda:\n",
    "#         model_xgb = XGB(n_jobs=-1,reg_alpha=alpha, reg_lambda=lamb)\n",
    "#         rmse = cv_rmse(model_xgb)\n",
    "#         scores.append(rmse.mean())\n",
    "        "
   ]
  },
  {
   "cell_type": "code",
   "execution_count": null,
   "metadata": {},
   "outputs": [],
   "source": []
  },
  {
   "cell_type": "code",
   "execution_count": null,
   "metadata": {},
   "outputs": [],
   "source": []
  },
  {
   "cell_type": "code",
   "execution_count": null,
   "metadata": {},
   "outputs": [],
   "source": []
  },
  {
   "cell_type": "code",
   "execution_count": null,
   "metadata": {},
   "outputs": [],
   "source": [
    "xgb_fit = xgb_model.fit(X_train, y_train)"
   ]
  },
  {
   "cell_type": "code",
   "execution_count": null,
   "metadata": {},
   "outputs": [],
   "source": []
  },
  {
   "cell_type": "code",
   "execution_count": null,
   "metadata": {},
   "outputs": [],
   "source": []
  },
  {
   "cell_type": "code",
   "execution_count": null,
   "metadata": {},
   "outputs": [],
   "source": []
  },
  {
   "cell_type": "markdown",
   "metadata": {},
   "source": [
    "### Ridge"
   ]
  },
  {
   "cell_type": "markdown",
   "metadata": {},
   "source": [
    "alphas_alt = [14.5, 14.6, 14.7, 14.8, 14.9, 15, 15.1, 15.2, 15.3, 15.4, 15.5]\n",
    "\n",
    "ridge_model = make_pipeline(RobustScaler(),\n",
    "                            RidgeCV(alphas = alphas_alt,\n",
    "                                    cv=5)).fit(X_train, y_train)"
   ]
  },
  {
   "cell_type": "markdown",
   "metadata": {},
   "source": [
    "### Lasso"
   ]
  },
  {
   "cell_type": "markdown",
   "metadata": {},
   "source": [
    "alphas = [0.00005, 0.0001, 0.0002, 0.0003, 0.0004, 0.0005,\n",
    "           0.0006, 0.0007, 0.0008]\n",
    "\n",
    "\n",
    "lasso_model2 = make_pipeline(RobustScaler(),\n",
    "                             LassoCV(max_iter=1e7,\n",
    "                                    alphas = alphas,\n",
    "                                    random_state = 42)).fit(X_train, y_train)"
   ]
  },
  {
   "cell_type": "markdown",
   "metadata": {},
   "source": [
    "### ElasticNet"
   ]
  },
  {
   "cell_type": "markdown",
   "metadata": {},
   "source": [
    "e_alphas = [0.0001, 0.0002, 0.0003, 0.0004, 0.0005, 0.0006, 0.0007]\n",
    "e_l1ratio = [0.8, 0.85, 0.9, 0.95, 0.99, 1]\n",
    "\n",
    "elastic_cv = make_pipeline(RobustScaler(), \n",
    "                           ElasticNetCV(max_iter=1e7, alphas=e_alphas, \n",
    "                                        cv=5, l1_ratio=e_l1ratio))\n",
    "\n",
    "elastic_model3 = elastic_cv.fit(X_train, y_train)"
   ]
  },
  {
   "cell_type": "markdown",
   "metadata": {},
   "source": [
    "### XGB"
   ]
  },
  {
   "cell_type": "markdown",
   "metadata": {},
   "source": [
    "xgb_model = XGB(learning_rate =0.01, n_estimators=3460, max_depth=3,\n",
    "                     min_child_weight=0 ,gamma=0, subsample=0.7,\n",
    "                     colsample_bytree=0.7,objective= 'reg:linear',\n",
    "                     nthread=4,scale_pos_weight=1,seed=27, reg_alpha=0.00006, n_jobs=-1)\n",
    "\n",
    "xgb_fit = xgb_model.fit(X_train, y_train)"
   ]
  },
  {
   "cell_type": "markdown",
   "metadata": {},
   "source": [
    "from sklearn import svm\n",
    "svr_opt = svm.SVR(C = 100000, gamma = 1e-08)\n",
    "\n",
    "svr_fit = svr_opt.fit(X_train, y_train)"
   ]
  },
  {
   "cell_type": "markdown",
   "metadata": {},
   "source": [
    "from lightgbm import LGBMRegressor\n",
    "\n",
    "lgbm_model = LGBMRegressor(objective='regression',num_leaves=5,\n",
    "                              learning_rate=0.05, n_estimators=720,\n",
    "                              max_bin = 55, bagging_fraction = 0.8,\n",
    "                              bagging_freq = 5, feature_fraction = 0.2319,\n",
    "                              feature_fraction_seed=9, bagging_seed=9,\n",
    "                              min_data_in_leaf =6, min_sum_hessian_in_leaf = 11)"
   ]
  },
  {
   "cell_type": "markdown",
   "metadata": {},
   "source": [
    "lgbm_fit = lgbm_model.fit(X_train, y_train)"
   ]
  },
  {
   "cell_type": "markdown",
   "metadata": {},
   "source": [
    "kfolds = 6\n",
    "ridge = make_pipeline(RobustScaler(), \n",
    "                      RidgeCV(alphas = alphas_alt, cv=kfolds))\n",
    "\n",
    "lasso = make_pipeline(RobustScaler(),\n",
    "                      LassoCV(max_iter=1e7, alphas = alphas,\n",
    "                              random_state = 42, cv=kfolds))\n",
    "\n",
    "elasticnet = make_pipeline(RobustScaler(), \n",
    "                           ElasticNetCV(max_iter=1e7, alphas=e_alphas, \n",
    "                                        cv=kfolds, l1_ratio=e_l1ratio))\n",
    "\n",
    "lightgbm = make_pipeline(RobustScaler(),\n",
    "                        LGBMRegressor(objective='regression',num_leaves=5,\n",
    "                                      learning_rate=0.05, n_estimators=720,\n",
    "                                      max_bin = 55, bagging_fraction = 0.8,\n",
    "                                      bagging_freq = 5, feature_fraction = 0.2319,\n",
    "                                      feature_fraction_seed=9, bagging_seed=9,\n",
    "                                      min_data_in_leaf =6, \n",
    "                                      min_sum_hessian_in_leaf = 11))\n",
    "\n",
    "xgboost = make_pipeline(RobustScaler(),\n",
    "                        XGB(learning_rate =0.01, n_estimators=3460, \n",
    "                                     max_depth=3,min_child_weight=0 ,\n",
    "                                     gamma=0, subsample=0.7,\n",
    "                                     colsample_bytree=0.7,\n",
    "                                     objective= 'reg:linear',\n",
    "                                     scale_pos_weight=1,seed=27, \n",
    "                                     reg_alpha=0.00006, n_jobs=-1))\n",
    "\n",
    "\n",
    "#stack\n",
    "stack_gen = StackingCVRegressor(regressors=(ridge, lasso, elasticnet, \n",
    "                                            xgboost, lightgbm), \n",
    "                               meta_regressor=xgboost,\n",
    "                               use_features_in_secondary=True)"
   ]
  },
  {
   "cell_type": "markdown",
   "metadata": {},
   "source": [
    "stackX = np.array(X_train)\n",
    "stacky = np.array(y_train)"
   ]
  },
  {
   "cell_type": "markdown",
   "metadata": {},
   "source": [
    "stack_gen_model = stack_gen.fit(stackX, stacky)"
   ]
  },
  {
   "cell_type": "markdown",
   "metadata": {},
   "source": [
    "ridge_pred = ridge_model.predict(test[features])\n",
    "lasso_pred = lasso_model2.predict(test[features])\n",
    "enet_pred = elastic_model3.predict(test[features])\n",
    "xgb_pred = xgb_fit.predict(test[features])\n",
    "svr_pred = svr_fit.predict(test[features])\n",
    "lgb_pred = lgbm_fit.predict(test[features])\n",
    "stack_pred = stack_gen_model.predict(test[features])"
   ]
  },
  {
   "cell_type": "markdown",
   "metadata": {},
   "source": [
    "stack_preds = ((0.1*enet_pred) + (0.15*lasso_pred) + (0.15*ridge_pred) + \n",
    "               (0.2*xgb_pred) + (0.1*lgb_pred) + (0.3*stack_pred))"
   ]
  },
  {
   "cell_type": "markdown",
   "metadata": {},
   "source": [
    "stack_preds"
   ]
  },
  {
   "cell_type": "markdown",
   "metadata": {},
   "source": [
    "pred = np.expm1(stack_preds)"
   ]
  },
  {
   "cell_type": "markdown",
   "metadata": {},
   "source": [
    "results = pd.DataFrame({'Id':test['Id'], 'SalePrice':pred})"
   ]
  },
  {
   "cell_type": "markdown",
   "metadata": {},
   "source": [
    "results.to_csv('20191106_v2.csv', index=False)"
   ]
  },
  {
   "cell_type": "markdown",
   "metadata": {},
   "source": [
    "\n"
   ]
  }
 ],
 "metadata": {
  "kernelspec": {
   "display_name": "Python 3",
   "language": "python",
   "name": "python3"
  },
  "language_info": {
   "codemirror_mode": {
    "name": "ipython",
    "version": 3
   },
   "file_extension": ".py",
   "mimetype": "text/x-python",
   "name": "python",
   "nbconvert_exporter": "python",
   "pygments_lexer": "ipython3",
   "version": "3.7.3"
  }
 },
 "nbformat": 4,
 "nbformat_minor": 2
}
