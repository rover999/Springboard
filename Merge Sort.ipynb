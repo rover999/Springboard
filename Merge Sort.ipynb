{
 "cells": [
  {
   "cell_type": "code",
   "execution_count": 39,
   "metadata": {},
   "outputs": [],
   "source": [
    "def mergesort(arr):\n",
    "    \n",
    "    if len(arr) == 1:\n",
    "        print(\"returned \" + str(arr[0]))\n",
    "        return arr\n",
    "    else: \n",
    "        mid = len(arr)//2\n",
    "        print(\"call to mergesort(left) where left is: \" + str(arr[:mid]))\n",
    "        left = mergesort(arr[:mid])\n",
    "        print(\"call to mergesort(right) where right is: \" + str(arr[mid:]))\n",
    "        right = mergesort(arr[mid:])\n",
    "        \n",
    "    \n",
    "   \n",
    "    print(\"call to merge function........\" + \"left is {} and right is {}\".format(left, right))\n",
    "    return merge(left, right)\n",
    "    \n",
    "    \n",
    "def merge(left, right):\n",
    "    i,j = 0, 0\n",
    "    sorted_list = []\n",
    "    while i < len(left) and j < len(right):\n",
    "        if left[i] >= right[j]:\n",
    "            sorted_list.append(right[j])\n",
    "            j += 1\n",
    "            print(\"sorted_list\" + str(sorted_list) + \" i = \" + str(i) + \" j = \" + str(j))\n",
    "            \n",
    "        else:\n",
    "            sorted_list.append(left[i])\n",
    "            i += 1\n",
    "            print(\"sorted_list\" + str(sorted_list) + \" i = \" + str(i) + \" j = \" + str(j))\n",
    "            \n",
    "    sorted_list += left[i:]\n",
    "    sorted_list += right[j:]\n",
    "    print('#---')\n",
    "    print(\"sorted list after the merge function: \" + str(sorted_list))\n",
    "    return(sorted_list)"
   ]
  },
  {
   "cell_type": "code",
   "execution_count": 42,
   "metadata": {},
   "outputs": [
    {
     "name": "stdout",
     "output_type": "stream",
     "text": [
      "call to mergesort(left) where left is: [6, 8, 4]\n",
      "call to mergesort(left) where left is: [6]\n",
      "returned 6\n",
      "call to mergesort(right) where right is: [8, 4]\n",
      "call to mergesort(left) where left is: [8]\n",
      "returned 8\n",
      "call to mergesort(right) where right is: [4]\n",
      "returned 4\n",
      "call to merge function........left is [8] and right is [4]\n",
      "sorted_list[4] i = 0 j = 1\n",
      "#---\n",
      "sorted list after the merge function: [4, 8]\n",
      "call to merge function........left is [6] and right is [4, 8]\n",
      "sorted_list[4] i = 0 j = 1\n",
      "sorted_list[4, 6] i = 1 j = 1\n",
      "#---\n",
      "sorted list after the merge function: [4, 6, 8]\n",
      "call to mergesort(right) where right is: [1, 3, 10, 1]\n",
      "call to mergesort(left) where left is: [1, 3]\n",
      "call to mergesort(left) where left is: [1]\n",
      "returned 1\n",
      "call to mergesort(right) where right is: [3]\n",
      "returned 3\n",
      "call to merge function........left is [1] and right is [3]\n",
      "sorted_list[1] i = 1 j = 0\n",
      "#---\n",
      "sorted list after the merge function: [1, 3]\n",
      "call to mergesort(right) where right is: [10, 1]\n",
      "call to mergesort(left) where left is: [10]\n",
      "returned 10\n",
      "call to mergesort(right) where right is: [1]\n",
      "returned 1\n",
      "call to merge function........left is [10] and right is [1]\n",
      "sorted_list[1] i = 0 j = 1\n",
      "#---\n",
      "sorted list after the merge function: [1, 10]\n",
      "call to merge function........left is [1, 3] and right is [1, 10]\n",
      "sorted_list[1] i = 0 j = 1\n",
      "sorted_list[1, 1] i = 1 j = 1\n",
      "sorted_list[1, 1, 3] i = 2 j = 1\n",
      "#---\n",
      "sorted list after the merge function: [1, 1, 3, 10]\n",
      "call to merge function........left is [4, 6, 8] and right is [1, 1, 3, 10]\n",
      "sorted_list[1] i = 0 j = 1\n",
      "sorted_list[1, 1] i = 0 j = 2\n",
      "sorted_list[1, 1, 3] i = 0 j = 3\n",
      "sorted_list[1, 1, 3, 4] i = 1 j = 3\n",
      "sorted_list[1, 1, 3, 4, 6] i = 2 j = 3\n",
      "sorted_list[1, 1, 3, 4, 6, 8] i = 3 j = 3\n",
      "#---\n",
      "sorted list after the merge function: [1, 1, 3, 4, 6, 8, 10]\n"
     ]
    },
    {
     "data": {
      "text/plain": [
       "[1, 1, 3, 4, 6, 8, 10]"
      ]
     },
     "execution_count": 42,
     "metadata": {},
     "output_type": "execute_result"
    }
   ],
   "source": [
    "arr = [6,8,4,1,3,10,1]\n",
    "mergesort(arr)"
   ]
  },
  {
   "cell_type": "code",
   "execution_count": null,
   "metadata": {},
   "outputs": [],
   "source": []
  },
  {
   "cell_type": "code",
   "execution_count": null,
   "metadata": {},
   "outputs": [],
   "source": []
  }
 ],
 "metadata": {
  "kernelspec": {
   "display_name": "Python 3",
   "language": "python",
   "name": "python3"
  },
  "language_info": {
   "codemirror_mode": {
    "name": "ipython",
    "version": 3
   },
   "file_extension": ".py",
   "mimetype": "text/x-python",
   "name": "python",
   "nbconvert_exporter": "python",
   "pygments_lexer": "ipython3",
   "version": "3.7.3"
  }
 },
 "nbformat": 4,
 "nbformat_minor": 2
}
