{
 "cells": [
  {
   "cell_type": "code",
   "execution_count": 139,
   "metadata": {},
   "outputs": [],
   "source": [
    "def partition(list,l,h):\n",
    "        i = l-1\n",
    "        pivot = list[h]\n",
    "        print(\"low, high, pivot inside partition func low={}, high={}, pivot={}\".format(l,h, pivot))\n",
    "        \n",
    "        for j in range(l,h):\n",
    "            if list[j] < pivot:\n",
    "                i += 1\n",
    "                list[i], list[j] = list[j], list[i]            \n",
    "            \n",
    "            print(\"list = {}\".format(list))\n",
    "        list[i+1], list[h] = list[h], list[i+1]\n",
    "       \n",
    "        \n",
    "        print(\"list after partition, list = {}\".format(list))\n",
    "        print(\"return {}\".format(i+1))\n",
    "        return (i+1)\n",
    "        \n",
    "\n",
    "    \n",
    "def quicksort(list,l, h):\n",
    "    if l < h:\n",
    "        print(\"index low={}, high={}\".format(l, h))\n",
    "        \n",
    "        print(\"call partition list={},l={},h={}\".format(list,l,h)) \n",
    "        pi = partition(list, l, h)\n",
    "\n",
    "        print(\"call quicksort left i.e.list={},l={},pi={}\".format(list,l,pi-1))    \n",
    "        quicksort(list, l, pi-1)\n",
    "        print(\"call quicksort right i.e.list={},l={},pi={}\".format(list,pi+1,h))  \n",
    "        quicksort(list,pi+1, h)\n"
   ]
  },
  {
   "cell_type": "code",
   "execution_count": 140,
   "metadata": {},
   "outputs": [
    {
     "name": "stdout",
     "output_type": "stream",
     "text": [
      "index low=0, high=5\n",
      "call partition list=[6, 2, 5, 3, 1, 4],l=0,h=5\n",
      "low, high, pivot inside partition func low=0, high=5, pivot=4\n",
      "list = [6, 2, 5, 3, 1, 4]\n",
      "list = [2, 6, 5, 3, 1, 4]\n",
      "list = [2, 6, 5, 3, 1, 4]\n",
      "list = [2, 3, 5, 6, 1, 4]\n",
      "list = [2, 3, 1, 6, 5, 4]\n",
      "list after partition, list = [2, 3, 1, 4, 5, 6]\n",
      "return 3\n",
      "call quicksort left i.e.list=[2, 3, 1, 4, 5, 6],l=0,pi=2\n",
      "index low=0, high=2\n",
      "call partition list=[2, 3, 1, 4, 5, 6],l=0,h=2\n",
      "low, high, pivot inside partition func low=0, high=2, pivot=1\n",
      "list = [2, 3, 1, 4, 5, 6]\n",
      "list = [2, 3, 1, 4, 5, 6]\n",
      "list after partition, list = [1, 3, 2, 4, 5, 6]\n",
      "return 0\n",
      "call quicksort left i.e.list=[1, 3, 2, 4, 5, 6],l=0,pi=-1\n",
      "call quicksort right i.e.list=[1, 3, 2, 4, 5, 6],l=1,pi=2\n",
      "index low=1, high=2\n",
      "call partition list=[1, 3, 2, 4, 5, 6],l=1,h=2\n",
      "low, high, pivot inside partition func low=1, high=2, pivot=2\n",
      "list = [1, 3, 2, 4, 5, 6]\n",
      "list after partition, list = [1, 2, 3, 4, 5, 6]\n",
      "return 1\n",
      "call quicksort left i.e.list=[1, 2, 3, 4, 5, 6],l=1,pi=0\n",
      "call quicksort right i.e.list=[1, 2, 3, 4, 5, 6],l=2,pi=2\n",
      "call quicksort right i.e.list=[1, 2, 3, 4, 5, 6],l=4,pi=5\n",
      "index low=4, high=5\n",
      "call partition list=[1, 2, 3, 4, 5, 6],l=4,h=5\n",
      "low, high, pivot inside partition func low=4, high=5, pivot=6\n",
      "list = [1, 2, 3, 4, 5, 6]\n",
      "list after partition, list = [1, 2, 3, 4, 5, 6]\n",
      "return 5\n",
      "call quicksort left i.e.list=[1, 2, 3, 4, 5, 6],l=4,pi=4\n",
      "call quicksort right i.e.list=[1, 2, 3, 4, 5, 6],l=6,pi=5\n"
     ]
    }
   ],
   "source": [
    "arr = [6,2,5,3,1,4] \n",
    "n = len(arr) \n",
    "quicksort(arr,0,n-1)"
   ]
  },
  {
   "cell_type": "code",
   "execution_count": null,
   "metadata": {},
   "outputs": [],
   "source": []
  }
 ],
 "metadata": {
  "kernelspec": {
   "display_name": "Python 3",
   "language": "python",
   "name": "python3"
  },
  "language_info": {
   "codemirror_mode": {
    "name": "ipython",
    "version": 3
   },
   "file_extension": ".py",
   "mimetype": "text/x-python",
   "name": "python",
   "nbconvert_exporter": "python",
   "pygments_lexer": "ipython3",
   "version": "3.7.3"
  }
 },
 "nbformat": 4,
 "nbformat_minor": 2
}
